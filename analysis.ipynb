{
 "cells": [
  {
   "cell_type": "code",
   "execution_count": 46,
   "id": "fa2798ab",
   "metadata": {},
   "outputs": [],
   "source": [
    "import pandas as pd \n",
    "import numpy as np\n",
    "import os\n",
    "import matplotlib.pyplot as plt\n",
    "import plotly.express as px\n",
    "from datetime import datetime as dt\n",
    "import warnings\n",
    "warnings.filterwarnings('ignore')"
   ]
  },
  {
   "cell_type": "code",
   "execution_count": 47,
   "id": "af86ff66",
   "metadata": {},
   "outputs": [
    {
     "data": {
      "text/html": [
       "<div>\n",
       "<style scoped>\n",
       "    .dataframe tbody tr th:only-of-type {\n",
       "        vertical-align: middle;\n",
       "    }\n",
       "\n",
       "    .dataframe tbody tr th {\n",
       "        vertical-align: top;\n",
       "    }\n",
       "\n",
       "    .dataframe thead th {\n",
       "        text-align: right;\n",
       "    }\n",
       "</style>\n",
       "<table border=\"1\" class=\"dataframe\">\n",
       "  <thead>\n",
       "    <tr style=\"text-align: right;\">\n",
       "      <th></th>\n",
       "      <th>Draw Date</th>\n",
       "      <th>Winning Numbers</th>\n",
       "      <th>Multiplier</th>\n",
       "    </tr>\n",
       "  </thead>\n",
       "  <tbody>\n",
       "    <tr>\n",
       "      <th>0</th>\n",
       "      <td>09/26/2020</td>\n",
       "      <td>11 21 27 36 62 24</td>\n",
       "      <td>3.0</td>\n",
       "    </tr>\n",
       "    <tr>\n",
       "      <th>1</th>\n",
       "      <td>09/30/2020</td>\n",
       "      <td>14 18 36 49 67 18</td>\n",
       "      <td>2.0</td>\n",
       "    </tr>\n",
       "    <tr>\n",
       "      <th>2</th>\n",
       "      <td>10/03/2020</td>\n",
       "      <td>18 31 36 43 47 20</td>\n",
       "      <td>2.0</td>\n",
       "    </tr>\n",
       "    <tr>\n",
       "      <th>3</th>\n",
       "      <td>10/07/2020</td>\n",
       "      <td>06 24 30 53 56 19</td>\n",
       "      <td>2.0</td>\n",
       "    </tr>\n",
       "    <tr>\n",
       "      <th>4</th>\n",
       "      <td>10/10/2020</td>\n",
       "      <td>05 18 23 40 50 18</td>\n",
       "      <td>3.0</td>\n",
       "    </tr>\n",
       "  </tbody>\n",
       "</table>\n",
       "</div>"
      ],
      "text/plain": [
       "    Draw Date    Winning Numbers  Multiplier\n",
       "0  09/26/2020  11 21 27 36 62 24         3.0\n",
       "1  09/30/2020  14 18 36 49 67 18         2.0\n",
       "2  10/03/2020  18 31 36 43 47 20         2.0\n",
       "3  10/07/2020  06 24 30 53 56 19         2.0\n",
       "4  10/10/2020  05 18 23 40 50 18         3.0"
      ]
     },
     "execution_count": 47,
     "metadata": {},
     "output_type": "execute_result"
    }
   ],
   "source": [
    "data = pd.read_csv(\"Lottery_Powerball_Winning_Numbers__Beginning_2010.csv\")\n",
    "data.head()"
   ]
  },
  {
   "cell_type": "code",
   "execution_count": 48,
   "id": "600a5769",
   "metadata": {},
   "outputs": [
    {
     "data": {
      "text/html": [
       "<div>\n",
       "<style scoped>\n",
       "    .dataframe tbody tr th:only-of-type {\n",
       "        vertical-align: middle;\n",
       "    }\n",
       "\n",
       "    .dataframe tbody tr th {\n",
       "        vertical-align: top;\n",
       "    }\n",
       "\n",
       "    .dataframe thead th {\n",
       "        text-align: right;\n",
       "    }\n",
       "</style>\n",
       "<table border=\"1\" class=\"dataframe\">\n",
       "  <thead>\n",
       "    <tr style=\"text-align: right;\">\n",
       "      <th></th>\n",
       "      <th>Draw Date</th>\n",
       "      <th>Winning Numbers</th>\n",
       "      <th>Multiplier</th>\n",
       "    </tr>\n",
       "  </thead>\n",
       "  <tbody>\n",
       "    <tr>\n",
       "      <th>0</th>\n",
       "      <td>2020-09-26</td>\n",
       "      <td>11 21 27 36 62 24</td>\n",
       "      <td>3.0</td>\n",
       "    </tr>\n",
       "    <tr>\n",
       "      <th>1</th>\n",
       "      <td>2020-09-30</td>\n",
       "      <td>14 18 36 49 67 18</td>\n",
       "      <td>2.0</td>\n",
       "    </tr>\n",
       "    <tr>\n",
       "      <th>2</th>\n",
       "      <td>2020-10-03</td>\n",
       "      <td>18 31 36 43 47 20</td>\n",
       "      <td>2.0</td>\n",
       "    </tr>\n",
       "    <tr>\n",
       "      <th>3</th>\n",
       "      <td>2020-10-07</td>\n",
       "      <td>06 24 30 53 56 19</td>\n",
       "      <td>2.0</td>\n",
       "    </tr>\n",
       "    <tr>\n",
       "      <th>4</th>\n",
       "      <td>2020-10-10</td>\n",
       "      <td>05 18 23 40 50 18</td>\n",
       "      <td>3.0</td>\n",
       "    </tr>\n",
       "    <tr>\n",
       "      <th>...</th>\n",
       "      <td>...</td>\n",
       "      <td>...</td>\n",
       "      <td>...</td>\n",
       "    </tr>\n",
       "    <tr>\n",
       "      <th>1825</th>\n",
       "      <td>2025-08-20</td>\n",
       "      <td>31 59 62 65 68 05</td>\n",
       "      <td>2.0</td>\n",
       "    </tr>\n",
       "    <tr>\n",
       "      <th>1826</th>\n",
       "      <td>2025-08-23</td>\n",
       "      <td>11 14 34 47 51 18</td>\n",
       "      <td>2.0</td>\n",
       "    </tr>\n",
       "    <tr>\n",
       "      <th>1827</th>\n",
       "      <td>2025-08-25</td>\n",
       "      <td>16 19 34 37 64 22</td>\n",
       "      <td>3.0</td>\n",
       "    </tr>\n",
       "    <tr>\n",
       "      <th>1828</th>\n",
       "      <td>2025-08-27</td>\n",
       "      <td>09 12 22 41 61 25</td>\n",
       "      <td>4.0</td>\n",
       "    </tr>\n",
       "    <tr>\n",
       "      <th>1829</th>\n",
       "      <td>2025-08-30</td>\n",
       "      <td>03 18 22 27 33 17</td>\n",
       "      <td>3.0</td>\n",
       "    </tr>\n",
       "  </tbody>\n",
       "</table>\n",
       "<p>1830 rows × 3 columns</p>\n",
       "</div>"
      ],
      "text/plain": [
       "      Draw Date    Winning Numbers  Multiplier\n",
       "0    2020-09-26  11 21 27 36 62 24         3.0\n",
       "1    2020-09-30  14 18 36 49 67 18         2.0\n",
       "2    2020-10-03  18 31 36 43 47 20         2.0\n",
       "3    2020-10-07  06 24 30 53 56 19         2.0\n",
       "4    2020-10-10  05 18 23 40 50 18         3.0\n",
       "...         ...                ...         ...\n",
       "1825 2025-08-20  31 59 62 65 68 05         2.0\n",
       "1826 2025-08-23  11 14 34 47 51 18         2.0\n",
       "1827 2025-08-25  16 19 34 37 64 22         3.0\n",
       "1828 2025-08-27  09 12 22 41 61 25         4.0\n",
       "1829 2025-08-30  03 18 22 27 33 17         3.0\n",
       "\n",
       "[1830 rows x 3 columns]"
      ]
     },
     "execution_count": 48,
     "metadata": {},
     "output_type": "execute_result"
    }
   ],
   "source": [
    "data['Draw Date'] = pd.to_datetime(data['Draw Date'])\n",
    "data"
   ]
  },
  {
   "cell_type": "code",
   "execution_count": 49,
   "id": "02030eaf",
   "metadata": {},
   "outputs": [
    {
     "data": {
      "text/plain": [
       "370"
      ]
     },
     "execution_count": 49,
     "metadata": {},
     "output_type": "execute_result"
    }
   ],
   "source": [
    "start_date = dt(2022,4,23)\n",
    "end_date = dt(2024, 9,6)\n",
    "\n",
    "# start_date = data['Draw Date'].min()\n",
    "# end_date = data['Draw Date'].max()\n",
    "\n",
    "\n",
    "data = data[data['Draw Date'].apply(lambda x: start_date<x<end_date)]\n",
    "data.shape[0]"
   ]
  },
  {
   "cell_type": "code",
   "execution_count": 50,
   "id": "eed39840",
   "metadata": {},
   "outputs": [
    {
     "data": {
      "text/html": [
       "<div>\n",
       "<style scoped>\n",
       "    .dataframe tbody tr th:only-of-type {\n",
       "        vertical-align: middle;\n",
       "    }\n",
       "\n",
       "    .dataframe tbody tr th {\n",
       "        vertical-align: top;\n",
       "    }\n",
       "\n",
       "    .dataframe thead th {\n",
       "        text-align: right;\n",
       "    }\n",
       "</style>\n",
       "<table border=\"1\" class=\"dataframe\">\n",
       "  <thead>\n",
       "    <tr style=\"text-align: right;\">\n",
       "      <th></th>\n",
       "      <th>Draw Date</th>\n",
       "      <th>Winning Numbers</th>\n",
       "      <th>Multiplier</th>\n",
       "      <th>#1</th>\n",
       "      <th>#2</th>\n",
       "      <th>#3</th>\n",
       "      <th>#4</th>\n",
       "      <th>#5</th>\n",
       "      <th>PowerBall</th>\n",
       "    </tr>\n",
       "  </thead>\n",
       "  <tbody>\n",
       "    <tr>\n",
       "      <th>1305</th>\n",
       "      <td>2022-04-25</td>\n",
       "      <td>12 18 20 39 61 10</td>\n",
       "      <td>2.0</td>\n",
       "      <td>12</td>\n",
       "      <td>18</td>\n",
       "      <td>20</td>\n",
       "      <td>39</td>\n",
       "      <td>61</td>\n",
       "      <td>10</td>\n",
       "    </tr>\n",
       "    <tr>\n",
       "      <th>1306</th>\n",
       "      <td>2022-04-27</td>\n",
       "      <td>11 36 61 62 68 04</td>\n",
       "      <td>2.0</td>\n",
       "      <td>11</td>\n",
       "      <td>36</td>\n",
       "      <td>61</td>\n",
       "      <td>62</td>\n",
       "      <td>68</td>\n",
       "      <td>04</td>\n",
       "    </tr>\n",
       "    <tr>\n",
       "      <th>1307</th>\n",
       "      <td>2022-04-30</td>\n",
       "      <td>14 21 37 44 63 01</td>\n",
       "      <td>3.0</td>\n",
       "      <td>14</td>\n",
       "      <td>21</td>\n",
       "      <td>37</td>\n",
       "      <td>44</td>\n",
       "      <td>63</td>\n",
       "      <td>01</td>\n",
       "    </tr>\n",
       "    <tr>\n",
       "      <th>1308</th>\n",
       "      <td>2022-05-02</td>\n",
       "      <td>18 27 33 39 44 08</td>\n",
       "      <td>5.0</td>\n",
       "      <td>18</td>\n",
       "      <td>27</td>\n",
       "      <td>33</td>\n",
       "      <td>39</td>\n",
       "      <td>44</td>\n",
       "      <td>08</td>\n",
       "    </tr>\n",
       "    <tr>\n",
       "      <th>1309</th>\n",
       "      <td>2022-05-04</td>\n",
       "      <td>37 39 55 63 69 23</td>\n",
       "      <td>2.0</td>\n",
       "      <td>37</td>\n",
       "      <td>39</td>\n",
       "      <td>55</td>\n",
       "      <td>63</td>\n",
       "      <td>69</td>\n",
       "      <td>23</td>\n",
       "    </tr>\n",
       "    <tr>\n",
       "      <th>...</th>\n",
       "      <td>...</td>\n",
       "      <td>...</td>\n",
       "      <td>...</td>\n",
       "      <td>...</td>\n",
       "      <td>...</td>\n",
       "      <td>...</td>\n",
       "      <td>...</td>\n",
       "      <td>...</td>\n",
       "      <td>...</td>\n",
       "    </tr>\n",
       "    <tr>\n",
       "      <th>1671</th>\n",
       "      <td>2024-08-26</td>\n",
       "      <td>02 04 23 68 69 15</td>\n",
       "      <td>3.0</td>\n",
       "      <td>02</td>\n",
       "      <td>04</td>\n",
       "      <td>23</td>\n",
       "      <td>68</td>\n",
       "      <td>69</td>\n",
       "      <td>15</td>\n",
       "    </tr>\n",
       "    <tr>\n",
       "      <th>1672</th>\n",
       "      <td>2024-08-28</td>\n",
       "      <td>05 33 47 50 64 20</td>\n",
       "      <td>2.0</td>\n",
       "      <td>05</td>\n",
       "      <td>33</td>\n",
       "      <td>47</td>\n",
       "      <td>50</td>\n",
       "      <td>64</td>\n",
       "      <td>20</td>\n",
       "    </tr>\n",
       "    <tr>\n",
       "      <th>1673</th>\n",
       "      <td>2024-08-31</td>\n",
       "      <td>04 34 35 38 69 19</td>\n",
       "      <td>2.0</td>\n",
       "      <td>04</td>\n",
       "      <td>34</td>\n",
       "      <td>35</td>\n",
       "      <td>38</td>\n",
       "      <td>69</td>\n",
       "      <td>19</td>\n",
       "    </tr>\n",
       "    <tr>\n",
       "      <th>1674</th>\n",
       "      <td>2024-09-02</td>\n",
       "      <td>08 42 46 48 53 22</td>\n",
       "      <td>3.0</td>\n",
       "      <td>08</td>\n",
       "      <td>42</td>\n",
       "      <td>46</td>\n",
       "      <td>48</td>\n",
       "      <td>53</td>\n",
       "      <td>22</td>\n",
       "    </tr>\n",
       "    <tr>\n",
       "      <th>1675</th>\n",
       "      <td>2024-09-04</td>\n",
       "      <td>07 10 21 33 59 20</td>\n",
       "      <td>3.0</td>\n",
       "      <td>07</td>\n",
       "      <td>10</td>\n",
       "      <td>21</td>\n",
       "      <td>33</td>\n",
       "      <td>59</td>\n",
       "      <td>20</td>\n",
       "    </tr>\n",
       "  </tbody>\n",
       "</table>\n",
       "<p>370 rows × 9 columns</p>\n",
       "</div>"
      ],
      "text/plain": [
       "      Draw Date    Winning Numbers  Multiplier  #1  #2  #3  #4  #5 PowerBall\n",
       "1305 2022-04-25  12 18 20 39 61 10         2.0  12  18  20  39  61        10\n",
       "1306 2022-04-27  11 36 61 62 68 04         2.0  11  36  61  62  68        04\n",
       "1307 2022-04-30  14 21 37 44 63 01         3.0  14  21  37  44  63        01\n",
       "1308 2022-05-02  18 27 33 39 44 08         5.0  18  27  33  39  44        08\n",
       "1309 2022-05-04  37 39 55 63 69 23         2.0  37  39  55  63  69        23\n",
       "...         ...                ...         ...  ..  ..  ..  ..  ..       ...\n",
       "1671 2024-08-26  02 04 23 68 69 15         3.0  02  04  23  68  69        15\n",
       "1672 2024-08-28  05 33 47 50 64 20         2.0  05  33  47  50  64        20\n",
       "1673 2024-08-31  04 34 35 38 69 19         2.0  04  34  35  38  69        19\n",
       "1674 2024-09-02  08 42 46 48 53 22         3.0  08  42  46  48  53        22\n",
       "1675 2024-09-04  07 10 21 33 59 20         3.0  07  10  21  33  59        20\n",
       "\n",
       "[370 rows x 9 columns]"
      ]
     },
     "execution_count": 50,
     "metadata": {},
     "output_type": "execute_result"
    }
   ],
   "source": [
    "num_cols = [f'#{k}' for k in range(1,6)] + ['PowerBall']\n",
    "data[num_cols] = data['Winning Numbers'].str.split(expand = True)\n",
    "data"
   ]
  },
  {
   "cell_type": "code",
   "execution_count": 78,
   "id": "8f4827c7",
   "metadata": {},
   "outputs": [
    {
     "data": {
      "application/vnd.plotly.v1+json": {
       "config": {
        "plotlyServerURL": "https://plot.ly"
       },
       "data": [
        {
         "alignmentgroup": "True",
         "bingroup": "x",
         "hovertemplate": "variable=PowerBall<br>value=%{x}<br>count=%{y}<extra></extra>",
         "legendgroup": "PowerBall",
         "marker": {
          "color": "#636efa",
          "pattern": {
           "shape": ""
          }
         },
         "name": "PowerBall",
         "nbinsx": 100,
         "offsetgroup": "PowerBall",
         "orientation": "v",
         "showlegend": true,
         "type": "histogram",
         "x": [
          10,
          4,
          1,
          8,
          23,
          10,
          5,
          18,
          9,
          13,
          17,
          11,
          26,
          17,
          15,
          22,
          2,
          16,
          4,
          7,
          5,
          25,
          7,
          25,
          13,
          12,
          4,
          16,
          14,
          26,
          4,
          13,
          24,
          9,
          2,
          21,
          5,
          22,
          12,
          5,
          26,
          12,
          16,
          11,
          3,
          12,
          19,
          2,
          5,
          24,
          7,
          9,
          22,
          14,
          18,
          1,
          9,
          25,
          20,
          4,
          25,
          25,
          1,
          7,
          7,
          14,
          20,
          11,
          26,
          22,
          6,
          5,
          11,
          6,
          15,
          25,
          10,
          18,
          16,
          24,
          23,
          13,
          23,
          20,
          7,
          6,
          21,
          11,
          10,
          2,
          25,
          3,
          20,
          10,
          7,
          14,
          21,
          19,
          9,
          25,
          12,
          12,
          14,
          8,
          17,
          1,
          11,
          22,
          26,
          14,
          14,
          5,
          23,
          3,
          26,
          22,
          23,
          18,
          15,
          5,
          9,
          10,
          7,
          9,
          11,
          2,
          12,
          23,
          15,
          7,
          26,
          23,
          4,
          16,
          4,
          4,
          24,
          4,
          8,
          11,
          14,
          5,
          19,
          14,
          7,
          17,
          1,
          11,
          18,
          14,
          4,
          18,
          25,
          11,
          25,
          3,
          6,
          8,
          1,
          23,
          6,
          12,
          3,
          11,
          25,
          14,
          23,
          25,
          26,
          4,
          24,
          14,
          18,
          20,
          2,
          4,
          7,
          4,
          26,
          1,
          14,
          19,
          12,
          4,
          8,
          3,
          23,
          18,
          13,
          20,
          18,
          21,
          24,
          7,
          25,
          14,
          2,
          13,
          5,
          23,
          22,
          3,
          26,
          3,
          1,
          13,
          16,
          20,
          5,
          26,
          4,
          19,
          13,
          1,
          25,
          5,
          18,
          5,
          9,
          23,
          21,
          4,
          7,
          22,
          5,
          1,
          19,
          14,
          10,
          14,
          18,
          24,
          11,
          20,
          21,
          2,
          2,
          5,
          12,
          6,
          26,
          20,
          7,
          21,
          6,
          13,
          21,
          9,
          12,
          4,
          3,
          9,
          21,
          1,
          20,
          18,
          25,
          26,
          16,
          6,
          4,
          5,
          7,
          1,
          8,
          13,
          2,
          11,
          15,
          4,
          2,
          10,
          21,
          8,
          21,
          4,
          14,
          19,
          9,
          17,
          8,
          14,
          18,
          21,
          17,
          14,
          3,
          16,
          6,
          12,
          26,
          10,
          16,
          5,
          4,
          5,
          16,
          9,
          3,
          23,
          8,
          23,
          23,
          15,
          9,
          23,
          15,
          10,
          23,
          2,
          25,
          1,
          21,
          23,
          14,
          15,
          4,
          25,
          5,
          21,
          1,
          6,
          19,
          5,
          4,
          24,
          21,
          9,
          8,
          16,
          12,
          15,
          9,
          21,
          2,
          9,
          7,
          21,
          8,
          7,
          25,
          9,
          22,
          21,
          1,
          26,
          21,
          23,
          26,
          4,
          20,
          13,
          17,
          16,
          7,
          20,
          12,
          9,
          9,
          14,
          13,
          22,
          10,
          3,
          17,
          15,
          20,
          19,
          22,
          20
         ],
         "xaxis": "x",
         "yaxis": "y"
        }
       ],
       "layout": {
        "barmode": "relative",
        "legend": {
         "title": {
          "text": "variable"
         },
         "tracegroupgap": 0
        },
        "margin": {
         "t": 60
        },
        "template": {
         "data": {
          "bar": [
           {
            "error_x": {
             "color": "#2a3f5f"
            },
            "error_y": {
             "color": "#2a3f5f"
            },
            "marker": {
             "line": {
              "color": "#E5ECF6",
              "width": 0.5
             },
             "pattern": {
              "fillmode": "overlay",
              "size": 10,
              "solidity": 0.2
             }
            },
            "type": "bar"
           }
          ],
          "barpolar": [
           {
            "marker": {
             "line": {
              "color": "#E5ECF6",
              "width": 0.5
             },
             "pattern": {
              "fillmode": "overlay",
              "size": 10,
              "solidity": 0.2
             }
            },
            "type": "barpolar"
           }
          ],
          "carpet": [
           {
            "aaxis": {
             "endlinecolor": "#2a3f5f",
             "gridcolor": "white",
             "linecolor": "white",
             "minorgridcolor": "white",
             "startlinecolor": "#2a3f5f"
            },
            "baxis": {
             "endlinecolor": "#2a3f5f",
             "gridcolor": "white",
             "linecolor": "white",
             "minorgridcolor": "white",
             "startlinecolor": "#2a3f5f"
            },
            "type": "carpet"
           }
          ],
          "choropleth": [
           {
            "colorbar": {
             "outlinewidth": 0,
             "ticks": ""
            },
            "type": "choropleth"
           }
          ],
          "contour": [
           {
            "colorbar": {
             "outlinewidth": 0,
             "ticks": ""
            },
            "colorscale": [
             [
              0,
              "#0d0887"
             ],
             [
              0.1111111111111111,
              "#46039f"
             ],
             [
              0.2222222222222222,
              "#7201a8"
             ],
             [
              0.3333333333333333,
              "#9c179e"
             ],
             [
              0.4444444444444444,
              "#bd3786"
             ],
             [
              0.5555555555555556,
              "#d8576b"
             ],
             [
              0.6666666666666666,
              "#ed7953"
             ],
             [
              0.7777777777777778,
              "#fb9f3a"
             ],
             [
              0.8888888888888888,
              "#fdca26"
             ],
             [
              1,
              "#f0f921"
             ]
            ],
            "type": "contour"
           }
          ],
          "contourcarpet": [
           {
            "colorbar": {
             "outlinewidth": 0,
             "ticks": ""
            },
            "type": "contourcarpet"
           }
          ],
          "heatmap": [
           {
            "colorbar": {
             "outlinewidth": 0,
             "ticks": ""
            },
            "colorscale": [
             [
              0,
              "#0d0887"
             ],
             [
              0.1111111111111111,
              "#46039f"
             ],
             [
              0.2222222222222222,
              "#7201a8"
             ],
             [
              0.3333333333333333,
              "#9c179e"
             ],
             [
              0.4444444444444444,
              "#bd3786"
             ],
             [
              0.5555555555555556,
              "#d8576b"
             ],
             [
              0.6666666666666666,
              "#ed7953"
             ],
             [
              0.7777777777777778,
              "#fb9f3a"
             ],
             [
              0.8888888888888888,
              "#fdca26"
             ],
             [
              1,
              "#f0f921"
             ]
            ],
            "type": "heatmap"
           }
          ],
          "heatmapgl": [
           {
            "colorbar": {
             "outlinewidth": 0,
             "ticks": ""
            },
            "colorscale": [
             [
              0,
              "#0d0887"
             ],
             [
              0.1111111111111111,
              "#46039f"
             ],
             [
              0.2222222222222222,
              "#7201a8"
             ],
             [
              0.3333333333333333,
              "#9c179e"
             ],
             [
              0.4444444444444444,
              "#bd3786"
             ],
             [
              0.5555555555555556,
              "#d8576b"
             ],
             [
              0.6666666666666666,
              "#ed7953"
             ],
             [
              0.7777777777777778,
              "#fb9f3a"
             ],
             [
              0.8888888888888888,
              "#fdca26"
             ],
             [
              1,
              "#f0f921"
             ]
            ],
            "type": "heatmapgl"
           }
          ],
          "histogram": [
           {
            "marker": {
             "pattern": {
              "fillmode": "overlay",
              "size": 10,
              "solidity": 0.2
             }
            },
            "type": "histogram"
           }
          ],
          "histogram2d": [
           {
            "colorbar": {
             "outlinewidth": 0,
             "ticks": ""
            },
            "colorscale": [
             [
              0,
              "#0d0887"
             ],
             [
              0.1111111111111111,
              "#46039f"
             ],
             [
              0.2222222222222222,
              "#7201a8"
             ],
             [
              0.3333333333333333,
              "#9c179e"
             ],
             [
              0.4444444444444444,
              "#bd3786"
             ],
             [
              0.5555555555555556,
              "#d8576b"
             ],
             [
              0.6666666666666666,
              "#ed7953"
             ],
             [
              0.7777777777777778,
              "#fb9f3a"
             ],
             [
              0.8888888888888888,
              "#fdca26"
             ],
             [
              1,
              "#f0f921"
             ]
            ],
            "type": "histogram2d"
           }
          ],
          "histogram2dcontour": [
           {
            "colorbar": {
             "outlinewidth": 0,
             "ticks": ""
            },
            "colorscale": [
             [
              0,
              "#0d0887"
             ],
             [
              0.1111111111111111,
              "#46039f"
             ],
             [
              0.2222222222222222,
              "#7201a8"
             ],
             [
              0.3333333333333333,
              "#9c179e"
             ],
             [
              0.4444444444444444,
              "#bd3786"
             ],
             [
              0.5555555555555556,
              "#d8576b"
             ],
             [
              0.6666666666666666,
              "#ed7953"
             ],
             [
              0.7777777777777778,
              "#fb9f3a"
             ],
             [
              0.8888888888888888,
              "#fdca26"
             ],
             [
              1,
              "#f0f921"
             ]
            ],
            "type": "histogram2dcontour"
           }
          ],
          "mesh3d": [
           {
            "colorbar": {
             "outlinewidth": 0,
             "ticks": ""
            },
            "type": "mesh3d"
           }
          ],
          "parcoords": [
           {
            "line": {
             "colorbar": {
              "outlinewidth": 0,
              "ticks": ""
             }
            },
            "type": "parcoords"
           }
          ],
          "pie": [
           {
            "automargin": true,
            "type": "pie"
           }
          ],
          "scatter": [
           {
            "fillpattern": {
             "fillmode": "overlay",
             "size": 10,
             "solidity": 0.2
            },
            "type": "scatter"
           }
          ],
          "scatter3d": [
           {
            "line": {
             "colorbar": {
              "outlinewidth": 0,
              "ticks": ""
             }
            },
            "marker": {
             "colorbar": {
              "outlinewidth": 0,
              "ticks": ""
             }
            },
            "type": "scatter3d"
           }
          ],
          "scattercarpet": [
           {
            "marker": {
             "colorbar": {
              "outlinewidth": 0,
              "ticks": ""
             }
            },
            "type": "scattercarpet"
           }
          ],
          "scattergeo": [
           {
            "marker": {
             "colorbar": {
              "outlinewidth": 0,
              "ticks": ""
             }
            },
            "type": "scattergeo"
           }
          ],
          "scattergl": [
           {
            "marker": {
             "colorbar": {
              "outlinewidth": 0,
              "ticks": ""
             }
            },
            "type": "scattergl"
           }
          ],
          "scattermapbox": [
           {
            "marker": {
             "colorbar": {
              "outlinewidth": 0,
              "ticks": ""
             }
            },
            "type": "scattermapbox"
           }
          ],
          "scatterpolar": [
           {
            "marker": {
             "colorbar": {
              "outlinewidth": 0,
              "ticks": ""
             }
            },
            "type": "scatterpolar"
           }
          ],
          "scatterpolargl": [
           {
            "marker": {
             "colorbar": {
              "outlinewidth": 0,
              "ticks": ""
             }
            },
            "type": "scatterpolargl"
           }
          ],
          "scatterternary": [
           {
            "marker": {
             "colorbar": {
              "outlinewidth": 0,
              "ticks": ""
             }
            },
            "type": "scatterternary"
           }
          ],
          "surface": [
           {
            "colorbar": {
             "outlinewidth": 0,
             "ticks": ""
            },
            "colorscale": [
             [
              0,
              "#0d0887"
             ],
             [
              0.1111111111111111,
              "#46039f"
             ],
             [
              0.2222222222222222,
              "#7201a8"
             ],
             [
              0.3333333333333333,
              "#9c179e"
             ],
             [
              0.4444444444444444,
              "#bd3786"
             ],
             [
              0.5555555555555556,
              "#d8576b"
             ],
             [
              0.6666666666666666,
              "#ed7953"
             ],
             [
              0.7777777777777778,
              "#fb9f3a"
             ],
             [
              0.8888888888888888,
              "#fdca26"
             ],
             [
              1,
              "#f0f921"
             ]
            ],
            "type": "surface"
           }
          ],
          "table": [
           {
            "cells": {
             "fill": {
              "color": "#EBF0F8"
             },
             "line": {
              "color": "white"
             }
            },
            "header": {
             "fill": {
              "color": "#C8D4E3"
             },
             "line": {
              "color": "white"
             }
            },
            "type": "table"
           }
          ]
         },
         "layout": {
          "annotationdefaults": {
           "arrowcolor": "#2a3f5f",
           "arrowhead": 0,
           "arrowwidth": 1
          },
          "autotypenumbers": "strict",
          "coloraxis": {
           "colorbar": {
            "outlinewidth": 0,
            "ticks": ""
           }
          },
          "colorscale": {
           "diverging": [
            [
             0,
             "#8e0152"
            ],
            [
             0.1,
             "#c51b7d"
            ],
            [
             0.2,
             "#de77ae"
            ],
            [
             0.3,
             "#f1b6da"
            ],
            [
             0.4,
             "#fde0ef"
            ],
            [
             0.5,
             "#f7f7f7"
            ],
            [
             0.6,
             "#e6f5d0"
            ],
            [
             0.7,
             "#b8e186"
            ],
            [
             0.8,
             "#7fbc41"
            ],
            [
             0.9,
             "#4d9221"
            ],
            [
             1,
             "#276419"
            ]
           ],
           "sequential": [
            [
             0,
             "#0d0887"
            ],
            [
             0.1111111111111111,
             "#46039f"
            ],
            [
             0.2222222222222222,
             "#7201a8"
            ],
            [
             0.3333333333333333,
             "#9c179e"
            ],
            [
             0.4444444444444444,
             "#bd3786"
            ],
            [
             0.5555555555555556,
             "#d8576b"
            ],
            [
             0.6666666666666666,
             "#ed7953"
            ],
            [
             0.7777777777777778,
             "#fb9f3a"
            ],
            [
             0.8888888888888888,
             "#fdca26"
            ],
            [
             1,
             "#f0f921"
            ]
           ],
           "sequentialminus": [
            [
             0,
             "#0d0887"
            ],
            [
             0.1111111111111111,
             "#46039f"
            ],
            [
             0.2222222222222222,
             "#7201a8"
            ],
            [
             0.3333333333333333,
             "#9c179e"
            ],
            [
             0.4444444444444444,
             "#bd3786"
            ],
            [
             0.5555555555555556,
             "#d8576b"
            ],
            [
             0.6666666666666666,
             "#ed7953"
            ],
            [
             0.7777777777777778,
             "#fb9f3a"
            ],
            [
             0.8888888888888888,
             "#fdca26"
            ],
            [
             1,
             "#f0f921"
            ]
           ]
          },
          "colorway": [
           "#636efa",
           "#EF553B",
           "#00cc96",
           "#ab63fa",
           "#FFA15A",
           "#19d3f3",
           "#FF6692",
           "#B6E880",
           "#FF97FF",
           "#FECB52"
          ],
          "font": {
           "color": "#2a3f5f"
          },
          "geo": {
           "bgcolor": "white",
           "lakecolor": "white",
           "landcolor": "#E5ECF6",
           "showlakes": true,
           "showland": true,
           "subunitcolor": "white"
          },
          "hoverlabel": {
           "align": "left"
          },
          "hovermode": "closest",
          "mapbox": {
           "style": "light"
          },
          "paper_bgcolor": "white",
          "plot_bgcolor": "#E5ECF6",
          "polar": {
           "angularaxis": {
            "gridcolor": "white",
            "linecolor": "white",
            "ticks": ""
           },
           "bgcolor": "#E5ECF6",
           "radialaxis": {
            "gridcolor": "white",
            "linecolor": "white",
            "ticks": ""
           }
          },
          "scene": {
           "xaxis": {
            "backgroundcolor": "#E5ECF6",
            "gridcolor": "white",
            "gridwidth": 2,
            "linecolor": "white",
            "showbackground": true,
            "ticks": "",
            "zerolinecolor": "white"
           },
           "yaxis": {
            "backgroundcolor": "#E5ECF6",
            "gridcolor": "white",
            "gridwidth": 2,
            "linecolor": "white",
            "showbackground": true,
            "ticks": "",
            "zerolinecolor": "white"
           },
           "zaxis": {
            "backgroundcolor": "#E5ECF6",
            "gridcolor": "white",
            "gridwidth": 2,
            "linecolor": "white",
            "showbackground": true,
            "ticks": "",
            "zerolinecolor": "white"
           }
          },
          "shapedefaults": {
           "line": {
            "color": "#2a3f5f"
           }
          },
          "ternary": {
           "aaxis": {
            "gridcolor": "white",
            "linecolor": "white",
            "ticks": ""
           },
           "baxis": {
            "gridcolor": "white",
            "linecolor": "white",
            "ticks": ""
           },
           "bgcolor": "#E5ECF6",
           "caxis": {
            "gridcolor": "white",
            "linecolor": "white",
            "ticks": ""
           }
          },
          "title": {
           "x": 0.05
          },
          "xaxis": {
           "automargin": true,
           "gridcolor": "white",
           "linecolor": "white",
           "ticks": "",
           "title": {
            "standoff": 15
           },
           "zerolinecolor": "white",
           "zerolinewidth": 2
          },
          "yaxis": {
           "automargin": true,
           "gridcolor": "white",
           "linecolor": "white",
           "ticks": "",
           "title": {
            "standoff": 15
           },
           "zerolinecolor": "white",
           "zerolinewidth": 2
          }
         }
        },
        "xaxis": {
         "anchor": "y",
         "domain": [
          0,
          1
         ],
         "title": {
          "text": "value"
         }
        },
        "yaxis": {
         "anchor": "x",
         "domain": [
          0,
          1
         ],
         "title": {
          "text": "count"
         }
        }
       }
      }
     },
     "metadata": {},
     "output_type": "display_data"
    }
   ],
   "source": [
    "px.histogram(data[['PowerBall']].astype(int), nbins = 100)"
   ]
  },
  {
   "cell_type": "code",
   "execution_count": 52,
   "id": "c87f3198",
   "metadata": {},
   "outputs": [
    {
     "data": {
      "text/plain": [
       "Winning Numbers\n",
       "12 18 20 39 61    1\n",
       "24 33 35 37 42    1\n",
       "02 12 37 56 65    1\n",
       "18 19 27 28 45    1\n",
       "28 35 41 47 60    1\n",
       "                 ..\n",
       "02 08 15 19 58    1\n",
       "31 43 58 59 66    1\n",
       "01 04 12 36 49    1\n",
       "02 18 23 27 47    1\n",
       "07 10 21 33 59    1\n",
       "Name: count, Length: 370, dtype: int64"
      ]
     },
     "execution_count": 52,
     "metadata": {},
     "output_type": "execute_result"
    }
   ],
   "source": [
    "data['Winning Numbers'].apply(lambda x: x[:-3]).value_counts()"
   ]
  },
  {
   "cell_type": "code",
   "execution_count": 53,
   "id": "35c381b3",
   "metadata": {},
   "outputs": [],
   "source": [
    "# data[num_cols[:-1]] = pd.DataFrame(\n",
    "#     data[num_cols[:-1]].apply(lambda x: sorted(x), axis=1).tolist(),\n",
    "#     index=data.index,\n",
    "#     columns=num_cols[:-1]\n",
    "# )\n",
    "# data"
   ]
  },
  {
   "cell_type": "markdown",
   "id": "eac255c4",
   "metadata": {},
   "source": [
    "## 1. Addition Numerology"
   ]
  },
  {
   "cell_type": "code",
   "execution_count": 54,
   "id": "34c7c15b",
   "metadata": {},
   "outputs": [
    {
     "data": {
      "text/html": [
       "<div>\n",
       "<style scoped>\n",
       "    .dataframe tbody tr th:only-of-type {\n",
       "        vertical-align: middle;\n",
       "    }\n",
       "\n",
       "    .dataframe tbody tr th {\n",
       "        vertical-align: top;\n",
       "    }\n",
       "\n",
       "    .dataframe thead th {\n",
       "        text-align: right;\n",
       "    }\n",
       "</style>\n",
       "<table border=\"1\" class=\"dataframe\">\n",
       "  <thead>\n",
       "    <tr style=\"text-align: right;\">\n",
       "      <th></th>\n",
       "      <th>Draw Date</th>\n",
       "      <th>Winning Numbers</th>\n",
       "      <th>Multiplier</th>\n",
       "      <th>#1</th>\n",
       "      <th>#2</th>\n",
       "      <th>#3</th>\n",
       "      <th>#4</th>\n",
       "      <th>#5</th>\n",
       "      <th>PowerBall</th>\n",
       "      <th>Sum</th>\n",
       "      <th>SingleSum</th>\n",
       "    </tr>\n",
       "  </thead>\n",
       "  <tbody>\n",
       "    <tr>\n",
       "      <th>1305</th>\n",
       "      <td>2022-04-25</td>\n",
       "      <td>12 18 20 39 61 10</td>\n",
       "      <td>2.0</td>\n",
       "      <td>12</td>\n",
       "      <td>18</td>\n",
       "      <td>20</td>\n",
       "      <td>39</td>\n",
       "      <td>61</td>\n",
       "      <td>10</td>\n",
       "      <td>160</td>\n",
       "      <td>7</td>\n",
       "    </tr>\n",
       "    <tr>\n",
       "      <th>1306</th>\n",
       "      <td>2022-04-27</td>\n",
       "      <td>11 36 61 62 68 04</td>\n",
       "      <td>2.0</td>\n",
       "      <td>11</td>\n",
       "      <td>36</td>\n",
       "      <td>61</td>\n",
       "      <td>62</td>\n",
       "      <td>68</td>\n",
       "      <td>04</td>\n",
       "      <td>242</td>\n",
       "      <td>8</td>\n",
       "    </tr>\n",
       "    <tr>\n",
       "      <th>1307</th>\n",
       "      <td>2022-04-30</td>\n",
       "      <td>14 21 37 44 63 01</td>\n",
       "      <td>3.0</td>\n",
       "      <td>14</td>\n",
       "      <td>21</td>\n",
       "      <td>37</td>\n",
       "      <td>44</td>\n",
       "      <td>63</td>\n",
       "      <td>01</td>\n",
       "      <td>180</td>\n",
       "      <td>9</td>\n",
       "    </tr>\n",
       "    <tr>\n",
       "      <th>1308</th>\n",
       "      <td>2022-05-02</td>\n",
       "      <td>18 27 33 39 44 08</td>\n",
       "      <td>5.0</td>\n",
       "      <td>18</td>\n",
       "      <td>27</td>\n",
       "      <td>33</td>\n",
       "      <td>39</td>\n",
       "      <td>44</td>\n",
       "      <td>08</td>\n",
       "      <td>169</td>\n",
       "      <td>7</td>\n",
       "    </tr>\n",
       "    <tr>\n",
       "      <th>1309</th>\n",
       "      <td>2022-05-04</td>\n",
       "      <td>37 39 55 63 69 23</td>\n",
       "      <td>2.0</td>\n",
       "      <td>37</td>\n",
       "      <td>39</td>\n",
       "      <td>55</td>\n",
       "      <td>63</td>\n",
       "      <td>69</td>\n",
       "      <td>23</td>\n",
       "      <td>286</td>\n",
       "      <td>7</td>\n",
       "    </tr>\n",
       "    <tr>\n",
       "      <th>...</th>\n",
       "      <td>...</td>\n",
       "      <td>...</td>\n",
       "      <td>...</td>\n",
       "      <td>...</td>\n",
       "      <td>...</td>\n",
       "      <td>...</td>\n",
       "      <td>...</td>\n",
       "      <td>...</td>\n",
       "      <td>...</td>\n",
       "      <td>...</td>\n",
       "      <td>...</td>\n",
       "    </tr>\n",
       "    <tr>\n",
       "      <th>1671</th>\n",
       "      <td>2024-08-26</td>\n",
       "      <td>02 04 23 68 69 15</td>\n",
       "      <td>3.0</td>\n",
       "      <td>02</td>\n",
       "      <td>04</td>\n",
       "      <td>23</td>\n",
       "      <td>68</td>\n",
       "      <td>69</td>\n",
       "      <td>15</td>\n",
       "      <td>181</td>\n",
       "      <td>1</td>\n",
       "    </tr>\n",
       "    <tr>\n",
       "      <th>1672</th>\n",
       "      <td>2024-08-28</td>\n",
       "      <td>05 33 47 50 64 20</td>\n",
       "      <td>2.0</td>\n",
       "      <td>05</td>\n",
       "      <td>33</td>\n",
       "      <td>47</td>\n",
       "      <td>50</td>\n",
       "      <td>64</td>\n",
       "      <td>20</td>\n",
       "      <td>219</td>\n",
       "      <td>3</td>\n",
       "    </tr>\n",
       "    <tr>\n",
       "      <th>1673</th>\n",
       "      <td>2024-08-31</td>\n",
       "      <td>04 34 35 38 69 19</td>\n",
       "      <td>2.0</td>\n",
       "      <td>04</td>\n",
       "      <td>34</td>\n",
       "      <td>35</td>\n",
       "      <td>38</td>\n",
       "      <td>69</td>\n",
       "      <td>19</td>\n",
       "      <td>199</td>\n",
       "      <td>1</td>\n",
       "    </tr>\n",
       "    <tr>\n",
       "      <th>1674</th>\n",
       "      <td>2024-09-02</td>\n",
       "      <td>08 42 46 48 53 22</td>\n",
       "      <td>3.0</td>\n",
       "      <td>08</td>\n",
       "      <td>42</td>\n",
       "      <td>46</td>\n",
       "      <td>48</td>\n",
       "      <td>53</td>\n",
       "      <td>22</td>\n",
       "      <td>219</td>\n",
       "      <td>3</td>\n",
       "    </tr>\n",
       "    <tr>\n",
       "      <th>1675</th>\n",
       "      <td>2024-09-04</td>\n",
       "      <td>07 10 21 33 59 20</td>\n",
       "      <td>3.0</td>\n",
       "      <td>07</td>\n",
       "      <td>10</td>\n",
       "      <td>21</td>\n",
       "      <td>33</td>\n",
       "      <td>59</td>\n",
       "      <td>20</td>\n",
       "      <td>150</td>\n",
       "      <td>6</td>\n",
       "    </tr>\n",
       "  </tbody>\n",
       "</table>\n",
       "<p>370 rows × 11 columns</p>\n",
       "</div>"
      ],
      "text/plain": [
       "      Draw Date    Winning Numbers  Multiplier  #1  #2  #3  #4  #5 PowerBall  \\\n",
       "1305 2022-04-25  12 18 20 39 61 10         2.0  12  18  20  39  61        10   \n",
       "1306 2022-04-27  11 36 61 62 68 04         2.0  11  36  61  62  68        04   \n",
       "1307 2022-04-30  14 21 37 44 63 01         3.0  14  21  37  44  63        01   \n",
       "1308 2022-05-02  18 27 33 39 44 08         5.0  18  27  33  39  44        08   \n",
       "1309 2022-05-04  37 39 55 63 69 23         2.0  37  39  55  63  69        23   \n",
       "...         ...                ...         ...  ..  ..  ..  ..  ..       ...   \n",
       "1671 2024-08-26  02 04 23 68 69 15         3.0  02  04  23  68  69        15   \n",
       "1672 2024-08-28  05 33 47 50 64 20         2.0  05  33  47  50  64        20   \n",
       "1673 2024-08-31  04 34 35 38 69 19         2.0  04  34  35  38  69        19   \n",
       "1674 2024-09-02  08 42 46 48 53 22         3.0  08  42  46  48  53        22   \n",
       "1675 2024-09-04  07 10 21 33 59 20         3.0  07  10  21  33  59        20   \n",
       "\n",
       "      Sum  SingleSum  \n",
       "1305  160          7  \n",
       "1306  242          8  \n",
       "1307  180          9  \n",
       "1308  169          7  \n",
       "1309  286          7  \n",
       "...   ...        ...  \n",
       "1671  181          1  \n",
       "1672  219          3  \n",
       "1673  199          1  \n",
       "1674  219          3  \n",
       "1675  150          6  \n",
       "\n",
       "[370 rows x 11 columns]"
      ]
     },
     "execution_count": 54,
     "metadata": {},
     "output_type": "execute_result"
    }
   ],
   "source": [
    "data['Sum'] = data[num_cols].apply(lambda x: sum([sum([int(j) for j in i.split()]) for i in x]), axis=1)\n",
    "\n",
    "data['SingleSum'] = data['Sum'].apply(lambda x: sum([int(i) for i in str(x)]))\n",
    "data['SingleSum'] = data['SingleSum'].apply(lambda x: sum([int(i) for i in str(x)]))\n",
    "data['SingleSum'] = data['SingleSum'].apply(lambda x: sum([int(i) for i in str(x)]))\n",
    "\n",
    "data"
   ]
  },
  {
   "cell_type": "code",
   "execution_count": 55,
   "id": "294bc128",
   "metadata": {},
   "outputs": [
    {
     "data": {
      "text/plain": [
       "Sum\n",
       "193    8\n",
       "196    7\n",
       "191    7\n",
       "195    6\n",
       "216    6\n",
       "      ..\n",
       "156    1\n",
       "308    1\n",
       "107    1\n",
       "141    1\n",
       "79     1\n",
       "Name: count, Length: 162, dtype: int64"
      ]
     },
     "execution_count": 55,
     "metadata": {},
     "output_type": "execute_result"
    }
   ],
   "source": [
    "data['Sum'].value_counts()"
   ]
  },
  {
   "cell_type": "code",
   "execution_count": 56,
   "id": "864c34ed",
   "metadata": {},
   "outputs": [
    {
     "data": {
      "application/vnd.plotly.v1+json": {
       "config": {
        "plotlyServerURL": "https://plot.ly"
       },
       "data": [
        {
         "alignmentgroup": "True",
         "bingroup": "x",
         "histnorm": "percent",
         "hovertemplate": "variable=Sum<br>value=%{x}<br>percent=%{y}<extra></extra>",
         "legendgroup": "Sum",
         "marker": {
          "color": "#636efa",
          "pattern": {
           "shape": ""
          }
         },
         "name": "Sum",
         "offsetgroup": "Sum",
         "orientation": "v",
         "showlegend": true,
         "type": "histogram",
         "x": [
          160,
          242,
          180,
          169,
          286,
          120,
          196,
          223,
          193,
          157,
          285,
          175,
          178,
          202,
          233,
          265,
          230,
          194,
          141,
          237,
          191,
          191,
          188,
          197,
          253,
          163,
          101,
          125,
          232,
          203,
          146,
          261,
          200,
          162,
          193,
          154,
          197,
          189,
          267,
          209,
          208,
          216,
          184,
          220,
          196,
          255,
          280,
          185,
          209,
          221,
          114,
          204,
          168,
          215,
          240,
          87,
          237,
          187,
          138,
          277,
          161,
          138,
          179,
          178,
          179,
          100,
          176,
          151,
          211,
          180,
          194,
          242,
          70,
          192,
          244,
          216,
          108,
          225,
          191,
          218,
          216,
          179,
          153,
          271,
          138,
          201,
          249,
          233,
          234,
          167,
          164,
          196,
          209,
          170,
          132,
          250,
          219,
          215,
          222,
          305,
          299,
          243,
          158,
          229,
          243,
          198,
          224,
          143,
          261,
          241,
          252,
          158,
          216,
          154,
          158,
          170,
          231,
          142,
          132,
          107,
          266,
          112,
          137,
          308,
          193,
          208,
          252,
          152,
          153,
          185,
          252,
          222,
          132,
          166,
          175,
          230,
          189,
          150,
          162,
          198,
          188,
          204,
          173,
          196,
          156,
          149,
          200,
          122,
          186,
          167,
          193,
          201,
          235,
          149,
          256,
          232,
          137,
          253,
          224,
          192,
          227,
          159,
          205,
          118,
          193,
          199,
          196,
          240,
          211,
          209,
          239,
          197,
          277,
          193,
          187,
          195,
          119,
          169,
          210,
          254,
          161,
          215,
          182,
          207,
          174,
          174,
          242,
          147,
          184,
          256,
          184,
          101,
          89,
          195,
          121,
          181,
          136,
          197,
          200,
          254,
          150,
          185,
          218,
          192,
          112,
          166,
          85,
          195,
          164,
          184,
          186,
          257,
          169,
          130,
          215,
          185,
          196,
          113,
          140,
          250,
          153,
          134,
          171,
          198,
          160,
          226,
          302,
          232,
          212,
          198,
          186,
          135,
          191,
          283,
          195,
          216,
          213,
          215,
          209,
          151,
          223,
          189,
          115,
          192,
          177,
          190,
          179,
          266,
          200,
          236,
          214,
          146,
          193,
          157,
          165,
          190,
          129,
          131,
          235,
          117,
          94,
          177,
          115,
          169,
          223,
          181,
          139,
          217,
          201,
          190,
          211,
          203,
          228,
          160,
          265,
          240,
          150,
          191,
          136,
          248,
          178,
          230,
          182,
          245,
          192,
          161,
          165,
          216,
          165,
          149,
          273,
          167,
          246,
          98,
          229,
          202,
          146,
          191,
          142,
          181,
          274,
          183,
          204,
          232,
          223,
          166,
          100,
          202,
          204,
          200,
          207,
          153,
          138,
          232,
          246,
          135,
          183,
          195,
          191,
          185,
          153,
          236,
          212,
          193,
          136,
          198,
          207,
          237,
          248,
          180,
          229,
          231,
          172,
          224,
          200,
          264,
          196,
          139,
          177,
          159,
          286,
          149,
          195,
          181,
          152,
          129,
          279,
          187,
          222,
          175,
          270,
          261,
          192,
          161,
          209,
          227,
          232,
          173,
          208,
          237,
          144,
          199,
          79,
          199,
          125,
          181,
          219,
          199,
          219,
          150
         ],
         "xaxis": "x",
         "yaxis": "y"
        }
       ],
       "layout": {
        "barmode": "relative",
        "legend": {
         "title": {
          "text": "variable"
         },
         "tracegroupgap": 0
        },
        "margin": {
         "t": 60
        },
        "template": {
         "data": {
          "bar": [
           {
            "error_x": {
             "color": "#2a3f5f"
            },
            "error_y": {
             "color": "#2a3f5f"
            },
            "marker": {
             "line": {
              "color": "#E5ECF6",
              "width": 0.5
             },
             "pattern": {
              "fillmode": "overlay",
              "size": 10,
              "solidity": 0.2
             }
            },
            "type": "bar"
           }
          ],
          "barpolar": [
           {
            "marker": {
             "line": {
              "color": "#E5ECF6",
              "width": 0.5
             },
             "pattern": {
              "fillmode": "overlay",
              "size": 10,
              "solidity": 0.2
             }
            },
            "type": "barpolar"
           }
          ],
          "carpet": [
           {
            "aaxis": {
             "endlinecolor": "#2a3f5f",
             "gridcolor": "white",
             "linecolor": "white",
             "minorgridcolor": "white",
             "startlinecolor": "#2a3f5f"
            },
            "baxis": {
             "endlinecolor": "#2a3f5f",
             "gridcolor": "white",
             "linecolor": "white",
             "minorgridcolor": "white",
             "startlinecolor": "#2a3f5f"
            },
            "type": "carpet"
           }
          ],
          "choropleth": [
           {
            "colorbar": {
             "outlinewidth": 0,
             "ticks": ""
            },
            "type": "choropleth"
           }
          ],
          "contour": [
           {
            "colorbar": {
             "outlinewidth": 0,
             "ticks": ""
            },
            "colorscale": [
             [
              0,
              "#0d0887"
             ],
             [
              0.1111111111111111,
              "#46039f"
             ],
             [
              0.2222222222222222,
              "#7201a8"
             ],
             [
              0.3333333333333333,
              "#9c179e"
             ],
             [
              0.4444444444444444,
              "#bd3786"
             ],
             [
              0.5555555555555556,
              "#d8576b"
             ],
             [
              0.6666666666666666,
              "#ed7953"
             ],
             [
              0.7777777777777778,
              "#fb9f3a"
             ],
             [
              0.8888888888888888,
              "#fdca26"
             ],
             [
              1,
              "#f0f921"
             ]
            ],
            "type": "contour"
           }
          ],
          "contourcarpet": [
           {
            "colorbar": {
             "outlinewidth": 0,
             "ticks": ""
            },
            "type": "contourcarpet"
           }
          ],
          "heatmap": [
           {
            "colorbar": {
             "outlinewidth": 0,
             "ticks": ""
            },
            "colorscale": [
             [
              0,
              "#0d0887"
             ],
             [
              0.1111111111111111,
              "#46039f"
             ],
             [
              0.2222222222222222,
              "#7201a8"
             ],
             [
              0.3333333333333333,
              "#9c179e"
             ],
             [
              0.4444444444444444,
              "#bd3786"
             ],
             [
              0.5555555555555556,
              "#d8576b"
             ],
             [
              0.6666666666666666,
              "#ed7953"
             ],
             [
              0.7777777777777778,
              "#fb9f3a"
             ],
             [
              0.8888888888888888,
              "#fdca26"
             ],
             [
              1,
              "#f0f921"
             ]
            ],
            "type": "heatmap"
           }
          ],
          "heatmapgl": [
           {
            "colorbar": {
             "outlinewidth": 0,
             "ticks": ""
            },
            "colorscale": [
             [
              0,
              "#0d0887"
             ],
             [
              0.1111111111111111,
              "#46039f"
             ],
             [
              0.2222222222222222,
              "#7201a8"
             ],
             [
              0.3333333333333333,
              "#9c179e"
             ],
             [
              0.4444444444444444,
              "#bd3786"
             ],
             [
              0.5555555555555556,
              "#d8576b"
             ],
             [
              0.6666666666666666,
              "#ed7953"
             ],
             [
              0.7777777777777778,
              "#fb9f3a"
             ],
             [
              0.8888888888888888,
              "#fdca26"
             ],
             [
              1,
              "#f0f921"
             ]
            ],
            "type": "heatmapgl"
           }
          ],
          "histogram": [
           {
            "marker": {
             "pattern": {
              "fillmode": "overlay",
              "size": 10,
              "solidity": 0.2
             }
            },
            "type": "histogram"
           }
          ],
          "histogram2d": [
           {
            "colorbar": {
             "outlinewidth": 0,
             "ticks": ""
            },
            "colorscale": [
             [
              0,
              "#0d0887"
             ],
             [
              0.1111111111111111,
              "#46039f"
             ],
             [
              0.2222222222222222,
              "#7201a8"
             ],
             [
              0.3333333333333333,
              "#9c179e"
             ],
             [
              0.4444444444444444,
              "#bd3786"
             ],
             [
              0.5555555555555556,
              "#d8576b"
             ],
             [
              0.6666666666666666,
              "#ed7953"
             ],
             [
              0.7777777777777778,
              "#fb9f3a"
             ],
             [
              0.8888888888888888,
              "#fdca26"
             ],
             [
              1,
              "#f0f921"
             ]
            ],
            "type": "histogram2d"
           }
          ],
          "histogram2dcontour": [
           {
            "colorbar": {
             "outlinewidth": 0,
             "ticks": ""
            },
            "colorscale": [
             [
              0,
              "#0d0887"
             ],
             [
              0.1111111111111111,
              "#46039f"
             ],
             [
              0.2222222222222222,
              "#7201a8"
             ],
             [
              0.3333333333333333,
              "#9c179e"
             ],
             [
              0.4444444444444444,
              "#bd3786"
             ],
             [
              0.5555555555555556,
              "#d8576b"
             ],
             [
              0.6666666666666666,
              "#ed7953"
             ],
             [
              0.7777777777777778,
              "#fb9f3a"
             ],
             [
              0.8888888888888888,
              "#fdca26"
             ],
             [
              1,
              "#f0f921"
             ]
            ],
            "type": "histogram2dcontour"
           }
          ],
          "mesh3d": [
           {
            "colorbar": {
             "outlinewidth": 0,
             "ticks": ""
            },
            "type": "mesh3d"
           }
          ],
          "parcoords": [
           {
            "line": {
             "colorbar": {
              "outlinewidth": 0,
              "ticks": ""
             }
            },
            "type": "parcoords"
           }
          ],
          "pie": [
           {
            "automargin": true,
            "type": "pie"
           }
          ],
          "scatter": [
           {
            "fillpattern": {
             "fillmode": "overlay",
             "size": 10,
             "solidity": 0.2
            },
            "type": "scatter"
           }
          ],
          "scatter3d": [
           {
            "line": {
             "colorbar": {
              "outlinewidth": 0,
              "ticks": ""
             }
            },
            "marker": {
             "colorbar": {
              "outlinewidth": 0,
              "ticks": ""
             }
            },
            "type": "scatter3d"
           }
          ],
          "scattercarpet": [
           {
            "marker": {
             "colorbar": {
              "outlinewidth": 0,
              "ticks": ""
             }
            },
            "type": "scattercarpet"
           }
          ],
          "scattergeo": [
           {
            "marker": {
             "colorbar": {
              "outlinewidth": 0,
              "ticks": ""
             }
            },
            "type": "scattergeo"
           }
          ],
          "scattergl": [
           {
            "marker": {
             "colorbar": {
              "outlinewidth": 0,
              "ticks": ""
             }
            },
            "type": "scattergl"
           }
          ],
          "scattermapbox": [
           {
            "marker": {
             "colorbar": {
              "outlinewidth": 0,
              "ticks": ""
             }
            },
            "type": "scattermapbox"
           }
          ],
          "scatterpolar": [
           {
            "marker": {
             "colorbar": {
              "outlinewidth": 0,
              "ticks": ""
             }
            },
            "type": "scatterpolar"
           }
          ],
          "scatterpolargl": [
           {
            "marker": {
             "colorbar": {
              "outlinewidth": 0,
              "ticks": ""
             }
            },
            "type": "scatterpolargl"
           }
          ],
          "scatterternary": [
           {
            "marker": {
             "colorbar": {
              "outlinewidth": 0,
              "ticks": ""
             }
            },
            "type": "scatterternary"
           }
          ],
          "surface": [
           {
            "colorbar": {
             "outlinewidth": 0,
             "ticks": ""
            },
            "colorscale": [
             [
              0,
              "#0d0887"
             ],
             [
              0.1111111111111111,
              "#46039f"
             ],
             [
              0.2222222222222222,
              "#7201a8"
             ],
             [
              0.3333333333333333,
              "#9c179e"
             ],
             [
              0.4444444444444444,
              "#bd3786"
             ],
             [
              0.5555555555555556,
              "#d8576b"
             ],
             [
              0.6666666666666666,
              "#ed7953"
             ],
             [
              0.7777777777777778,
              "#fb9f3a"
             ],
             [
              0.8888888888888888,
              "#fdca26"
             ],
             [
              1,
              "#f0f921"
             ]
            ],
            "type": "surface"
           }
          ],
          "table": [
           {
            "cells": {
             "fill": {
              "color": "#EBF0F8"
             },
             "line": {
              "color": "white"
             }
            },
            "header": {
             "fill": {
              "color": "#C8D4E3"
             },
             "line": {
              "color": "white"
             }
            },
            "type": "table"
           }
          ]
         },
         "layout": {
          "annotationdefaults": {
           "arrowcolor": "#2a3f5f",
           "arrowhead": 0,
           "arrowwidth": 1
          },
          "autotypenumbers": "strict",
          "coloraxis": {
           "colorbar": {
            "outlinewidth": 0,
            "ticks": ""
           }
          },
          "colorscale": {
           "diverging": [
            [
             0,
             "#8e0152"
            ],
            [
             0.1,
             "#c51b7d"
            ],
            [
             0.2,
             "#de77ae"
            ],
            [
             0.3,
             "#f1b6da"
            ],
            [
             0.4,
             "#fde0ef"
            ],
            [
             0.5,
             "#f7f7f7"
            ],
            [
             0.6,
             "#e6f5d0"
            ],
            [
             0.7,
             "#b8e186"
            ],
            [
             0.8,
             "#7fbc41"
            ],
            [
             0.9,
             "#4d9221"
            ],
            [
             1,
             "#276419"
            ]
           ],
           "sequential": [
            [
             0,
             "#0d0887"
            ],
            [
             0.1111111111111111,
             "#46039f"
            ],
            [
             0.2222222222222222,
             "#7201a8"
            ],
            [
             0.3333333333333333,
             "#9c179e"
            ],
            [
             0.4444444444444444,
             "#bd3786"
            ],
            [
             0.5555555555555556,
             "#d8576b"
            ],
            [
             0.6666666666666666,
             "#ed7953"
            ],
            [
             0.7777777777777778,
             "#fb9f3a"
            ],
            [
             0.8888888888888888,
             "#fdca26"
            ],
            [
             1,
             "#f0f921"
            ]
           ],
           "sequentialminus": [
            [
             0,
             "#0d0887"
            ],
            [
             0.1111111111111111,
             "#46039f"
            ],
            [
             0.2222222222222222,
             "#7201a8"
            ],
            [
             0.3333333333333333,
             "#9c179e"
            ],
            [
             0.4444444444444444,
             "#bd3786"
            ],
            [
             0.5555555555555556,
             "#d8576b"
            ],
            [
             0.6666666666666666,
             "#ed7953"
            ],
            [
             0.7777777777777778,
             "#fb9f3a"
            ],
            [
             0.8888888888888888,
             "#fdca26"
            ],
            [
             1,
             "#f0f921"
            ]
           ]
          },
          "colorway": [
           "#636efa",
           "#EF553B",
           "#00cc96",
           "#ab63fa",
           "#FFA15A",
           "#19d3f3",
           "#FF6692",
           "#B6E880",
           "#FF97FF",
           "#FECB52"
          ],
          "font": {
           "color": "#2a3f5f"
          },
          "geo": {
           "bgcolor": "white",
           "lakecolor": "white",
           "landcolor": "#E5ECF6",
           "showlakes": true,
           "showland": true,
           "subunitcolor": "white"
          },
          "hoverlabel": {
           "align": "left"
          },
          "hovermode": "closest",
          "mapbox": {
           "style": "light"
          },
          "paper_bgcolor": "white",
          "plot_bgcolor": "#E5ECF6",
          "polar": {
           "angularaxis": {
            "gridcolor": "white",
            "linecolor": "white",
            "ticks": ""
           },
           "bgcolor": "#E5ECF6",
           "radialaxis": {
            "gridcolor": "white",
            "linecolor": "white",
            "ticks": ""
           }
          },
          "scene": {
           "xaxis": {
            "backgroundcolor": "#E5ECF6",
            "gridcolor": "white",
            "gridwidth": 2,
            "linecolor": "white",
            "showbackground": true,
            "ticks": "",
            "zerolinecolor": "white"
           },
           "yaxis": {
            "backgroundcolor": "#E5ECF6",
            "gridcolor": "white",
            "gridwidth": 2,
            "linecolor": "white",
            "showbackground": true,
            "ticks": "",
            "zerolinecolor": "white"
           },
           "zaxis": {
            "backgroundcolor": "#E5ECF6",
            "gridcolor": "white",
            "gridwidth": 2,
            "linecolor": "white",
            "showbackground": true,
            "ticks": "",
            "zerolinecolor": "white"
           }
          },
          "shapedefaults": {
           "line": {
            "color": "#2a3f5f"
           }
          },
          "ternary": {
           "aaxis": {
            "gridcolor": "white",
            "linecolor": "white",
            "ticks": ""
           },
           "baxis": {
            "gridcolor": "white",
            "linecolor": "white",
            "ticks": ""
           },
           "bgcolor": "#E5ECF6",
           "caxis": {
            "gridcolor": "white",
            "linecolor": "white",
            "ticks": ""
           }
          },
          "title": {
           "x": 0.05
          },
          "xaxis": {
           "automargin": true,
           "gridcolor": "white",
           "linecolor": "white",
           "ticks": "",
           "title": {
            "standoff": 15
           },
           "zerolinecolor": "white",
           "zerolinewidth": 2
          },
          "yaxis": {
           "automargin": true,
           "gridcolor": "white",
           "linecolor": "white",
           "ticks": "",
           "title": {
            "standoff": 15
           },
           "zerolinecolor": "white",
           "zerolinewidth": 2
          }
         }
        },
        "xaxis": {
         "anchor": "y",
         "domain": [
          0,
          1
         ],
         "title": {
          "text": "value"
         }
        },
        "yaxis": {
         "anchor": "x",
         "domain": [
          0,
          1
         ],
         "title": {
          "text": "percent"
         }
        }
       }
      }
     },
     "metadata": {},
     "output_type": "display_data"
    }
   ],
   "source": [
    "px.histogram(data[['Sum']], histnorm=\"percent\")"
   ]
  },
  {
   "cell_type": "code",
   "execution_count": 57,
   "id": "8601938b",
   "metadata": {},
   "outputs": [
    {
     "data": {
      "application/vnd.plotly.v1+json": {
       "config": {
        "plotlyServerURL": "https://plot.ly"
       },
       "data": [
        {
         "alignmentgroup": "True",
         "bingroup": "x",
         "histnorm": "percent",
         "hovertemplate": "variable=Sum<br>value=%{x}<br>percent=%{y}<extra></extra>",
         "legendgroup": "Sum",
         "marker": {
          "color": "#636efa",
          "pattern": {
           "shape": ""
          }
         },
         "name": "Sum",
         "nbinsx": 20,
         "offsetgroup": "Sum",
         "orientation": "v",
         "showlegend": true,
         "type": "histogram",
         "x": [
          160,
          242,
          180,
          169,
          286,
          120,
          196,
          223,
          193,
          157,
          285,
          175,
          178,
          202,
          233,
          265,
          230,
          194,
          141,
          237,
          191,
          191,
          188,
          197,
          253,
          163,
          101,
          125,
          232,
          203,
          146,
          261,
          200,
          162,
          193,
          154,
          197,
          189,
          267,
          209,
          208,
          216,
          184,
          220,
          196,
          255,
          280,
          185,
          209,
          221,
          114,
          204,
          168,
          215,
          240,
          87,
          237,
          187,
          138,
          277,
          161,
          138,
          179,
          178,
          179,
          100,
          176,
          151,
          211,
          180,
          194,
          242,
          70,
          192,
          244,
          216,
          108,
          225,
          191,
          218,
          216,
          179,
          153,
          271,
          138,
          201,
          249,
          233,
          234,
          167,
          164,
          196,
          209,
          170,
          132,
          250,
          219,
          215,
          222,
          305,
          299,
          243,
          158,
          229,
          243,
          198,
          224,
          143,
          261,
          241,
          252,
          158,
          216,
          154,
          158,
          170,
          231,
          142,
          132,
          107,
          266,
          112,
          137,
          308,
          193,
          208,
          252,
          152,
          153,
          185,
          252,
          222,
          132,
          166,
          175,
          230,
          189,
          150,
          162,
          198,
          188,
          204,
          173,
          196,
          156,
          149,
          200,
          122,
          186,
          167,
          193,
          201,
          235,
          149,
          256,
          232,
          137,
          253,
          224,
          192,
          227,
          159,
          205,
          118,
          193,
          199,
          196,
          240,
          211,
          209,
          239,
          197,
          277,
          193,
          187,
          195,
          119,
          169,
          210,
          254,
          161,
          215,
          182,
          207,
          174,
          174,
          242,
          147,
          184,
          256,
          184,
          101,
          89,
          195,
          121,
          181,
          136,
          197,
          200,
          254,
          150,
          185,
          218,
          192,
          112,
          166,
          85,
          195,
          164,
          184,
          186,
          257,
          169,
          130,
          215,
          185,
          196,
          113,
          140,
          250,
          153,
          134,
          171,
          198,
          160,
          226,
          302,
          232,
          212,
          198,
          186,
          135,
          191,
          283,
          195,
          216,
          213,
          215,
          209,
          151,
          223,
          189,
          115,
          192,
          177,
          190,
          179,
          266,
          200,
          236,
          214,
          146,
          193,
          157,
          165,
          190,
          129,
          131,
          235,
          117,
          94,
          177,
          115,
          169,
          223,
          181,
          139,
          217,
          201,
          190,
          211,
          203,
          228,
          160,
          265,
          240,
          150,
          191,
          136,
          248,
          178,
          230,
          182,
          245,
          192,
          161,
          165,
          216,
          165,
          149,
          273,
          167,
          246,
          98,
          229,
          202,
          146,
          191,
          142,
          181,
          274,
          183,
          204,
          232,
          223,
          166,
          100,
          202,
          204,
          200,
          207,
          153,
          138,
          232,
          246,
          135,
          183,
          195,
          191,
          185,
          153,
          236,
          212,
          193,
          136,
          198,
          207,
          237,
          248,
          180,
          229,
          231,
          172,
          224,
          200,
          264,
          196,
          139,
          177,
          159,
          286,
          149,
          195,
          181,
          152,
          129,
          279,
          187,
          222,
          175,
          270,
          261,
          192,
          161,
          209,
          227,
          232,
          173,
          208,
          237,
          144,
          199,
          79,
          199,
          125,
          181,
          219,
          199,
          219,
          150
         ],
         "xaxis": "x",
         "yaxis": "y"
        }
       ],
       "layout": {
        "barmode": "relative",
        "legend": {
         "title": {
          "text": "variable"
         },
         "tracegroupgap": 0
        },
        "margin": {
         "t": 60
        },
        "template": {
         "data": {
          "bar": [
           {
            "error_x": {
             "color": "#2a3f5f"
            },
            "error_y": {
             "color": "#2a3f5f"
            },
            "marker": {
             "line": {
              "color": "#E5ECF6",
              "width": 0.5
             },
             "pattern": {
              "fillmode": "overlay",
              "size": 10,
              "solidity": 0.2
             }
            },
            "type": "bar"
           }
          ],
          "barpolar": [
           {
            "marker": {
             "line": {
              "color": "#E5ECF6",
              "width": 0.5
             },
             "pattern": {
              "fillmode": "overlay",
              "size": 10,
              "solidity": 0.2
             }
            },
            "type": "barpolar"
           }
          ],
          "carpet": [
           {
            "aaxis": {
             "endlinecolor": "#2a3f5f",
             "gridcolor": "white",
             "linecolor": "white",
             "minorgridcolor": "white",
             "startlinecolor": "#2a3f5f"
            },
            "baxis": {
             "endlinecolor": "#2a3f5f",
             "gridcolor": "white",
             "linecolor": "white",
             "minorgridcolor": "white",
             "startlinecolor": "#2a3f5f"
            },
            "type": "carpet"
           }
          ],
          "choropleth": [
           {
            "colorbar": {
             "outlinewidth": 0,
             "ticks": ""
            },
            "type": "choropleth"
           }
          ],
          "contour": [
           {
            "colorbar": {
             "outlinewidth": 0,
             "ticks": ""
            },
            "colorscale": [
             [
              0,
              "#0d0887"
             ],
             [
              0.1111111111111111,
              "#46039f"
             ],
             [
              0.2222222222222222,
              "#7201a8"
             ],
             [
              0.3333333333333333,
              "#9c179e"
             ],
             [
              0.4444444444444444,
              "#bd3786"
             ],
             [
              0.5555555555555556,
              "#d8576b"
             ],
             [
              0.6666666666666666,
              "#ed7953"
             ],
             [
              0.7777777777777778,
              "#fb9f3a"
             ],
             [
              0.8888888888888888,
              "#fdca26"
             ],
             [
              1,
              "#f0f921"
             ]
            ],
            "type": "contour"
           }
          ],
          "contourcarpet": [
           {
            "colorbar": {
             "outlinewidth": 0,
             "ticks": ""
            },
            "type": "contourcarpet"
           }
          ],
          "heatmap": [
           {
            "colorbar": {
             "outlinewidth": 0,
             "ticks": ""
            },
            "colorscale": [
             [
              0,
              "#0d0887"
             ],
             [
              0.1111111111111111,
              "#46039f"
             ],
             [
              0.2222222222222222,
              "#7201a8"
             ],
             [
              0.3333333333333333,
              "#9c179e"
             ],
             [
              0.4444444444444444,
              "#bd3786"
             ],
             [
              0.5555555555555556,
              "#d8576b"
             ],
             [
              0.6666666666666666,
              "#ed7953"
             ],
             [
              0.7777777777777778,
              "#fb9f3a"
             ],
             [
              0.8888888888888888,
              "#fdca26"
             ],
             [
              1,
              "#f0f921"
             ]
            ],
            "type": "heatmap"
           }
          ],
          "heatmapgl": [
           {
            "colorbar": {
             "outlinewidth": 0,
             "ticks": ""
            },
            "colorscale": [
             [
              0,
              "#0d0887"
             ],
             [
              0.1111111111111111,
              "#46039f"
             ],
             [
              0.2222222222222222,
              "#7201a8"
             ],
             [
              0.3333333333333333,
              "#9c179e"
             ],
             [
              0.4444444444444444,
              "#bd3786"
             ],
             [
              0.5555555555555556,
              "#d8576b"
             ],
             [
              0.6666666666666666,
              "#ed7953"
             ],
             [
              0.7777777777777778,
              "#fb9f3a"
             ],
             [
              0.8888888888888888,
              "#fdca26"
             ],
             [
              1,
              "#f0f921"
             ]
            ],
            "type": "heatmapgl"
           }
          ],
          "histogram": [
           {
            "marker": {
             "pattern": {
              "fillmode": "overlay",
              "size": 10,
              "solidity": 0.2
             }
            },
            "type": "histogram"
           }
          ],
          "histogram2d": [
           {
            "colorbar": {
             "outlinewidth": 0,
             "ticks": ""
            },
            "colorscale": [
             [
              0,
              "#0d0887"
             ],
             [
              0.1111111111111111,
              "#46039f"
             ],
             [
              0.2222222222222222,
              "#7201a8"
             ],
             [
              0.3333333333333333,
              "#9c179e"
             ],
             [
              0.4444444444444444,
              "#bd3786"
             ],
             [
              0.5555555555555556,
              "#d8576b"
             ],
             [
              0.6666666666666666,
              "#ed7953"
             ],
             [
              0.7777777777777778,
              "#fb9f3a"
             ],
             [
              0.8888888888888888,
              "#fdca26"
             ],
             [
              1,
              "#f0f921"
             ]
            ],
            "type": "histogram2d"
           }
          ],
          "histogram2dcontour": [
           {
            "colorbar": {
             "outlinewidth": 0,
             "ticks": ""
            },
            "colorscale": [
             [
              0,
              "#0d0887"
             ],
             [
              0.1111111111111111,
              "#46039f"
             ],
             [
              0.2222222222222222,
              "#7201a8"
             ],
             [
              0.3333333333333333,
              "#9c179e"
             ],
             [
              0.4444444444444444,
              "#bd3786"
             ],
             [
              0.5555555555555556,
              "#d8576b"
             ],
             [
              0.6666666666666666,
              "#ed7953"
             ],
             [
              0.7777777777777778,
              "#fb9f3a"
             ],
             [
              0.8888888888888888,
              "#fdca26"
             ],
             [
              1,
              "#f0f921"
             ]
            ],
            "type": "histogram2dcontour"
           }
          ],
          "mesh3d": [
           {
            "colorbar": {
             "outlinewidth": 0,
             "ticks": ""
            },
            "type": "mesh3d"
           }
          ],
          "parcoords": [
           {
            "line": {
             "colorbar": {
              "outlinewidth": 0,
              "ticks": ""
             }
            },
            "type": "parcoords"
           }
          ],
          "pie": [
           {
            "automargin": true,
            "type": "pie"
           }
          ],
          "scatter": [
           {
            "fillpattern": {
             "fillmode": "overlay",
             "size": 10,
             "solidity": 0.2
            },
            "type": "scatter"
           }
          ],
          "scatter3d": [
           {
            "line": {
             "colorbar": {
              "outlinewidth": 0,
              "ticks": ""
             }
            },
            "marker": {
             "colorbar": {
              "outlinewidth": 0,
              "ticks": ""
             }
            },
            "type": "scatter3d"
           }
          ],
          "scattercarpet": [
           {
            "marker": {
             "colorbar": {
              "outlinewidth": 0,
              "ticks": ""
             }
            },
            "type": "scattercarpet"
           }
          ],
          "scattergeo": [
           {
            "marker": {
             "colorbar": {
              "outlinewidth": 0,
              "ticks": ""
             }
            },
            "type": "scattergeo"
           }
          ],
          "scattergl": [
           {
            "marker": {
             "colorbar": {
              "outlinewidth": 0,
              "ticks": ""
             }
            },
            "type": "scattergl"
           }
          ],
          "scattermapbox": [
           {
            "marker": {
             "colorbar": {
              "outlinewidth": 0,
              "ticks": ""
             }
            },
            "type": "scattermapbox"
           }
          ],
          "scatterpolar": [
           {
            "marker": {
             "colorbar": {
              "outlinewidth": 0,
              "ticks": ""
             }
            },
            "type": "scatterpolar"
           }
          ],
          "scatterpolargl": [
           {
            "marker": {
             "colorbar": {
              "outlinewidth": 0,
              "ticks": ""
             }
            },
            "type": "scatterpolargl"
           }
          ],
          "scatterternary": [
           {
            "marker": {
             "colorbar": {
              "outlinewidth": 0,
              "ticks": ""
             }
            },
            "type": "scatterternary"
           }
          ],
          "surface": [
           {
            "colorbar": {
             "outlinewidth": 0,
             "ticks": ""
            },
            "colorscale": [
             [
              0,
              "#0d0887"
             ],
             [
              0.1111111111111111,
              "#46039f"
             ],
             [
              0.2222222222222222,
              "#7201a8"
             ],
             [
              0.3333333333333333,
              "#9c179e"
             ],
             [
              0.4444444444444444,
              "#bd3786"
             ],
             [
              0.5555555555555556,
              "#d8576b"
             ],
             [
              0.6666666666666666,
              "#ed7953"
             ],
             [
              0.7777777777777778,
              "#fb9f3a"
             ],
             [
              0.8888888888888888,
              "#fdca26"
             ],
             [
              1,
              "#f0f921"
             ]
            ],
            "type": "surface"
           }
          ],
          "table": [
           {
            "cells": {
             "fill": {
              "color": "#EBF0F8"
             },
             "line": {
              "color": "white"
             }
            },
            "header": {
             "fill": {
              "color": "#C8D4E3"
             },
             "line": {
              "color": "white"
             }
            },
            "type": "table"
           }
          ]
         },
         "layout": {
          "annotationdefaults": {
           "arrowcolor": "#2a3f5f",
           "arrowhead": 0,
           "arrowwidth": 1
          },
          "autotypenumbers": "strict",
          "coloraxis": {
           "colorbar": {
            "outlinewidth": 0,
            "ticks": ""
           }
          },
          "colorscale": {
           "diverging": [
            [
             0,
             "#8e0152"
            ],
            [
             0.1,
             "#c51b7d"
            ],
            [
             0.2,
             "#de77ae"
            ],
            [
             0.3,
             "#f1b6da"
            ],
            [
             0.4,
             "#fde0ef"
            ],
            [
             0.5,
             "#f7f7f7"
            ],
            [
             0.6,
             "#e6f5d0"
            ],
            [
             0.7,
             "#b8e186"
            ],
            [
             0.8,
             "#7fbc41"
            ],
            [
             0.9,
             "#4d9221"
            ],
            [
             1,
             "#276419"
            ]
           ],
           "sequential": [
            [
             0,
             "#0d0887"
            ],
            [
             0.1111111111111111,
             "#46039f"
            ],
            [
             0.2222222222222222,
             "#7201a8"
            ],
            [
             0.3333333333333333,
             "#9c179e"
            ],
            [
             0.4444444444444444,
             "#bd3786"
            ],
            [
             0.5555555555555556,
             "#d8576b"
            ],
            [
             0.6666666666666666,
             "#ed7953"
            ],
            [
             0.7777777777777778,
             "#fb9f3a"
            ],
            [
             0.8888888888888888,
             "#fdca26"
            ],
            [
             1,
             "#f0f921"
            ]
           ],
           "sequentialminus": [
            [
             0,
             "#0d0887"
            ],
            [
             0.1111111111111111,
             "#46039f"
            ],
            [
             0.2222222222222222,
             "#7201a8"
            ],
            [
             0.3333333333333333,
             "#9c179e"
            ],
            [
             0.4444444444444444,
             "#bd3786"
            ],
            [
             0.5555555555555556,
             "#d8576b"
            ],
            [
             0.6666666666666666,
             "#ed7953"
            ],
            [
             0.7777777777777778,
             "#fb9f3a"
            ],
            [
             0.8888888888888888,
             "#fdca26"
            ],
            [
             1,
             "#f0f921"
            ]
           ]
          },
          "colorway": [
           "#636efa",
           "#EF553B",
           "#00cc96",
           "#ab63fa",
           "#FFA15A",
           "#19d3f3",
           "#FF6692",
           "#B6E880",
           "#FF97FF",
           "#FECB52"
          ],
          "font": {
           "color": "#2a3f5f"
          },
          "geo": {
           "bgcolor": "white",
           "lakecolor": "white",
           "landcolor": "#E5ECF6",
           "showlakes": true,
           "showland": true,
           "subunitcolor": "white"
          },
          "hoverlabel": {
           "align": "left"
          },
          "hovermode": "closest",
          "mapbox": {
           "style": "light"
          },
          "paper_bgcolor": "white",
          "plot_bgcolor": "#E5ECF6",
          "polar": {
           "angularaxis": {
            "gridcolor": "white",
            "linecolor": "white",
            "ticks": ""
           },
           "bgcolor": "#E5ECF6",
           "radialaxis": {
            "gridcolor": "white",
            "linecolor": "white",
            "ticks": ""
           }
          },
          "scene": {
           "xaxis": {
            "backgroundcolor": "#E5ECF6",
            "gridcolor": "white",
            "gridwidth": 2,
            "linecolor": "white",
            "showbackground": true,
            "ticks": "",
            "zerolinecolor": "white"
           },
           "yaxis": {
            "backgroundcolor": "#E5ECF6",
            "gridcolor": "white",
            "gridwidth": 2,
            "linecolor": "white",
            "showbackground": true,
            "ticks": "",
            "zerolinecolor": "white"
           },
           "zaxis": {
            "backgroundcolor": "#E5ECF6",
            "gridcolor": "white",
            "gridwidth": 2,
            "linecolor": "white",
            "showbackground": true,
            "ticks": "",
            "zerolinecolor": "white"
           }
          },
          "shapedefaults": {
           "line": {
            "color": "#2a3f5f"
           }
          },
          "ternary": {
           "aaxis": {
            "gridcolor": "white",
            "linecolor": "white",
            "ticks": ""
           },
           "baxis": {
            "gridcolor": "white",
            "linecolor": "white",
            "ticks": ""
           },
           "bgcolor": "#E5ECF6",
           "caxis": {
            "gridcolor": "white",
            "linecolor": "white",
            "ticks": ""
           }
          },
          "title": {
           "x": 0.05
          },
          "xaxis": {
           "automargin": true,
           "gridcolor": "white",
           "linecolor": "white",
           "ticks": "",
           "title": {
            "standoff": 15
           },
           "zerolinecolor": "white",
           "zerolinewidth": 2
          },
          "yaxis": {
           "automargin": true,
           "gridcolor": "white",
           "linecolor": "white",
           "ticks": "",
           "title": {
            "standoff": 15
           },
           "zerolinecolor": "white",
           "zerolinewidth": 2
          }
         }
        },
        "xaxis": {
         "anchor": "y",
         "domain": [
          0,
          1
         ],
         "title": {
          "text": "value"
         }
        },
        "yaxis": {
         "anchor": "x",
         "domain": [
          0,
          1
         ],
         "title": {
          "text": "percent"
         }
        }
       }
      }
     },
     "metadata": {},
     "output_type": "display_data"
    }
   ],
   "source": [
    "px.histogram(data[['Sum']], nbins = 20, histnorm=\"percent\")"
   ]
  },
  {
   "cell_type": "code",
   "execution_count": 58,
   "id": "5c9d00c9",
   "metadata": {},
   "outputs": [
    {
     "data": {
      "application/vnd.plotly.v1+json": {
       "config": {
        "plotlyServerURL": "https://plot.ly"
       },
       "data": [
        {
         "alignmentgroup": "True",
         "bingroup": "x",
         "hovertemplate": "SingleSum=%{x}<br>count=%{y}<extra></extra>",
         "legendgroup": "1",
         "marker": {
          "color": "#636efa",
          "pattern": {
           "shape": ""
          }
         },
         "name": "1",
         "nbinsx": 10,
         "offsetgroup": "1",
         "orientation": "v",
         "showlegend": true,
         "type": "histogram",
         "x": [
          1,
          1,
          1,
          1,
          1,
          1,
          1,
          1,
          1,
          1,
          1,
          1,
          1,
          1,
          1,
          1,
          1,
          1,
          1,
          1,
          1,
          1,
          1,
          1,
          1,
          1,
          1,
          1,
          1,
          1,
          1,
          1,
          1,
          1
         ],
         "xaxis": "x",
         "yaxis": "y"
        },
        {
         "alignmentgroup": "True",
         "bingroup": "x",
         "hovertemplate": "SingleSum=%{x}<br>count=%{y}<extra></extra>",
         "legendgroup": "2",
         "marker": {
          "color": "#EF553B",
          "pattern": {
           "shape": ""
          }
         },
         "name": "2",
         "nbinsx": 10,
         "offsetgroup": "2",
         "orientation": "v",
         "showlegend": true,
         "type": "histogram",
         "x": [
          2,
          2,
          2,
          2,
          2,
          2,
          2,
          2,
          2,
          2,
          2,
          2,
          2,
          2,
          2,
          2,
          2,
          2,
          2,
          2,
          2,
          2,
          2,
          2,
          2,
          2,
          2,
          2,
          2,
          2,
          2,
          2,
          2,
          2,
          2,
          2,
          2,
          2,
          2,
          2,
          2,
          2,
          2,
          2
         ],
         "xaxis": "x",
         "yaxis": "y"
        },
        {
         "alignmentgroup": "True",
         "bingroup": "x",
         "hovertemplate": "SingleSum=%{x}<br>count=%{y}<extra></extra>",
         "legendgroup": "3",
         "marker": {
          "color": "#00cc96",
          "pattern": {
           "shape": ""
          }
         },
         "name": "3",
         "nbinsx": 10,
         "offsetgroup": "3",
         "orientation": "v",
         "showlegend": true,
         "type": "histogram",
         "x": [
          3,
          3,
          3,
          3,
          3,
          3,
          3,
          3,
          3,
          3,
          3,
          3,
          3,
          3,
          3,
          3,
          3,
          3,
          3,
          3,
          3,
          3,
          3,
          3,
          3,
          3,
          3,
          3,
          3,
          3,
          3,
          3,
          3,
          3,
          3,
          3,
          3,
          3,
          3
         ],
         "xaxis": "x",
         "yaxis": "y"
        },
        {
         "alignmentgroup": "True",
         "bingroup": "x",
         "hovertemplate": "SingleSum=%{x}<br>count=%{y}<extra></extra>",
         "legendgroup": "4",
         "marker": {
          "color": "#ab63fa",
          "pattern": {
           "shape": ""
          }
         },
         "name": "4",
         "nbinsx": 10,
         "offsetgroup": "4",
         "orientation": "v",
         "showlegend": true,
         "type": "histogram",
         "x": [
          4,
          4,
          4,
          4,
          4,
          4,
          4,
          4,
          4,
          4,
          4,
          4,
          4,
          4,
          4,
          4,
          4,
          4,
          4,
          4,
          4,
          4,
          4,
          4,
          4,
          4,
          4,
          4,
          4,
          4,
          4,
          4,
          4,
          4,
          4,
          4,
          4,
          4,
          4,
          4,
          4,
          4,
          4,
          4
         ],
         "xaxis": "x",
         "yaxis": "y"
        },
        {
         "alignmentgroup": "True",
         "bingroup": "x",
         "hovertemplate": "SingleSum=%{x}<br>count=%{y}<extra></extra>",
         "legendgroup": "5",
         "marker": {
          "color": "#FFA15A",
          "pattern": {
           "shape": ""
          }
         },
         "name": "5",
         "nbinsx": 10,
         "offsetgroup": "5",
         "orientation": "v",
         "showlegend": true,
         "type": "histogram",
         "x": [
          5,
          5,
          5,
          5,
          5,
          5,
          5,
          5,
          5,
          5,
          5,
          5,
          5,
          5,
          5,
          5,
          5,
          5,
          5,
          5,
          5,
          5,
          5,
          5,
          5,
          5,
          5,
          5,
          5,
          5,
          5,
          5,
          5,
          5,
          5,
          5,
          5
         ],
         "xaxis": "x",
         "yaxis": "y"
        },
        {
         "alignmentgroup": "True",
         "bingroup": "x",
         "hovertemplate": "SingleSum=%{x}<br>count=%{y}<extra></extra>",
         "legendgroup": "6",
         "marker": {
          "color": "#19d3f3",
          "pattern": {
           "shape": ""
          }
         },
         "name": "6",
         "nbinsx": 10,
         "offsetgroup": "6",
         "orientation": "v",
         "showlegend": true,
         "type": "histogram",
         "x": [
          6,
          6,
          6,
          6,
          6,
          6,
          6,
          6,
          6,
          6,
          6,
          6,
          6,
          6,
          6,
          6,
          6,
          6,
          6,
          6,
          6,
          6,
          6,
          6,
          6,
          6,
          6,
          6,
          6,
          6,
          6,
          6,
          6,
          6,
          6,
          6,
          6,
          6,
          6,
          6,
          6
         ],
         "xaxis": "x",
         "yaxis": "y"
        },
        {
         "alignmentgroup": "True",
         "bingroup": "x",
         "hovertemplate": "SingleSum=%{x}<br>count=%{y}<extra></extra>",
         "legendgroup": "7",
         "marker": {
          "color": "#FF6692",
          "pattern": {
           "shape": ""
          }
         },
         "name": "7",
         "nbinsx": 10,
         "offsetgroup": "7",
         "orientation": "v",
         "showlegend": true,
         "type": "histogram",
         "x": [
          7,
          7,
          7,
          7,
          7,
          7,
          7,
          7,
          7,
          7,
          7,
          7,
          7,
          7,
          7,
          7,
          7,
          7,
          7,
          7,
          7,
          7,
          7,
          7,
          7,
          7,
          7,
          7,
          7,
          7,
          7,
          7,
          7,
          7,
          7,
          7,
          7,
          7,
          7,
          7,
          7,
          7,
          7,
          7,
          7,
          7,
          7
         ],
         "xaxis": "x",
         "yaxis": "y"
        },
        {
         "alignmentgroup": "True",
         "bingroup": "x",
         "hovertemplate": "SingleSum=%{x}<br>count=%{y}<extra></extra>",
         "legendgroup": "8",
         "marker": {
          "color": "#B6E880",
          "pattern": {
           "shape": ""
          }
         },
         "name": "8",
         "nbinsx": 10,
         "offsetgroup": "8",
         "orientation": "v",
         "showlegend": true,
         "type": "histogram",
         "x": [
          8,
          8,
          8,
          8,
          8,
          8,
          8,
          8,
          8,
          8,
          8,
          8,
          8,
          8,
          8,
          8,
          8,
          8,
          8,
          8,
          8,
          8,
          8,
          8,
          8,
          8,
          8,
          8,
          8,
          8,
          8,
          8,
          8,
          8,
          8,
          8,
          8,
          8,
          8
         ],
         "xaxis": "x",
         "yaxis": "y"
        },
        {
         "alignmentgroup": "True",
         "bingroup": "x",
         "hovertemplate": "SingleSum=%{x}<br>count=%{y}<extra></extra>",
         "legendgroup": "9",
         "marker": {
          "color": "#FF97FF",
          "pattern": {
           "shape": ""
          }
         },
         "name": "9",
         "nbinsx": 10,
         "offsetgroup": "9",
         "orientation": "v",
         "showlegend": true,
         "type": "histogram",
         "x": [
          9,
          9,
          9,
          9,
          9,
          9,
          9,
          9,
          9,
          9,
          9,
          9,
          9,
          9,
          9,
          9,
          9,
          9,
          9,
          9,
          9,
          9,
          9,
          9,
          9,
          9,
          9,
          9,
          9,
          9,
          9,
          9,
          9,
          9,
          9,
          9,
          9,
          9,
          9,
          9,
          9,
          9,
          9,
          9,
          9
         ],
         "xaxis": "x",
         "yaxis": "y"
        }
       ],
       "layout": {
        "barmode": "relative",
        "legend": {
         "title": {
          "text": "SingleSum"
         },
         "tracegroupgap": 0
        },
        "margin": {
         "t": 60
        },
        "template": {
         "data": {
          "bar": [
           {
            "error_x": {
             "color": "#2a3f5f"
            },
            "error_y": {
             "color": "#2a3f5f"
            },
            "marker": {
             "line": {
              "color": "#E5ECF6",
              "width": 0.5
             },
             "pattern": {
              "fillmode": "overlay",
              "size": 10,
              "solidity": 0.2
             }
            },
            "type": "bar"
           }
          ],
          "barpolar": [
           {
            "marker": {
             "line": {
              "color": "#E5ECF6",
              "width": 0.5
             },
             "pattern": {
              "fillmode": "overlay",
              "size": 10,
              "solidity": 0.2
             }
            },
            "type": "barpolar"
           }
          ],
          "carpet": [
           {
            "aaxis": {
             "endlinecolor": "#2a3f5f",
             "gridcolor": "white",
             "linecolor": "white",
             "minorgridcolor": "white",
             "startlinecolor": "#2a3f5f"
            },
            "baxis": {
             "endlinecolor": "#2a3f5f",
             "gridcolor": "white",
             "linecolor": "white",
             "minorgridcolor": "white",
             "startlinecolor": "#2a3f5f"
            },
            "type": "carpet"
           }
          ],
          "choropleth": [
           {
            "colorbar": {
             "outlinewidth": 0,
             "ticks": ""
            },
            "type": "choropleth"
           }
          ],
          "contour": [
           {
            "colorbar": {
             "outlinewidth": 0,
             "ticks": ""
            },
            "colorscale": [
             [
              0,
              "#0d0887"
             ],
             [
              0.1111111111111111,
              "#46039f"
             ],
             [
              0.2222222222222222,
              "#7201a8"
             ],
             [
              0.3333333333333333,
              "#9c179e"
             ],
             [
              0.4444444444444444,
              "#bd3786"
             ],
             [
              0.5555555555555556,
              "#d8576b"
             ],
             [
              0.6666666666666666,
              "#ed7953"
             ],
             [
              0.7777777777777778,
              "#fb9f3a"
             ],
             [
              0.8888888888888888,
              "#fdca26"
             ],
             [
              1,
              "#f0f921"
             ]
            ],
            "type": "contour"
           }
          ],
          "contourcarpet": [
           {
            "colorbar": {
             "outlinewidth": 0,
             "ticks": ""
            },
            "type": "contourcarpet"
           }
          ],
          "heatmap": [
           {
            "colorbar": {
             "outlinewidth": 0,
             "ticks": ""
            },
            "colorscale": [
             [
              0,
              "#0d0887"
             ],
             [
              0.1111111111111111,
              "#46039f"
             ],
             [
              0.2222222222222222,
              "#7201a8"
             ],
             [
              0.3333333333333333,
              "#9c179e"
             ],
             [
              0.4444444444444444,
              "#bd3786"
             ],
             [
              0.5555555555555556,
              "#d8576b"
             ],
             [
              0.6666666666666666,
              "#ed7953"
             ],
             [
              0.7777777777777778,
              "#fb9f3a"
             ],
             [
              0.8888888888888888,
              "#fdca26"
             ],
             [
              1,
              "#f0f921"
             ]
            ],
            "type": "heatmap"
           }
          ],
          "heatmapgl": [
           {
            "colorbar": {
             "outlinewidth": 0,
             "ticks": ""
            },
            "colorscale": [
             [
              0,
              "#0d0887"
             ],
             [
              0.1111111111111111,
              "#46039f"
             ],
             [
              0.2222222222222222,
              "#7201a8"
             ],
             [
              0.3333333333333333,
              "#9c179e"
             ],
             [
              0.4444444444444444,
              "#bd3786"
             ],
             [
              0.5555555555555556,
              "#d8576b"
             ],
             [
              0.6666666666666666,
              "#ed7953"
             ],
             [
              0.7777777777777778,
              "#fb9f3a"
             ],
             [
              0.8888888888888888,
              "#fdca26"
             ],
             [
              1,
              "#f0f921"
             ]
            ],
            "type": "heatmapgl"
           }
          ],
          "histogram": [
           {
            "marker": {
             "pattern": {
              "fillmode": "overlay",
              "size": 10,
              "solidity": 0.2
             }
            },
            "type": "histogram"
           }
          ],
          "histogram2d": [
           {
            "colorbar": {
             "outlinewidth": 0,
             "ticks": ""
            },
            "colorscale": [
             [
              0,
              "#0d0887"
             ],
             [
              0.1111111111111111,
              "#46039f"
             ],
             [
              0.2222222222222222,
              "#7201a8"
             ],
             [
              0.3333333333333333,
              "#9c179e"
             ],
             [
              0.4444444444444444,
              "#bd3786"
             ],
             [
              0.5555555555555556,
              "#d8576b"
             ],
             [
              0.6666666666666666,
              "#ed7953"
             ],
             [
              0.7777777777777778,
              "#fb9f3a"
             ],
             [
              0.8888888888888888,
              "#fdca26"
             ],
             [
              1,
              "#f0f921"
             ]
            ],
            "type": "histogram2d"
           }
          ],
          "histogram2dcontour": [
           {
            "colorbar": {
             "outlinewidth": 0,
             "ticks": ""
            },
            "colorscale": [
             [
              0,
              "#0d0887"
             ],
             [
              0.1111111111111111,
              "#46039f"
             ],
             [
              0.2222222222222222,
              "#7201a8"
             ],
             [
              0.3333333333333333,
              "#9c179e"
             ],
             [
              0.4444444444444444,
              "#bd3786"
             ],
             [
              0.5555555555555556,
              "#d8576b"
             ],
             [
              0.6666666666666666,
              "#ed7953"
             ],
             [
              0.7777777777777778,
              "#fb9f3a"
             ],
             [
              0.8888888888888888,
              "#fdca26"
             ],
             [
              1,
              "#f0f921"
             ]
            ],
            "type": "histogram2dcontour"
           }
          ],
          "mesh3d": [
           {
            "colorbar": {
             "outlinewidth": 0,
             "ticks": ""
            },
            "type": "mesh3d"
           }
          ],
          "parcoords": [
           {
            "line": {
             "colorbar": {
              "outlinewidth": 0,
              "ticks": ""
             }
            },
            "type": "parcoords"
           }
          ],
          "pie": [
           {
            "automargin": true,
            "type": "pie"
           }
          ],
          "scatter": [
           {
            "fillpattern": {
             "fillmode": "overlay",
             "size": 10,
             "solidity": 0.2
            },
            "type": "scatter"
           }
          ],
          "scatter3d": [
           {
            "line": {
             "colorbar": {
              "outlinewidth": 0,
              "ticks": ""
             }
            },
            "marker": {
             "colorbar": {
              "outlinewidth": 0,
              "ticks": ""
             }
            },
            "type": "scatter3d"
           }
          ],
          "scattercarpet": [
           {
            "marker": {
             "colorbar": {
              "outlinewidth": 0,
              "ticks": ""
             }
            },
            "type": "scattercarpet"
           }
          ],
          "scattergeo": [
           {
            "marker": {
             "colorbar": {
              "outlinewidth": 0,
              "ticks": ""
             }
            },
            "type": "scattergeo"
           }
          ],
          "scattergl": [
           {
            "marker": {
             "colorbar": {
              "outlinewidth": 0,
              "ticks": ""
             }
            },
            "type": "scattergl"
           }
          ],
          "scattermapbox": [
           {
            "marker": {
             "colorbar": {
              "outlinewidth": 0,
              "ticks": ""
             }
            },
            "type": "scattermapbox"
           }
          ],
          "scatterpolar": [
           {
            "marker": {
             "colorbar": {
              "outlinewidth": 0,
              "ticks": ""
             }
            },
            "type": "scatterpolar"
           }
          ],
          "scatterpolargl": [
           {
            "marker": {
             "colorbar": {
              "outlinewidth": 0,
              "ticks": ""
             }
            },
            "type": "scatterpolargl"
           }
          ],
          "scatterternary": [
           {
            "marker": {
             "colorbar": {
              "outlinewidth": 0,
              "ticks": ""
             }
            },
            "type": "scatterternary"
           }
          ],
          "surface": [
           {
            "colorbar": {
             "outlinewidth": 0,
             "ticks": ""
            },
            "colorscale": [
             [
              0,
              "#0d0887"
             ],
             [
              0.1111111111111111,
              "#46039f"
             ],
             [
              0.2222222222222222,
              "#7201a8"
             ],
             [
              0.3333333333333333,
              "#9c179e"
             ],
             [
              0.4444444444444444,
              "#bd3786"
             ],
             [
              0.5555555555555556,
              "#d8576b"
             ],
             [
              0.6666666666666666,
              "#ed7953"
             ],
             [
              0.7777777777777778,
              "#fb9f3a"
             ],
             [
              0.8888888888888888,
              "#fdca26"
             ],
             [
              1,
              "#f0f921"
             ]
            ],
            "type": "surface"
           }
          ],
          "table": [
           {
            "cells": {
             "fill": {
              "color": "#EBF0F8"
             },
             "line": {
              "color": "white"
             }
            },
            "header": {
             "fill": {
              "color": "#C8D4E3"
             },
             "line": {
              "color": "white"
             }
            },
            "type": "table"
           }
          ]
         },
         "layout": {
          "annotationdefaults": {
           "arrowcolor": "#2a3f5f",
           "arrowhead": 0,
           "arrowwidth": 1
          },
          "autotypenumbers": "strict",
          "coloraxis": {
           "colorbar": {
            "outlinewidth": 0,
            "ticks": ""
           }
          },
          "colorscale": {
           "diverging": [
            [
             0,
             "#8e0152"
            ],
            [
             0.1,
             "#c51b7d"
            ],
            [
             0.2,
             "#de77ae"
            ],
            [
             0.3,
             "#f1b6da"
            ],
            [
             0.4,
             "#fde0ef"
            ],
            [
             0.5,
             "#f7f7f7"
            ],
            [
             0.6,
             "#e6f5d0"
            ],
            [
             0.7,
             "#b8e186"
            ],
            [
             0.8,
             "#7fbc41"
            ],
            [
             0.9,
             "#4d9221"
            ],
            [
             1,
             "#276419"
            ]
           ],
           "sequential": [
            [
             0,
             "#0d0887"
            ],
            [
             0.1111111111111111,
             "#46039f"
            ],
            [
             0.2222222222222222,
             "#7201a8"
            ],
            [
             0.3333333333333333,
             "#9c179e"
            ],
            [
             0.4444444444444444,
             "#bd3786"
            ],
            [
             0.5555555555555556,
             "#d8576b"
            ],
            [
             0.6666666666666666,
             "#ed7953"
            ],
            [
             0.7777777777777778,
             "#fb9f3a"
            ],
            [
             0.8888888888888888,
             "#fdca26"
            ],
            [
             1,
             "#f0f921"
            ]
           ],
           "sequentialminus": [
            [
             0,
             "#0d0887"
            ],
            [
             0.1111111111111111,
             "#46039f"
            ],
            [
             0.2222222222222222,
             "#7201a8"
            ],
            [
             0.3333333333333333,
             "#9c179e"
            ],
            [
             0.4444444444444444,
             "#bd3786"
            ],
            [
             0.5555555555555556,
             "#d8576b"
            ],
            [
             0.6666666666666666,
             "#ed7953"
            ],
            [
             0.7777777777777778,
             "#fb9f3a"
            ],
            [
             0.8888888888888888,
             "#fdca26"
            ],
            [
             1,
             "#f0f921"
            ]
           ]
          },
          "colorway": [
           "#636efa",
           "#EF553B",
           "#00cc96",
           "#ab63fa",
           "#FFA15A",
           "#19d3f3",
           "#FF6692",
           "#B6E880",
           "#FF97FF",
           "#FECB52"
          ],
          "font": {
           "color": "#2a3f5f"
          },
          "geo": {
           "bgcolor": "white",
           "lakecolor": "white",
           "landcolor": "#E5ECF6",
           "showlakes": true,
           "showland": true,
           "subunitcolor": "white"
          },
          "hoverlabel": {
           "align": "left"
          },
          "hovermode": "closest",
          "mapbox": {
           "style": "light"
          },
          "paper_bgcolor": "white",
          "plot_bgcolor": "#E5ECF6",
          "polar": {
           "angularaxis": {
            "gridcolor": "white",
            "linecolor": "white",
            "ticks": ""
           },
           "bgcolor": "#E5ECF6",
           "radialaxis": {
            "gridcolor": "white",
            "linecolor": "white",
            "ticks": ""
           }
          },
          "scene": {
           "xaxis": {
            "backgroundcolor": "#E5ECF6",
            "gridcolor": "white",
            "gridwidth": 2,
            "linecolor": "white",
            "showbackground": true,
            "ticks": "",
            "zerolinecolor": "white"
           },
           "yaxis": {
            "backgroundcolor": "#E5ECF6",
            "gridcolor": "white",
            "gridwidth": 2,
            "linecolor": "white",
            "showbackground": true,
            "ticks": "",
            "zerolinecolor": "white"
           },
           "zaxis": {
            "backgroundcolor": "#E5ECF6",
            "gridcolor": "white",
            "gridwidth": 2,
            "linecolor": "white",
            "showbackground": true,
            "ticks": "",
            "zerolinecolor": "white"
           }
          },
          "shapedefaults": {
           "line": {
            "color": "#2a3f5f"
           }
          },
          "ternary": {
           "aaxis": {
            "gridcolor": "white",
            "linecolor": "white",
            "ticks": ""
           },
           "baxis": {
            "gridcolor": "white",
            "linecolor": "white",
            "ticks": ""
           },
           "bgcolor": "#E5ECF6",
           "caxis": {
            "gridcolor": "white",
            "linecolor": "white",
            "ticks": ""
           }
          },
          "title": {
           "x": 0.05
          },
          "xaxis": {
           "automargin": true,
           "gridcolor": "white",
           "linecolor": "white",
           "ticks": "",
           "title": {
            "standoff": 15
           },
           "zerolinecolor": "white",
           "zerolinewidth": 2
          },
          "yaxis": {
           "automargin": true,
           "gridcolor": "white",
           "linecolor": "white",
           "ticks": "",
           "title": {
            "standoff": 15
           },
           "zerolinecolor": "white",
           "zerolinewidth": 2
          }
         }
        },
        "xaxis": {
         "anchor": "y",
         "categoryarray": [
          1,
          2,
          3,
          4,
          5,
          6,
          7,
          8,
          9
         ],
         "categoryorder": "array",
         "domain": [
          0,
          1
         ],
         "title": {
          "text": "SingleSum"
         }
        },
        "yaxis": {
         "anchor": "x",
         "domain": [
          0,
          1
         ],
         "title": {
          "text": "count"
         }
        }
       }
      }
     },
     "metadata": {},
     "output_type": "display_data"
    }
   ],
   "source": [
    "px.histogram(\n",
    "    data.sort_values(\"SingleSum\"), \n",
    "    x=\"SingleSum\",  \n",
    "    color=\"SingleSum\", \n",
    "    nbins=10           \n",
    ")"
   ]
  },
  {
   "cell_type": "markdown",
   "id": "918d45da",
   "metadata": {},
   "source": [
    "## 2. Ball Ranks"
   ]
  },
  {
   "cell_type": "code",
   "execution_count": 75,
   "id": "db5fb126",
   "metadata": {},
   "outputs": [
    {
     "data": {
      "text/html": [
       "<style type=\"text/css\">\n",
       "#T_94f18_row0_col0, #T_94f18_row2_col1, #T_94f18_row3_col2, #T_94f18_row5_col3, #T_94f18_row5_col4 {\n",
       "  background-color: #00441b;\n",
       "  color: #f1f1f1;\n",
       "}\n",
       "#T_94f18_row0_col1 {\n",
       "  background-color: #a4dccf;\n",
       "  color: #000000;\n",
       "}\n",
       "#T_94f18_row0_col2, #T_94f18_row0_col3, #T_94f18_row0_col4, #T_94f18_row1_col4, #T_94f18_row5_col0, #T_94f18_row5_col1 {\n",
       "  background-color: #f7fcfd;\n",
       "  color: #000000;\n",
       "}\n",
       "#T_94f18_row1_col0 {\n",
       "  background-color: #3eaa70;\n",
       "  color: #f1f1f1;\n",
       "}\n",
       "#T_94f18_row1_col1, #T_94f18_row3_col1 {\n",
       "  background-color: #248c47;\n",
       "  color: #f1f1f1;\n",
       "}\n",
       "#T_94f18_row1_col2 {\n",
       "  background-color: #ceede8;\n",
       "  color: #000000;\n",
       "}\n",
       "#T_94f18_row1_col3, #T_94f18_row2_col4 {\n",
       "  background-color: #ecf8fb;\n",
       "  color: #000000;\n",
       "}\n",
       "#T_94f18_row2_col0 {\n",
       "  background-color: #c2e8e0;\n",
       "  color: #000000;\n",
       "}\n",
       "#T_94f18_row2_col2 {\n",
       "  background-color: #48b27f;\n",
       "  color: #f1f1f1;\n",
       "}\n",
       "#T_94f18_row2_col3 {\n",
       "  background-color: #c0e7df;\n",
       "  color: #000000;\n",
       "}\n",
       "#T_94f18_row3_col0 {\n",
       "  background-color: #e5f5f9;\n",
       "  color: #000000;\n",
       "}\n",
       "#T_94f18_row3_col3 {\n",
       "  background-color: #2f9858;\n",
       "  color: #f1f1f1;\n",
       "}\n",
       "#T_94f18_row3_col4 {\n",
       "  background-color: #e9f7fa;\n",
       "  color: #000000;\n",
       "}\n",
       "#T_94f18_row4_col0 {\n",
       "  background-color: #f6fcfd;\n",
       "  color: #000000;\n",
       "}\n",
       "#T_94f18_row4_col1 {\n",
       "  background-color: #d7f0ee;\n",
       "  color: #000000;\n",
       "}\n",
       "#T_94f18_row4_col2 {\n",
       "  background-color: #208843;\n",
       "  color: #f1f1f1;\n",
       "}\n",
       "#T_94f18_row4_col3 {\n",
       "  background-color: #0a7633;\n",
       "  color: #f1f1f1;\n",
       "}\n",
       "#T_94f18_row4_col4 {\n",
       "  background-color: #7ccbb4;\n",
       "  color: #000000;\n",
       "}\n",
       "#T_94f18_row5_col2 {\n",
       "  background-color: #8ad2be;\n",
       "  color: #000000;\n",
       "}\n",
       "</style>\n",
       "<table id=\"T_94f18\">\n",
       "  <thead>\n",
       "    <tr>\n",
       "      <th class=\"blank level0\" >&nbsp;</th>\n",
       "      <th id=\"T_94f18_level0_col0\" class=\"col_heading level0 col0\" >#1</th>\n",
       "      <th id=\"T_94f18_level0_col1\" class=\"col_heading level0 col1\" >#2</th>\n",
       "      <th id=\"T_94f18_level0_col2\" class=\"col_heading level0 col2\" >#3</th>\n",
       "      <th id=\"T_94f18_level0_col3\" class=\"col_heading level0 col3\" >#4</th>\n",
       "      <th id=\"T_94f18_level0_col4\" class=\"col_heading level0 col4\" >#5</th>\n",
       "    </tr>\n",
       "    <tr>\n",
       "      <th class=\"index_name level0\" >Dig1</th>\n",
       "      <th class=\"blank col0\" >&nbsp;</th>\n",
       "      <th class=\"blank col1\" >&nbsp;</th>\n",
       "      <th class=\"blank col2\" >&nbsp;</th>\n",
       "      <th class=\"blank col3\" >&nbsp;</th>\n",
       "      <th class=\"blank col4\" >&nbsp;</th>\n",
       "    </tr>\n",
       "  </thead>\n",
       "  <tbody>\n",
       "    <tr>\n",
       "      <th id=\"T_94f18_level0_row0\" class=\"row_heading level0 row0\" >0</th>\n",
       "      <td id=\"T_94f18_row0_col0\" class=\"data row0 col0\" >48.38%</td>\n",
       "      <td id=\"T_94f18_row0_col1\" class=\"data row0 col1\" >12.16%</td>\n",
       "      <td id=\"T_94f18_row0_col2\" class=\"data row0 col2\" >1.11%</td>\n",
       "      <td id=\"T_94f18_row0_col3\" class=\"data row0 col3\" >0.00%</td>\n",
       "      <td id=\"T_94f18_row0_col4\" class=\"data row0 col4\" >0.00%</td>\n",
       "    </tr>\n",
       "    <tr>\n",
       "      <th id=\"T_94f18_level0_row1\" class=\"row_heading level0 row1\" >1</th>\n",
       "      <td id=\"T_94f18_row1_col0\" class=\"data row1 col0\" >31.08%</td>\n",
       "      <td id=\"T_94f18_row1_col1\" class=\"data row1 col1\" >23.51%</td>\n",
       "      <td id=\"T_94f18_row1_col2\" class=\"data row1 col2\" >8.59%</td>\n",
       "      <td id=\"T_94f18_row1_col3\" class=\"data row1 col3\" >2.66%</td>\n",
       "      <td id=\"T_94f18_row1_col4\" class=\"data row1 col4\" >0.00%</td>\n",
       "    </tr>\n",
       "    <tr>\n",
       "      <th id=\"T_94f18_level0_row2\" class=\"row_heading level0 row2\" >2</th>\n",
       "      <td id=\"T_94f18_row2_col0\" class=\"data row2 col0\" >13.51%</td>\n",
       "      <td id=\"T_94f18_row2_col1\" class=\"data row2 col1\" >30.81%</td>\n",
       "      <td id=\"T_94f18_row2_col2\" class=\"data row2 col2\" >19.67%</td>\n",
       "      <td id=\"T_94f18_row2_col3\" class=\"data row2 col3\" >9.63%</td>\n",
       "      <td id=\"T_94f18_row2_col4\" class=\"data row2 col4\" >4.61%</td>\n",
       "    </tr>\n",
       "    <tr>\n",
       "      <th id=\"T_94f18_level0_row3\" class=\"row_heading level0 row3\" >3</th>\n",
       "      <td id=\"T_94f18_row3_col0\" class=\"data row3 col0\" >6.22%</td>\n",
       "      <td id=\"T_94f18_row3_col1\" class=\"data row3 col1\" >23.51%</td>\n",
       "      <td id=\"T_94f18_row3_col2\" class=\"data row3 col2\" >32.13%</td>\n",
       "      <td id=\"T_94f18_row3_col3\" class=\"data row3 col3\" >24.25%</td>\n",
       "      <td id=\"T_94f18_row3_col4\" class=\"data row3 col4\" >5.92%</td>\n",
       "    </tr>\n",
       "    <tr>\n",
       "      <th id=\"T_94f18_level0_row4\" class=\"row_heading level0 row4\" >4</th>\n",
       "      <td id=\"T_94f18_row4_col0\" class=\"data row4 col0\" >0.54%</td>\n",
       "      <td id=\"T_94f18_row4_col1\" class=\"data row4 col1\" >7.84%</td>\n",
       "      <td id=\"T_94f18_row4_col2\" class=\"data row4 col2\" >24.65%</td>\n",
       "      <td id=\"T_94f18_row4_col3\" class=\"data row4 col3\" >28.90%</td>\n",
       "      <td id=\"T_94f18_row4_col4\" class=\"data row4 col4\" >27.63%</td>\n",
       "    </tr>\n",
       "    <tr>\n",
       "      <th id=\"T_94f18_level0_row5\" class=\"row_heading level0 row5\" >5</th>\n",
       "      <td id=\"T_94f18_row5_col0\" class=\"data row5 col0\" >0.27%</td>\n",
       "      <td id=\"T_94f18_row5_col1\" class=\"data row5 col1\" >2.16%</td>\n",
       "      <td id=\"T_94f18_row5_col2\" class=\"data row5 col2\" >13.85%</td>\n",
       "      <td id=\"T_94f18_row5_col3\" class=\"data row5 col3\" >34.55%</td>\n",
       "      <td id=\"T_94f18_row5_col4\" class=\"data row5 col4\" >61.84%</td>\n",
       "    </tr>\n",
       "  </tbody>\n",
       "</table>\n"
      ],
      "text/plain": [
       "<pandas.io.formats.style.Styler at 0x2d4911e73b0>"
      ]
     },
     "execution_count": 75,
     "metadata": {},
     "output_type": "execute_result"
    }
   ],
   "source": [
    "ranks1 = pd.DataFrame()\n",
    "for i in num_cols[:-1]:\n",
    "    ranks1[i] = data[i].apply(lambda x: x[0]).value_counts()\n",
    "\n",
    "ranks1 = ranks1.fillna(0).rename_axis(\"Dig1\")\n",
    "\n",
    "ranks1_percent = ranks1.div(ranks1.sum()) * 100\n",
    "ranks1_percent.style.background_gradient(cmap='BuGn').format(\"{:.2f}%\")"
   ]
  },
  {
   "cell_type": "code",
   "execution_count": 76,
   "id": "36274bac",
   "metadata": {},
   "outputs": [
    {
     "data": {
      "text/html": [
       "<style type=\"text/css\">\n",
       "#T_5acb0_row0_col0, #T_5acb0_row1_col4, #T_5acb0_row2_col1, #T_5acb0_row4_col3, #T_5acb0_row5_col2 {\n",
       "  background-color: #00441b;\n",
       "  color: #f1f1f1;\n",
       "}\n",
       "#T_5acb0_row0_col1 {\n",
       "  background-color: #e9f7fa;\n",
       "  color: #000000;\n",
       "}\n",
       "#T_5acb0_row0_col2, #T_5acb0_row1_col2, #T_5acb0_row4_col2, #T_5acb0_row9_col2 {\n",
       "  background-color: #59bb93;\n",
       "  color: #f1f1f1;\n",
       "}\n",
       "#T_5acb0_row0_col3, #T_5acb0_row2_col3 {\n",
       "  background-color: #edf8fb;\n",
       "  color: #000000;\n",
       "}\n",
       "#T_5acb0_row0_col4 {\n",
       "  background-color: #88d1bd;\n",
       "  color: #000000;\n",
       "}\n",
       "#T_5acb0_row1_col0 {\n",
       "  background-color: #0e7936;\n",
       "  color: #f1f1f1;\n",
       "}\n",
       "#T_5acb0_row1_col1, #T_5acb0_row7_col3, #T_5acb0_row8_col2, #T_5acb0_row9_col0, #T_5acb0_row9_col4 {\n",
       "  background-color: #f7fcfd;\n",
       "  color: #000000;\n",
       "}\n",
       "#T_5acb0_row1_col3, #T_5acb0_row9_col3 {\n",
       "  background-color: #bde6de;\n",
       "  color: #000000;\n",
       "}\n",
       "#T_5acb0_row2_col0 {\n",
       "  background-color: #16803c;\n",
       "  color: #f1f1f1;\n",
       "}\n",
       "#T_5acb0_row2_col2 {\n",
       "  background-color: #1d8640;\n",
       "  color: #f1f1f1;\n",
       "}\n",
       "#T_5acb0_row2_col4 {\n",
       "  background-color: #eff9fb;\n",
       "  color: #000000;\n",
       "}\n",
       "#T_5acb0_row3_col0, #T_5acb0_row4_col0 {\n",
       "  background-color: #2e9756;\n",
       "  color: #f1f1f1;\n",
       "}\n",
       "#T_5acb0_row3_col1 {\n",
       "  background-color: #43af78;\n",
       "  color: #f1f1f1;\n",
       "}\n",
       "#T_5acb0_row3_col2 {\n",
       "  background-color: #005221;\n",
       "  color: #f1f1f1;\n",
       "}\n",
       "#T_5acb0_row3_col3 {\n",
       "  background-color: #51b689;\n",
       "  color: #f1f1f1;\n",
       "}\n",
       "#T_5acb0_row3_col4 {\n",
       "  background-color: #45b07b;\n",
       "  color: #f1f1f1;\n",
       "}\n",
       "#T_5acb0_row4_col1 {\n",
       "  background-color: #37a266;\n",
       "  color: #f1f1f1;\n",
       "}\n",
       "#T_5acb0_row4_col4 {\n",
       "  background-color: #4db585;\n",
       "  color: #f1f1f1;\n",
       "}\n",
       "#T_5acb0_row5_col0 {\n",
       "  background-color: #54b88e;\n",
       "  color: #f1f1f1;\n",
       "}\n",
       "#T_5acb0_row5_col1 {\n",
       "  background-color: #d8f0ef;\n",
       "  color: #000000;\n",
       "}\n",
       "#T_5acb0_row5_col3 {\n",
       "  background-color: #2c9553;\n",
       "  color: #f1f1f1;\n",
       "}\n",
       "#T_5acb0_row5_col4, #T_5acb0_row7_col4 {\n",
       "  background-color: #ccece6;\n",
       "  color: #000000;\n",
       "}\n",
       "#T_5acb0_row6_col0 {\n",
       "  background-color: #5dbd99;\n",
       "  color: #000000;\n",
       "}\n",
       "#T_5acb0_row6_col1 {\n",
       "  background-color: #cfede8;\n",
       "  color: #000000;\n",
       "}\n",
       "#T_5acb0_row6_col2 {\n",
       "  background-color: #026f2e;\n",
       "  color: #f1f1f1;\n",
       "}\n",
       "#T_5acb0_row6_col3 {\n",
       "  background-color: #005b25;\n",
       "  color: #f1f1f1;\n",
       "}\n",
       "#T_5acb0_row6_col4 {\n",
       "  background-color: #3eaa70;\n",
       "  color: #f1f1f1;\n",
       "}\n",
       "#T_5acb0_row7_col0 {\n",
       "  background-color: #72c7ad;\n",
       "  color: #000000;\n",
       "}\n",
       "#T_5acb0_row7_col1, #T_5acb0_row9_col1 {\n",
       "  background-color: #70c6ac;\n",
       "  color: #000000;\n",
       "}\n",
       "#T_5acb0_row7_col2 {\n",
       "  background-color: #4bb382;\n",
       "  color: #f1f1f1;\n",
       "}\n",
       "#T_5acb0_row8_col0 {\n",
       "  background-color: #bae5dc;\n",
       "  color: #000000;\n",
       "}\n",
       "#T_5acb0_row8_col1 {\n",
       "  background-color: #5ebe9b;\n",
       "  color: #000000;\n",
       "}\n",
       "#T_5acb0_row8_col3 {\n",
       "  background-color: #a0dbcd;\n",
       "  color: #000000;\n",
       "}\n",
       "#T_5acb0_row8_col4 {\n",
       "  background-color: #005f26;\n",
       "  color: #f1f1f1;\n",
       "}\n",
       "</style>\n",
       "<table id=\"T_5acb0\">\n",
       "  <thead>\n",
       "    <tr>\n",
       "      <th class=\"blank level0\" >&nbsp;</th>\n",
       "      <th id=\"T_5acb0_level0_col0\" class=\"col_heading level0 col0\" >#1</th>\n",
       "      <th id=\"T_5acb0_level0_col1\" class=\"col_heading level0 col1\" >#2</th>\n",
       "      <th id=\"T_5acb0_level0_col2\" class=\"col_heading level0 col2\" >#3</th>\n",
       "      <th id=\"T_5acb0_level0_col3\" class=\"col_heading level0 col3\" >#4</th>\n",
       "      <th id=\"T_5acb0_level0_col4\" class=\"col_heading level0 col4\" >#5</th>\n",
       "    </tr>\n",
       "    <tr>\n",
       "      <th class=\"index_name level0\" >Dig2</th>\n",
       "      <th class=\"blank col0\" >&nbsp;</th>\n",
       "      <th class=\"blank col1\" >&nbsp;</th>\n",
       "      <th class=\"blank col2\" >&nbsp;</th>\n",
       "      <th class=\"blank col3\" >&nbsp;</th>\n",
       "      <th class=\"blank col4\" >&nbsp;</th>\n",
       "    </tr>\n",
       "  </thead>\n",
       "  <tbody>\n",
       "    <tr>\n",
       "      <th id=\"T_5acb0_level0_row0\" class=\"row_heading level0 row0\" >2</th>\n",
       "      <td id=\"T_5acb0_row0_col0\" class=\"data row0 col0\" >13.78%</td>\n",
       "      <td id=\"T_5acb0_row0_col1\" class=\"data row0 col1\" >8.11%</td>\n",
       "      <td id=\"T_5acb0_row0_col2\" class=\"data row0 col2\" >9.46%</td>\n",
       "      <td id=\"T_5acb0_row0_col3\" class=\"data row0 col3\" >8.65%</td>\n",
       "      <td id=\"T_5acb0_row0_col4\" class=\"data row0 col4\" >9.46%</td>\n",
       "    </tr>\n",
       "    <tr>\n",
       "      <th id=\"T_5acb0_level0_row1\" class=\"row_heading level0 row1\" >9</th>\n",
       "      <td id=\"T_5acb0_row1_col0\" class=\"data row1 col0\" >12.16%</td>\n",
       "      <td id=\"T_5acb0_row1_col1\" class=\"data row1 col1\" >7.57%</td>\n",
       "      <td id=\"T_5acb0_row1_col2\" class=\"data row1 col2\" >9.46%</td>\n",
       "      <td id=\"T_5acb0_row1_col3\" class=\"data row1 col3\" >9.46%</td>\n",
       "      <td id=\"T_5acb0_row1_col4\" class=\"data row1 col4\" >15.14%</td>\n",
       "    </tr>\n",
       "    <tr>\n",
       "      <th id=\"T_5acb0_level0_row2\" class=\"row_heading level0 row2\" >1</th>\n",
       "      <td id=\"T_5acb0_row2_col0\" class=\"data row2 col0\" >11.89%</td>\n",
       "      <td id=\"T_5acb0_row2_col1\" class=\"data row2 col1\" >13.24%</td>\n",
       "      <td id=\"T_5acb0_row2_col2\" class=\"data row2 col2\" >10.81%</td>\n",
       "      <td id=\"T_5acb0_row2_col3\" class=\"data row2 col3\" >8.65%</td>\n",
       "      <td id=\"T_5acb0_row2_col4\" class=\"data row2 col4\" >5.95%</td>\n",
       "    </tr>\n",
       "    <tr>\n",
       "      <th id=\"T_5acb0_level0_row3\" class=\"row_heading level0 row3\" >4</th>\n",
       "      <td id=\"T_5acb0_row3_col0\" class=\"data row3 col0\" >11.08%</td>\n",
       "      <td id=\"T_5acb0_row3_col1\" class=\"data row3 col1\" >11.08%</td>\n",
       "      <td id=\"T_5acb0_row3_col2\" class=\"data row3 col2\" >11.89%</td>\n",
       "      <td id=\"T_5acb0_row3_col3\" class=\"data row3 col3\" >10.54%</td>\n",
       "      <td id=\"T_5acb0_row3_col4\" class=\"data row3 col4\" >11.35%</td>\n",
       "    </tr>\n",
       "    <tr>\n",
       "      <th id=\"T_5acb0_level0_row4\" class=\"row_heading level0 row4\" >6</th>\n",
       "      <td id=\"T_5acb0_row4_col0\" class=\"data row4 col0\" >11.08%</td>\n",
       "      <td id=\"T_5acb0_row4_col1\" class=\"data row4 col1\" >11.35%</td>\n",
       "      <td id=\"T_5acb0_row4_col2\" class=\"data row4 col2\" >9.46%</td>\n",
       "      <td id=\"T_5acb0_row4_col3\" class=\"data row4 col3\" >12.16%</td>\n",
       "      <td id=\"T_5acb0_row4_col4\" class=\"data row4 col4\" >11.08%</td>\n",
       "    </tr>\n",
       "    <tr>\n",
       "      <th id=\"T_5acb0_level0_row5\" class=\"row_heading level0 row5\" >3</th>\n",
       "      <td id=\"T_5acb0_row5_col0\" class=\"data row5 col0\" >9.73%</td>\n",
       "      <td id=\"T_5acb0_row5_col1\" class=\"data row5 col1\" >8.65%</td>\n",
       "      <td id=\"T_5acb0_row5_col2\" class=\"data row5 col2\" >12.16%</td>\n",
       "      <td id=\"T_5acb0_row5_col3\" class=\"data row5 col3\" >11.08%</td>\n",
       "      <td id=\"T_5acb0_row5_col4\" class=\"data row5 col4\" >7.84%</td>\n",
       "    </tr>\n",
       "    <tr>\n",
       "      <th id=\"T_5acb0_level0_row6\" class=\"row_heading level0 row6\" >7</th>\n",
       "      <td id=\"T_5acb0_row6_col0\" class=\"data row6 col0\" >9.46%</td>\n",
       "      <td id=\"T_5acb0_row6_col1\" class=\"data row6 col1\" >8.92%</td>\n",
       "      <td id=\"T_5acb0_row6_col2\" class=\"data row6 col2\" >11.35%</td>\n",
       "      <td id=\"T_5acb0_row6_col3\" class=\"data row6 col3\" >11.89%</td>\n",
       "      <td id=\"T_5acb0_row6_col4\" class=\"data row6 col4\" >11.62%</td>\n",
       "    </tr>\n",
       "    <tr>\n",
       "      <th id=\"T_5acb0_level0_row7\" class=\"row_heading level0 row7\" >5</th>\n",
       "      <td id=\"T_5acb0_row7_col0\" class=\"data row7 col0\" >8.92%</td>\n",
       "      <td id=\"T_5acb0_row7_col1\" class=\"data row7 col1\" >10.27%</td>\n",
       "      <td id=\"T_5acb0_row7_col2\" class=\"data row7 col2\" >9.73%</td>\n",
       "      <td id=\"T_5acb0_row7_col3\" class=\"data row7 col3\" >8.38%</td>\n",
       "      <td id=\"T_5acb0_row7_col4\" class=\"data row7 col4\" >7.84%</td>\n",
       "    </tr>\n",
       "    <tr>\n",
       "      <th id=\"T_5acb0_level0_row8\" class=\"row_heading level0 row8\" >8</th>\n",
       "      <td id=\"T_5acb0_row8_col0\" class=\"data row8 col0\" >7.30%</td>\n",
       "      <td id=\"T_5acb0_row8_col1\" class=\"data row8 col1\" >10.54%</td>\n",
       "      <td id=\"T_5acb0_row8_col2\" class=\"data row8 col2\" >6.22%</td>\n",
       "      <td id=\"T_5acb0_row8_col3\" class=\"data row8 col3\" >9.73%</td>\n",
       "      <td id=\"T_5acb0_row8_col4\" class=\"data row8 col4\" >14.32%</td>\n",
       "    </tr>\n",
       "    <tr>\n",
       "      <th id=\"T_5acb0_level0_row9\" class=\"row_heading level0 row9\" >0</th>\n",
       "      <td id=\"T_5acb0_row9_col0\" class=\"data row9 col0\" >4.59%</td>\n",
       "      <td id=\"T_5acb0_row9_col1\" class=\"data row9 col1\" >10.27%</td>\n",
       "      <td id=\"T_5acb0_row9_col2\" class=\"data row9 col2\" >9.46%</td>\n",
       "      <td id=\"T_5acb0_row9_col3\" class=\"data row9 col3\" >9.46%</td>\n",
       "      <td id=\"T_5acb0_row9_col4\" class=\"data row9 col4\" >5.41%</td>\n",
       "    </tr>\n",
       "  </tbody>\n",
       "</table>\n"
      ],
      "text/plain": [
       "<pandas.io.formats.style.Styler at 0x2d4912c5e80>"
      ]
     },
     "execution_count": 76,
     "metadata": {},
     "output_type": "execute_result"
    }
   ],
   "source": [
    "ranks2 = pd.DataFrame()\n",
    "for i in num_cols[:-1]:\n",
    "    ranks2[i] = data[i].apply(lambda x: x[-1]).value_counts()\n",
    "\n",
    "ranks2 = ranks2.fillna(0).rename_axis(\"Dig2\")\n",
    "ranks2_percent = ranks2.div(ranks2.sum()) * 100\n",
    "ranks2_percent.style.background_gradient(cmap='BuGn').format(\"{:.2f}%\")"
   ]
  },
  {
   "cell_type": "code",
   "execution_count": 73,
   "id": "1db96eea",
   "metadata": {},
   "outputs": [],
   "source": [
    "ranks1_percent = ranks1.div(ranks1.sum(axis=0), axis=1)\n",
    "ranks2_percent = ranks2.div(ranks2.sum(axis=0), axis=1)\n"
   ]
  },
  {
   "cell_type": "code",
   "execution_count": 62,
   "id": "26616e97",
   "metadata": {},
   "outputs": [
    {
     "data": {
      "text/html": [
       "<style type=\"text/css\">\n",
       "#T_c56a3_row0_col0 {\n",
       "  background-color: #dcf2f2;\n",
       "  color: #000000;\n",
       "}\n",
       "#T_c56a3_row0_col1 {\n",
       "  background-color: #f2fafc;\n",
       "  color: #000000;\n",
       "}\n",
       "#T_c56a3_row0_col2, #T_c56a3_row0_col3, #T_c56a3_row0_col4, #T_c56a3_row0_col5, #T_c56a3_row0_col6, #T_c56a3_row0_col7, #T_c56a3_row0_col8, #T_c56a3_row0_col9, #T_c56a3_row1_col0, #T_c56a3_row1_col1 {\n",
       "  background-color: #f7fcfd;\n",
       "  color: #000000;\n",
       "}\n",
       "#T_c56a3_row1_col2 {\n",
       "  background-color: #d4efec;\n",
       "  color: #000000;\n",
       "}\n",
       "#T_c56a3_row1_col3, #T_c56a3_row2_col0 {\n",
       "  background-color: #ebf7fa;\n",
       "  color: #000000;\n",
       "}\n",
       "#T_c56a3_row1_col4, #T_c56a3_row1_col6 {\n",
       "  background-color: #edf8fb;\n",
       "  color: #000000;\n",
       "}\n",
       "#T_c56a3_row1_col5, #T_c56a3_row2_col1 {\n",
       "  background-color: #e8f6fa;\n",
       "  color: #000000;\n",
       "}\n",
       "#T_c56a3_row1_col7 {\n",
       "  background-color: #dff3f4;\n",
       "  color: #000000;\n",
       "}\n",
       "#T_c56a3_row1_col8 {\n",
       "  background-color: #ecf8fb;\n",
       "  color: #000000;\n",
       "}\n",
       "#T_c56a3_row1_col9 {\n",
       "  background-color: #c0e7df;\n",
       "  color: #000000;\n",
       "}\n",
       "#T_c56a3_row2_col2 {\n",
       "  background-color: #40ad75;\n",
       "  color: #f1f1f1;\n",
       "}\n",
       "#T_c56a3_row2_col3 {\n",
       "  background-color: #a8ded2;\n",
       "  color: #000000;\n",
       "}\n",
       "#T_c56a3_row2_col4 {\n",
       "  background-color: #bce6dd;\n",
       "  color: #000000;\n",
       "}\n",
       "#T_c56a3_row2_col5 {\n",
       "  background-color: #8cd2bf;\n",
       "  color: #000000;\n",
       "}\n",
       "#T_c56a3_row2_col6, #T_c56a3_row4_col0 {\n",
       "  background-color: #bae5dc;\n",
       "  color: #000000;\n",
       "}\n",
       "#T_c56a3_row2_col7 {\n",
       "  background-color: #6cc4a8;\n",
       "  color: #000000;\n",
       "}\n",
       "#T_c56a3_row2_col8 {\n",
       "  background-color: #caebe5;\n",
       "  color: #000000;\n",
       "}\n",
       "#T_c56a3_row2_col9 {\n",
       "  background-color: #349f61;\n",
       "  color: #f1f1f1;\n",
       "}\n",
       "#T_c56a3_row3_col0 {\n",
       "  background-color: #92d5c4;\n",
       "  color: #000000;\n",
       "}\n",
       "#T_c56a3_row3_col1 {\n",
       "  background-color: #bde6de;\n",
       "  color: #000000;\n",
       "}\n",
       "#T_c56a3_row3_col2, #T_c56a3_row3_col9, #T_c56a3_row5_col0, #T_c56a3_row5_col1, #T_c56a3_row5_col3, #T_c56a3_row5_col4, #T_c56a3_row5_col5, #T_c56a3_row5_col6, #T_c56a3_row5_col7, #T_c56a3_row5_col8 {\n",
       "  background-color: #00441b;\n",
       "  color: #f1f1f1;\n",
       "}\n",
       "#T_c56a3_row3_col3 {\n",
       "  background-color: #45b07b;\n",
       "  color: #f1f1f1;\n",
       "}\n",
       "#T_c56a3_row3_col4 {\n",
       "  background-color: #59bb93;\n",
       "  color: #f1f1f1;\n",
       "}\n",
       "#T_c56a3_row3_col5 {\n",
       "  background-color: #117b38;\n",
       "  color: #f1f1f1;\n",
       "}\n",
       "#T_c56a3_row3_col6 {\n",
       "  background-color: #53b88c;\n",
       "  color: #f1f1f1;\n",
       "}\n",
       "#T_c56a3_row3_col7, #T_c56a3_row4_col9 {\n",
       "  background-color: #157f3b;\n",
       "  color: #f1f1f1;\n",
       "}\n",
       "#T_c56a3_row3_col8 {\n",
       "  background-color: #95d6c6;\n",
       "  color: #000000;\n",
       "}\n",
       "#T_c56a3_row4_col1, #T_c56a3_row5_col2 {\n",
       "  background-color: #80cdb7;\n",
       "  color: #000000;\n",
       "}\n",
       "#T_c56a3_row4_col2 {\n",
       "  background-color: #d9f1f0;\n",
       "  color: #000000;\n",
       "}\n",
       "#T_c56a3_row4_col3 {\n",
       "  background-color: #55b98f;\n",
       "  color: #f1f1f1;\n",
       "}\n",
       "#T_c56a3_row4_col4 {\n",
       "  background-color: #60bf9c;\n",
       "  color: #000000;\n",
       "}\n",
       "#T_c56a3_row4_col5 {\n",
       "  background-color: #329d5e;\n",
       "  color: #f1f1f1;\n",
       "}\n",
       "#T_c56a3_row4_col6 {\n",
       "  background-color: #47b17e;\n",
       "  color: #f1f1f1;\n",
       "}\n",
       "#T_c56a3_row4_col7 {\n",
       "  background-color: #4bb382;\n",
       "  color: #f1f1f1;\n",
       "}\n",
       "#T_c56a3_row4_col8 {\n",
       "  background-color: #64c1a2;\n",
       "  color: #000000;\n",
       "}\n",
       "#T_c56a3_row5_col9 {\n",
       "  background-color: #005120;\n",
       "  color: #f1f1f1;\n",
       "}\n",
       "</style>\n",
       "<table id=\"T_c56a3\">\n",
       "  <thead>\n",
       "    <tr>\n",
       "      <th class=\"index_name level0\" >Dig2</th>\n",
       "      <th id=\"T_c56a3_level0_col0\" class=\"col_heading level0 col0\" >2</th>\n",
       "      <th id=\"T_c56a3_level0_col1\" class=\"col_heading level0 col1\" >9</th>\n",
       "      <th id=\"T_c56a3_level0_col2\" class=\"col_heading level0 col2\" >1</th>\n",
       "      <th id=\"T_c56a3_level0_col3\" class=\"col_heading level0 col3\" >4</th>\n",
       "      <th id=\"T_c56a3_level0_col4\" class=\"col_heading level0 col4\" >6</th>\n",
       "      <th id=\"T_c56a3_level0_col5\" class=\"col_heading level0 col5\" >3</th>\n",
       "      <th id=\"T_c56a3_level0_col6\" class=\"col_heading level0 col6\" >7</th>\n",
       "      <th id=\"T_c56a3_level0_col7\" class=\"col_heading level0 col7\" >5</th>\n",
       "      <th id=\"T_c56a3_level0_col8\" class=\"col_heading level0 col8\" >8</th>\n",
       "      <th id=\"T_c56a3_level0_col9\" class=\"col_heading level0 col9\" >0</th>\n",
       "    </tr>\n",
       "    <tr>\n",
       "      <th class=\"index_name level0\" >Dig1</th>\n",
       "      <th class=\"blank col0\" >&nbsp;</th>\n",
       "      <th class=\"blank col1\" >&nbsp;</th>\n",
       "      <th class=\"blank col2\" >&nbsp;</th>\n",
       "      <th class=\"blank col3\" >&nbsp;</th>\n",
       "      <th class=\"blank col4\" >&nbsp;</th>\n",
       "      <th class=\"blank col5\" >&nbsp;</th>\n",
       "      <th class=\"blank col6\" >&nbsp;</th>\n",
       "      <th class=\"blank col7\" >&nbsp;</th>\n",
       "      <th class=\"blank col8\" >&nbsp;</th>\n",
       "      <th class=\"blank col9\" >&nbsp;</th>\n",
       "    </tr>\n",
       "  </thead>\n",
       "  <tbody>\n",
       "    <tr>\n",
       "      <th id=\"T_c56a3_level0_row0\" class=\"row_heading level0 row0\" >0</th>\n",
       "      <td id=\"T_c56a3_row0_col0\" class=\"data row0 col0\" >0.08%</td>\n",
       "      <td id=\"T_c56a3_row0_col1\" class=\"data row0 col1\" >0.07%</td>\n",
       "      <td id=\"T_c56a3_row0_col2\" class=\"data row0 col2\" >0.07%</td>\n",
       "      <td id=\"T_c56a3_row0_col3\" class=\"data row0 col3\" >0.07%</td>\n",
       "      <td id=\"T_c56a3_row0_col4\" class=\"data row0 col4\" >0.07%</td>\n",
       "      <td id=\"T_c56a3_row0_col5\" class=\"data row0 col5\" >0.06%</td>\n",
       "      <td id=\"T_c56a3_row0_col6\" class=\"data row0 col6\" >0.06%</td>\n",
       "      <td id=\"T_c56a3_row0_col7\" class=\"data row0 col7\" >0.06%</td>\n",
       "      <td id=\"T_c56a3_row0_col8\" class=\"data row0 col8\" >0.05%</td>\n",
       "      <td id=\"T_c56a3_row0_col9\" class=\"data row0 col9\" >0.04%</td>\n",
       "    </tr>\n",
       "    <tr>\n",
       "      <th id=\"T_c56a3_level0_row1\" class=\"row_heading level0 row1\" >1</th>\n",
       "      <td id=\"T_c56a3_row1_col0\" class=\"data row1 col0\" >0.07%</td>\n",
       "      <td id=\"T_c56a3_row1_col1\" class=\"data row1 col1\" >0.07%</td>\n",
       "      <td id=\"T_c56a3_row1_col2\" class=\"data row1 col2\" >0.08%</td>\n",
       "      <td id=\"T_c56a3_row1_col3\" class=\"data row1 col3\" >0.07%</td>\n",
       "      <td id=\"T_c56a3_row1_col4\" class=\"data row1 col4\" >0.07%</td>\n",
       "      <td id=\"T_c56a3_row1_col5\" class=\"data row1 col5\" >0.06%</td>\n",
       "      <td id=\"T_c56a3_row1_col6\" class=\"data row1 col6\" >0.06%</td>\n",
       "      <td id=\"T_c56a3_row1_col7\" class=\"data row1 col7\" >0.06%</td>\n",
       "      <td id=\"T_c56a3_row1_col8\" class=\"data row1 col8\" >0.06%</td>\n",
       "      <td id=\"T_c56a3_row1_col9\" class=\"data row1 col9\" >0.05%</td>\n",
       "    </tr>\n",
       "    <tr>\n",
       "      <th id=\"T_c56a3_level0_row2\" class=\"row_heading level0 row2\" >2</th>\n",
       "      <td id=\"T_c56a3_row2_col0\" class=\"data row2 col0\" >0.07%</td>\n",
       "      <td id=\"T_c56a3_row2_col1\" class=\"data row2 col1\" >0.07%</td>\n",
       "      <td id=\"T_c56a3_row2_col2\" class=\"data row2 col2\" >0.09%</td>\n",
       "      <td id=\"T_c56a3_row2_col3\" class=\"data row2 col3\" >0.09%</td>\n",
       "      <td id=\"T_c56a3_row2_col4\" class=\"data row2 col4\" >0.09%</td>\n",
       "      <td id=\"T_c56a3_row2_col5\" class=\"data row2 col5\" >0.08%</td>\n",
       "      <td id=\"T_c56a3_row2_col6\" class=\"data row2 col6\" >0.08%</td>\n",
       "      <td id=\"T_c56a3_row2_col7\" class=\"data row2 col7\" >0.07%</td>\n",
       "      <td id=\"T_c56a3_row2_col8\" class=\"data row2 col8\" >0.07%</td>\n",
       "      <td id=\"T_c56a3_row2_col9\" class=\"data row2 col9\" >0.07%</td>\n",
       "    </tr>\n",
       "    <tr>\n",
       "      <th id=\"T_c56a3_level0_row3\" class=\"row_heading level0 row3\" >3</th>\n",
       "      <td id=\"T_c56a3_row3_col0\" class=\"data row3 col0\" >0.08%</td>\n",
       "      <td id=\"T_c56a3_row3_col1\" class=\"data row3 col1\" >0.09%</td>\n",
       "      <td id=\"T_c56a3_row3_col2\" class=\"data row3 col2\" >0.10%</td>\n",
       "      <td id=\"T_c56a3_row3_col3\" class=\"data row3 col3\" >0.10%</td>\n",
       "      <td id=\"T_c56a3_row3_col4\" class=\"data row3 col4\" >0.10%</td>\n",
       "      <td id=\"T_c56a3_row3_col5\" class=\"data row3 col5\" >0.10%</td>\n",
       "      <td id=\"T_c56a3_row3_col6\" class=\"data row3 col6\" >0.10%</td>\n",
       "      <td id=\"T_c56a3_row3_col7\" class=\"data row3 col7\" >0.09%</td>\n",
       "      <td id=\"T_c56a3_row3_col8\" class=\"data row3 col8\" >0.08%</td>\n",
       "      <td id=\"T_c56a3_row3_col9\" class=\"data row3 col9\" >0.08%</td>\n",
       "    </tr>\n",
       "    <tr>\n",
       "      <th id=\"T_c56a3_level0_row4\" class=\"row_heading level0 row4\" >4</th>\n",
       "      <td id=\"T_c56a3_row4_col0\" class=\"data row4 col0\" >0.08%</td>\n",
       "      <td id=\"T_c56a3_row4_col1\" class=\"data row4 col1\" >0.10%</td>\n",
       "      <td id=\"T_c56a3_row4_col2\" class=\"data row4 col2\" >0.08%</td>\n",
       "      <td id=\"T_c56a3_row4_col3\" class=\"data row4 col3\" >0.10%</td>\n",
       "      <td id=\"T_c56a3_row4_col4\" class=\"data row4 col4\" >0.10%</td>\n",
       "      <td id=\"T_c56a3_row4_col5\" class=\"data row4 col5\" >0.09%</td>\n",
       "      <td id=\"T_c56a3_row4_col6\" class=\"data row4 col6\" >0.10%</td>\n",
       "      <td id=\"T_c56a3_row4_col7\" class=\"data row4 col7\" >0.08%</td>\n",
       "      <td id=\"T_c56a3_row4_col8\" class=\"data row4 col8\" >0.09%</td>\n",
       "      <td id=\"T_c56a3_row4_col9\" class=\"data row4 col9\" >0.07%</td>\n",
       "    </tr>\n",
       "    <tr>\n",
       "      <th id=\"T_c56a3_level0_row5\" class=\"row_heading level0 row5\" >5</th>\n",
       "      <td id=\"T_c56a3_row5_col0\" class=\"data row5 col0\" >0.10%</td>\n",
       "      <td id=\"T_c56a3_row5_col1\" class=\"data row5 col1\" >0.14%</td>\n",
       "      <td id=\"T_c56a3_row5_col2\" class=\"data row5 col2\" >0.08%</td>\n",
       "      <td id=\"T_c56a3_row5_col3\" class=\"data row5 col3\" >0.13%</td>\n",
       "      <td id=\"T_c56a3_row5_col4\" class=\"data row5 col4\" >0.13%</td>\n",
       "      <td id=\"T_c56a3_row5_col5\" class=\"data row5 col5\" >0.11%</td>\n",
       "      <td id=\"T_c56a3_row5_col6\" class=\"data row5 col6\" >0.13%</td>\n",
       "      <td id=\"T_c56a3_row5_col7\" class=\"data row5 col7\" >0.09%</td>\n",
       "      <td id=\"T_c56a3_row5_col8\" class=\"data row5 col8\" >0.13%</td>\n",
       "      <td id=\"T_c56a3_row5_col9\" class=\"data row5 col9\" >0.08%</td>\n",
       "    </tr>\n",
       "  </tbody>\n",
       "</table>\n"
      ],
      "text/plain": [
       "<pandas.io.formats.style.Styler at 0x2d4912fee40>"
      ]
     },
     "execution_count": 62,
     "metadata": {},
     "output_type": "execute_result"
    }
   ],
   "source": [
    "ranks1_percent.dot(ranks2_percent.T).style.background_gradient(cmap='BuGn').format(\"{:.2f}%\")\n"
   ]
  },
  {
   "cell_type": "code",
   "execution_count": 63,
   "id": "b14d77e9",
   "metadata": {},
   "outputs": [
    {
     "data": {
      "text/html": [
       "<style type=\"text/css\">\n",
       "#T_b7354_row0_col0, #T_b7354_row2_col3, #T_b7354_row2_col5, #T_b7354_row3_col1, #T_b7354_row5_col6, #T_b7354_row8_col4, #T_b7354_row9_col2 {\n",
       "  background-color: #f7fcfd;\n",
       "  color: #000000;\n",
       "}\n",
       "#T_b7354_row0_col1 {\n",
       "  background-color: #daf1f1;\n",
       "  color: #000000;\n",
       "}\n",
       "#T_b7354_row0_col2, #T_b7354_row0_col4, #T_b7354_row2_col2, #T_b7354_row6_col2 {\n",
       "  background-color: #98d8c9;\n",
       "  color: #000000;\n",
       "}\n",
       "#T_b7354_row0_col3, #T_b7354_row8_col3 {\n",
       "  background-color: #bae5dc;\n",
       "  color: #000000;\n",
       "}\n",
       "#T_b7354_row0_col5, #T_b7354_row4_col5, #T_b7354_row6_col5 {\n",
       "  background-color: #37a266;\n",
       "  color: #f1f1f1;\n",
       "}\n",
       "#T_b7354_row0_col6 {\n",
       "  background-color: #edf8fb;\n",
       "  color: #000000;\n",
       "}\n",
       "#T_b7354_row1_col0 {\n",
       "  background-color: #2a9350;\n",
       "  color: #f1f1f1;\n",
       "}\n",
       "#T_b7354_row1_col1 {\n",
       "  background-color: #59bb93;\n",
       "  color: #f1f1f1;\n",
       "}\n",
       "#T_b7354_row1_col2, #T_b7354_row2_col1, #T_b7354_row9_col5 {\n",
       "  background-color: #65c2a3;\n",
       "  color: #000000;\n",
       "}\n",
       "#T_b7354_row1_col3 {\n",
       "  background-color: #8ad2be;\n",
       "  color: #000000;\n",
       "}\n",
       "#T_b7354_row1_col4, #T_b7354_row5_col2 {\n",
       "  background-color: #ccece6;\n",
       "  color: #000000;\n",
       "}\n",
       "#T_b7354_row1_col5, #T_b7354_row5_col5 {\n",
       "  background-color: #aadfd3;\n",
       "  color: #000000;\n",
       "}\n",
       "#T_b7354_row1_col6, #T_b7354_row4_col6, #T_b7354_row6_col6 {\n",
       "  background-color: #27904c;\n",
       "  color: #f1f1f1;\n",
       "}\n",
       "#T_b7354_row2_col0 {\n",
       "  background-color: #006227;\n",
       "  color: #f1f1f1;\n",
       "}\n",
       "#T_b7354_row2_col4 {\n",
       "  background-color: #319c5c;\n",
       "  color: #f1f1f1;\n",
       "}\n",
       "#T_b7354_row2_col6 {\n",
       "  background-color: #74c8ae;\n",
       "  color: #000000;\n",
       "}\n",
       "#T_b7354_row3_col0, #T_b7354_row7_col0 {\n",
       "  background-color: #228a44;\n",
       "  color: #f1f1f1;\n",
       "}\n",
       "#T_b7354_row3_col2, #T_b7354_row8_col2 {\n",
       "  background-color: #77c9b0;\n",
       "  color: #000000;\n",
       "}\n",
       "#T_b7354_row3_col3, #T_b7354_row4_col0 {\n",
       "  background-color: #005723;\n",
       "  color: #f1f1f1;\n",
       "}\n",
       "#T_b7354_row3_col4 {\n",
       "  background-color: #7fcdb6;\n",
       "  color: #000000;\n",
       "}\n",
       "#T_b7354_row3_col5, #T_b7354_row7_col5 {\n",
       "  background-color: #ddf2f3;\n",
       "  color: #000000;\n",
       "}\n",
       "#T_b7354_row3_col6, #T_b7354_row7_col6, #T_b7354_row8_col0 {\n",
       "  background-color: #5cbd98;\n",
       "  color: #f1f1f1;\n",
       "}\n",
       "#T_b7354_row4_col1, #T_b7354_row7_col1 {\n",
       "  background-color: #e3f4f8;\n",
       "  color: #000000;\n",
       "}\n",
       "#T_b7354_row4_col2, #T_b7354_row4_col4, #T_b7354_row6_col3, #T_b7354_row7_col4, #T_b7354_row8_col5, #T_b7354_row9_col0, #T_b7354_row9_col1, #T_b7354_row9_col6 {\n",
       "  background-color: #00441b;\n",
       "  color: #f1f1f1;\n",
       "}\n",
       "#T_b7354_row4_col3 {\n",
       "  background-color: #dbf1f1;\n",
       "  color: #000000;\n",
       "}\n",
       "#T_b7354_row5_col0 {\n",
       "  background-color: #39a569;\n",
       "  color: #f1f1f1;\n",
       "}\n",
       "#T_b7354_row5_col1 {\n",
       "  background-color: #b0e1d6;\n",
       "  color: #000000;\n",
       "}\n",
       "#T_b7354_row5_col3 {\n",
       "  background-color: #a2dcce;\n",
       "  color: #000000;\n",
       "}\n",
       "#T_b7354_row5_col4, #T_b7354_row6_col4 {\n",
       "  background-color: #53b88c;\n",
       "  color: #f1f1f1;\n",
       "}\n",
       "#T_b7354_row6_col0 {\n",
       "  background-color: #006c2c;\n",
       "  color: #f1f1f1;\n",
       "}\n",
       "#T_b7354_row6_col1 {\n",
       "  background-color: #78cab1;\n",
       "  color: #000000;\n",
       "}\n",
       "#T_b7354_row7_col2 {\n",
       "  background-color: #0b7734;\n",
       "  color: #f1f1f1;\n",
       "}\n",
       "#T_b7354_row7_col3 {\n",
       "  background-color: #5dbd99;\n",
       "  color: #000000;\n",
       "}\n",
       "#T_b7354_row8_col1 {\n",
       "  background-color: #8cd2bf;\n",
       "  color: #000000;\n",
       "}\n",
       "#T_b7354_row8_col6 {\n",
       "  background-color: #005a24;\n",
       "  color: #f1f1f1;\n",
       "}\n",
       "#T_b7354_row9_col3 {\n",
       "  background-color: #4cb484;\n",
       "  color: #f1f1f1;\n",
       "}\n",
       "#T_b7354_row9_col4 {\n",
       "  background-color: #eef8fb;\n",
       "  color: #000000;\n",
       "}\n",
       "</style>\n",
       "<table id=\"T_b7354\">\n",
       "  <thead>\n",
       "    <tr>\n",
       "      <th class=\"index_name level0\" >1</th>\n",
       "      <th id=\"T_b7354_level0_col0\" class=\"col_heading level0 col0\" >0</th>\n",
       "      <th id=\"T_b7354_level0_col1\" class=\"col_heading level0 col1\" >1</th>\n",
       "      <th id=\"T_b7354_level0_col2\" class=\"col_heading level0 col2\" >2</th>\n",
       "      <th id=\"T_b7354_level0_col3\" class=\"col_heading level0 col3\" >3</th>\n",
       "      <th id=\"T_b7354_level0_col4\" class=\"col_heading level0 col4\" >4</th>\n",
       "      <th id=\"T_b7354_level0_col5\" class=\"col_heading level0 col5\" >5</th>\n",
       "      <th id=\"T_b7354_level0_col6\" class=\"col_heading level0 col6\" >6</th>\n",
       "    </tr>\n",
       "    <tr>\n",
       "      <th class=\"index_name level0\" >2</th>\n",
       "      <th class=\"blank col0\" >&nbsp;</th>\n",
       "      <th class=\"blank col1\" >&nbsp;</th>\n",
       "      <th class=\"blank col2\" >&nbsp;</th>\n",
       "      <th class=\"blank col3\" >&nbsp;</th>\n",
       "      <th class=\"blank col4\" >&nbsp;</th>\n",
       "      <th class=\"blank col5\" >&nbsp;</th>\n",
       "      <th class=\"blank col6\" >&nbsp;</th>\n",
       "    </tr>\n",
       "  </thead>\n",
       "  <tbody>\n",
       "    <tr>\n",
       "      <th id=\"T_b7354_level0_row0\" class=\"row_heading level0 row0\" >0</th>\n",
       "      <td id=\"T_b7354_row0_col0\" class=\"data row0 col0\" >0</td>\n",
       "      <td id=\"T_b7354_row0_col1\" class=\"data row0 col1\" >20</td>\n",
       "      <td id=\"T_b7354_row0_col2\" class=\"data row0 col2\" >25</td>\n",
       "      <td id=\"T_b7354_row0_col3\" class=\"data row0 col3\" >28</td>\n",
       "      <td id=\"T_b7354_row0_col4\" class=\"data row0 col4\" >23</td>\n",
       "      <td id=\"T_b7354_row0_col5\" class=\"data row0 col5\" >27</td>\n",
       "      <td id=\"T_b7354_row0_col6\" class=\"data row0 col6\" >22</td>\n",
       "    </tr>\n",
       "    <tr>\n",
       "      <th id=\"T_b7354_level0_row1\" class=\"row_heading level0 row1\" >1</th>\n",
       "      <td id=\"T_b7354_row1_col0\" class=\"data row1 col0\" >23</td>\n",
       "      <td id=\"T_b7354_row1_col1\" class=\"data row1 col1\" >28</td>\n",
       "      <td id=\"T_b7354_row1_col2\" class=\"data row1 col2\" >28</td>\n",
       "      <td id=\"T_b7354_row1_col3\" class=\"data row1 col3\" >30</td>\n",
       "      <td id=\"T_b7354_row1_col4\" class=\"data row1 col4\" >21</td>\n",
       "      <td id=\"T_b7354_row1_col5\" class=\"data row1 col5\" >25</td>\n",
       "      <td id=\"T_b7354_row1_col6\" class=\"data row1 col6\" >32</td>\n",
       "    </tr>\n",
       "    <tr>\n",
       "      <th id=\"T_b7354_level0_row2\" class=\"row_heading level0 row2\" >2</th>\n",
       "      <td id=\"T_b7354_row2_col0\" class=\"data row2 col0\" >29</td>\n",
       "      <td id=\"T_b7354_row2_col1\" class=\"data row2 col1\" >27</td>\n",
       "      <td id=\"T_b7354_row2_col2\" class=\"data row2 col2\" >25</td>\n",
       "      <td id=\"T_b7354_row2_col3\" class=\"data row2 col3\" >23</td>\n",
       "      <td id=\"T_b7354_row2_col4\" class=\"data row2 col4\" >28</td>\n",
       "      <td id=\"T_b7354_row2_col5\" class=\"data row2 col5\" >23</td>\n",
       "      <td id=\"T_b7354_row2_col6\" class=\"data row2 col6\" >28</td>\n",
       "    </tr>\n",
       "    <tr>\n",
       "      <th id=\"T_b7354_level0_row3\" class=\"row_heading level0 row3\" >3</th>\n",
       "      <td id=\"T_b7354_row3_col0\" class=\"data row3 col0\" >24</td>\n",
       "      <td id=\"T_b7354_row3_col1\" class=\"data row3 col1\" >16</td>\n",
       "      <td id=\"T_b7354_row3_col2\" class=\"data row3 col2\" >27</td>\n",
       "      <td id=\"T_b7354_row3_col3\" class=\"data row3 col3\" >39</td>\n",
       "      <td id=\"T_b7354_row3_col4\" class=\"data row3 col4\" >24</td>\n",
       "      <td id=\"T_b7354_row3_col5\" class=\"data row3 col5\" >24</td>\n",
       "      <td id=\"T_b7354_row3_col6\" class=\"data row3 col6\" >29</td>\n",
       "    </tr>\n",
       "    <tr>\n",
       "      <th id=\"T_b7354_level0_row4\" class=\"row_heading level0 row4\" >4</th>\n",
       "      <td id=\"T_b7354_row4_col0\" class=\"data row4 col0\" >30</td>\n",
       "      <td id=\"T_b7354_row4_col1\" class=\"data row4 col1\" >19</td>\n",
       "      <td id=\"T_b7354_row4_col2\" class=\"data row4 col2\" >40</td>\n",
       "      <td id=\"T_b7354_row4_col3\" class=\"data row4 col3\" >26</td>\n",
       "      <td id=\"T_b7354_row4_col4\" class=\"data row4 col4\" >33</td>\n",
       "      <td id=\"T_b7354_row4_col5\" class=\"data row4 col5\" >27</td>\n",
       "      <td id=\"T_b7354_row4_col6\" class=\"data row4 col6\" >32</td>\n",
       "    </tr>\n",
       "    <tr>\n",
       "      <th id=\"T_b7354_level0_row5\" class=\"row_heading level0 row5\" >5</th>\n",
       "      <td id=\"T_b7354_row5_col0\" class=\"data row5 col0\" >21</td>\n",
       "      <td id=\"T_b7354_row5_col1\" class=\"data row5 col1\" >23</td>\n",
       "      <td id=\"T_b7354_row5_col2\" class=\"data row5 col2\" >22</td>\n",
       "      <td id=\"T_b7354_row5_col3\" class=\"data row5 col3\" >29</td>\n",
       "      <td id=\"T_b7354_row5_col4\" class=\"data row5 col4\" >26</td>\n",
       "      <td id=\"T_b7354_row5_col5\" class=\"data row5 col5\" >25</td>\n",
       "      <td id=\"T_b7354_row5_col6\" class=\"data row5 col6\" >21</td>\n",
       "    </tr>\n",
       "    <tr>\n",
       "      <th id=\"T_b7354_level0_row6\" class=\"row_heading level0 row6\" >6</th>\n",
       "      <td id=\"T_b7354_row6_col0\" class=\"data row6 col0\" >28</td>\n",
       "      <td id=\"T_b7354_row6_col1\" class=\"data row6 col1\" >26</td>\n",
       "      <td id=\"T_b7354_row6_col2\" class=\"data row6 col2\" >25</td>\n",
       "      <td id=\"T_b7354_row6_col3\" class=\"data row6 col3\" >40</td>\n",
       "      <td id=\"T_b7354_row6_col4\" class=\"data row6 col4\" >26</td>\n",
       "      <td id=\"T_b7354_row6_col5\" class=\"data row6 col5\" >27</td>\n",
       "      <td id=\"T_b7354_row6_col6\" class=\"data row6 col6\" >32</td>\n",
       "    </tr>\n",
       "    <tr>\n",
       "      <th id=\"T_b7354_level0_row7\" class=\"row_heading level0 row7\" >7</th>\n",
       "      <td id=\"T_b7354_row7_col0\" class=\"data row7 col0\" >24</td>\n",
       "      <td id=\"T_b7354_row7_col1\" class=\"data row7 col1\" >19</td>\n",
       "      <td id=\"T_b7354_row7_col2\" class=\"data row7 col2\" >36</td>\n",
       "      <td id=\"T_b7354_row7_col3\" class=\"data row7 col3\" >32</td>\n",
       "      <td id=\"T_b7354_row7_col4\" class=\"data row7 col4\" >33</td>\n",
       "      <td id=\"T_b7354_row7_col5\" class=\"data row7 col5\" >24</td>\n",
       "      <td id=\"T_b7354_row7_col6\" class=\"data row7 col6\" >29</td>\n",
       "    </tr>\n",
       "    <tr>\n",
       "      <th id=\"T_b7354_level0_row8\" class=\"row_heading level0 row8\" >8</th>\n",
       "      <td id=\"T_b7354_row8_col0\" class=\"data row8 col0\" >17</td>\n",
       "      <td id=\"T_b7354_row8_col1\" class=\"data row8 col1\" >25</td>\n",
       "      <td id=\"T_b7354_row8_col2\" class=\"data row8 col2\" >27</td>\n",
       "      <td id=\"T_b7354_row8_col3\" class=\"data row8 col3\" >28</td>\n",
       "      <td id=\"T_b7354_row8_col4\" class=\"data row8 col4\" >17</td>\n",
       "      <td id=\"T_b7354_row8_col5\" class=\"data row8 col5\" >29</td>\n",
       "      <td id=\"T_b7354_row8_col6\" class=\"data row8 col6\" >35</td>\n",
       "    </tr>\n",
       "    <tr>\n",
       "      <th id=\"T_b7354_level0_row9\" class=\"row_heading level0 row9\" >9</th>\n",
       "      <td id=\"T_b7354_row9_col0\" class=\"data row9 col0\" >32</td>\n",
       "      <td id=\"T_b7354_row9_col1\" class=\"data row9 col1\" >38</td>\n",
       "      <td id=\"T_b7354_row9_col2\" class=\"data row9 col2\" >16</td>\n",
       "      <td id=\"T_b7354_row9_col3\" class=\"data row9 col3\" >33</td>\n",
       "      <td id=\"T_b7354_row9_col4\" class=\"data row9 col4\" >18</td>\n",
       "      <td id=\"T_b7354_row9_col5\" class=\"data row9 col5\" >26</td>\n",
       "      <td id=\"T_b7354_row9_col6\" class=\"data row9 col6\" >36</td>\n",
       "    </tr>\n",
       "  </tbody>\n",
       "</table>\n"
      ],
      "text/plain": [
       "<pandas.io.formats.style.Styler at 0x2d4912c6930>"
      ]
     },
     "execution_count": 63,
     "metadata": {},
     "output_type": "execute_result"
    }
   ],
   "source": [
    "all_nums = pd.concat([data[i] for i in num_cols[:-1]]).to_frame(name=\"#\")\n",
    "all_nums['1'] = all_nums[\"#\"].apply(lambda x: x[0])\n",
    "all_nums['2'] = all_nums[\"#\"].apply(lambda x: x[-1])\n",
    "all_nums\n",
    "all_nums.groupby([\"1\",\"2\"]).count().reset_index().pivot_table(index=\"2\", columns=\"1\", values=\"#\").fillna(0).astype(int).style.background_gradient(cmap='BuGn')"
   ]
  },
  {
   "cell_type": "code",
   "execution_count": 64,
   "id": "b50a5916",
   "metadata": {},
   "outputs": [
    {
     "data": {
      "text/html": [
       "<div>\n",
       "<style scoped>\n",
       "    .dataframe tbody tr th:only-of-type {\n",
       "        vertical-align: middle;\n",
       "    }\n",
       "\n",
       "    .dataframe tbody tr th {\n",
       "        vertical-align: top;\n",
       "    }\n",
       "\n",
       "    .dataframe thead th {\n",
       "        text-align: right;\n",
       "    }\n",
       "</style>\n",
       "<table border=\"1\" class=\"dataframe\">\n",
       "  <thead>\n",
       "    <tr style=\"text-align: right;\">\n",
       "      <th></th>\n",
       "      <th>#</th>\n",
       "      <th>1</th>\n",
       "      <th>2</th>\n",
       "    </tr>\n",
       "  </thead>\n",
       "  <tbody>\n",
       "    <tr>\n",
       "      <th>1305</th>\n",
       "      <td>12</td>\n",
       "      <td>1</td>\n",
       "      <td>2</td>\n",
       "    </tr>\n",
       "    <tr>\n",
       "      <th>1306</th>\n",
       "      <td>11</td>\n",
       "      <td>1</td>\n",
       "      <td>1</td>\n",
       "    </tr>\n",
       "    <tr>\n",
       "      <th>1307</th>\n",
       "      <td>14</td>\n",
       "      <td>1</td>\n",
       "      <td>4</td>\n",
       "    </tr>\n",
       "    <tr>\n",
       "      <th>1308</th>\n",
       "      <td>18</td>\n",
       "      <td>1</td>\n",
       "      <td>8</td>\n",
       "    </tr>\n",
       "    <tr>\n",
       "      <th>1309</th>\n",
       "      <td>37</td>\n",
       "      <td>3</td>\n",
       "      <td>7</td>\n",
       "    </tr>\n",
       "    <tr>\n",
       "      <th>...</th>\n",
       "      <td>...</td>\n",
       "      <td>...</td>\n",
       "      <td>...</td>\n",
       "    </tr>\n",
       "    <tr>\n",
       "      <th>1671</th>\n",
       "      <td>69</td>\n",
       "      <td>6</td>\n",
       "      <td>9</td>\n",
       "    </tr>\n",
       "    <tr>\n",
       "      <th>1672</th>\n",
       "      <td>64</td>\n",
       "      <td>6</td>\n",
       "      <td>4</td>\n",
       "    </tr>\n",
       "    <tr>\n",
       "      <th>1673</th>\n",
       "      <td>69</td>\n",
       "      <td>6</td>\n",
       "      <td>9</td>\n",
       "    </tr>\n",
       "    <tr>\n",
       "      <th>1674</th>\n",
       "      <td>53</td>\n",
       "      <td>5</td>\n",
       "      <td>3</td>\n",
       "    </tr>\n",
       "    <tr>\n",
       "      <th>1675</th>\n",
       "      <td>59</td>\n",
       "      <td>5</td>\n",
       "      <td>9</td>\n",
       "    </tr>\n",
       "  </tbody>\n",
       "</table>\n",
       "<p>1850 rows × 3 columns</p>\n",
       "</div>"
      ],
      "text/plain": [
       "       #  1  2\n",
       "1305  12  1  2\n",
       "1306  11  1  1\n",
       "1307  14  1  4\n",
       "1308  18  1  8\n",
       "1309  37  3  7\n",
       "...   .. .. ..\n",
       "1671  69  6  9\n",
       "1672  64  6  4\n",
       "1673  69  6  9\n",
       "1674  53  5  3\n",
       "1675  59  5  9\n",
       "\n",
       "[1850 rows x 3 columns]"
      ]
     },
     "execution_count": 64,
     "metadata": {},
     "output_type": "execute_result"
    }
   ],
   "source": [
    "all_nums"
   ]
  },
  {
   "cell_type": "code",
   "execution_count": 65,
   "id": "2a305f72",
   "metadata": {},
   "outputs": [
    {
     "data": {
      "application/vnd.plotly.v1+json": {
       "config": {
        "plotlyServerURL": "https://plot.ly"
       },
       "data": [
        {
         "nbinsx": 100,
         "type": "histogram",
         "x": [
          12,
          11,
          14,
          18,
          37,
          4,
          18,
          5,
          6,
          7,
          40,
          14,
          1,
          19,
          2,
          27,
          11,
          14,
          2,
          22,
          18,
          2,
          19,
          10,
          3,
          6,
          6,
          11,
          8,
          9,
          15,
          32,
          14,
          4,
          22,
          3,
          14,
          10,
          39,
          25,
          1,
          4,
          15,
          9,
          8,
          32,
          29,
          19,
          20,
          23,
          5,
          12,
          6,
          2,
          13,
          7,
          18,
          4,
          3,
          38,
          6,
          9,
          5,
          7,
          6,
          3,
          13,
          6,
          8,
          2,
          26,
          13,
          3,
          14,
          32,
          19,
          6,
          19,
          18,
          19,
          19,
          13,
          2,
          28,
          7,
          16,
          19,
          28,
          7,
          1,
          1,
          15,
          29,
          4,
          6,
          35,
          6,
          9,
          16,
          36,
          33,
          7,
          12,
          17,
          17,
          26,
          18,
          7,
          12,
          35,
          18,
          4,
          24,
          4,
          6,
          5,
          12,
          9,
          2,
          1,
          31,
          2,
          5,
          52,
          10,
          17,
          31,
          8,
          3,
          11,
          11,
          16,
          2,
          10,
          2,
          26,
          11,
          3,
          16,
          14,
          1,
          27,
          15,
          19,
          4,
          11,
          16,
          3,
          11,
          9,
          9,
          1,
          23,
          4,
          17,
          19,
          2,
          16,
          3,
          21,
          31,
          15,
          21,
          3,
          1,
          18,
          17,
          9,
          12,
          24,
          21,
          2,
          15,
          2,
          16,
          21,
          2,
          3,
          2,
          36,
          5,
          2,
          6,
          19,
          4,
          15,
          17,
          7,
          2,
          23,
          2,
          5,
          7,
          25,
          3,
          3,
          10,
          2,
          23,
          18,
          6,
          10,
          19,
          32,
          9,
          1,
          3,
          25,
          20,
          4,
          4,
          25,
          1,
          9,
          11,
          9,
          22,
          8,
          2,
          16,
          1,
          10,
          1,
          19,
          12,
          9,
          47,
          16,
          22,
          14,
          2,
          1,
          6,
          34,
          18,
          25,
          14,
          19,
          22,
          1,
          12,
          14,
          1,
          24,
          3,
          19,
          20,
          27,
          2,
          6,
          28,
          18,
          2,
          5,
          1,
          3,
          3,
          5,
          27,
          9,
          5,
          4,
          10,
          12,
          30,
          4,
          7,
          25,
          13,
          13,
          18,
          16,
          24,
          1,
          7,
          39,
          15,
          9,
          1,
          12,
          27,
          17,
          1,
          6,
          4,
          4,
          3,
          24,
          16,
          3,
          36,
          6,
          30,
          1,
          21,
          12,
          10,
          13,
          6,
          7,
          37,
          12,
          19,
          11,
          22,
          6,
          6,
          7,
          7,
          24,
          4,
          12,
          2,
          9,
          11,
          1,
          14,
          7,
          7,
          3,
          5,
          19,
          19,
          1,
          5,
          6,
          9,
          17,
          28,
          19,
          8,
          8,
          3,
          19,
          4,
          30,
          4,
          4,
          5,
          4,
          26,
          5,
          2,
          5,
          20,
          7,
          9,
          9,
          24,
          18,
          31,
          16,
          3,
          11,
          23,
          13,
          29,
          6,
          9,
          9,
          8,
          12,
          1,
          27,
          5,
          2,
          5,
          4,
          8,
          7,
          18,
          36,
          21,
          27,
          39,
          5,
          30,
          7,
          40,
          15,
          41,
          15,
          33,
          28,
          39,
          28,
          41,
          16,
          10,
          39,
          20,
          27,
          28,
          19,
          44,
          10,
          12,
          13,
          40,
          10,
          16,
          36,
          22,
          26,
          23,
          18,
          34,
          20,
          41,
          37,
          25,
          17,
          21,
          21,
          15,
          45,
          44,
          24,
          24,
          28,
          9,
          27,
          24,
          18,
          36,
          8,
          27,
          7,
          16,
          42,
          14,
          10,
          25,
          15,
          33,
          9,
          20,
          10,
          21,
          16,
          30,
          43,
          6,
          30,
          37,
          30,
          8,
          25,
          23,
          36,
          31,
          19,
          11,
          45,
          14,
          20,
          35,
          34,
          28,
          6,
          2,
          30,
          30,
          19,
          13,
          45,
          28,
          23,
          31,
          51,
          56,
          37,
          15,
          37,
          41,
          32,
          37,
          9,
          32,
          36,
          43,
          8,
          26,
          14,
          15,
          14,
          31,
          17,
          18,
          4,
          43,
          8,
          11,
          58,
          23,
          26,
          32,
          21,
          17,
          19,
          24,
          28,
          9,
          16,
          13,
          27,
          20,
          10,
          18,
          20,
          27,
          28,
          17,
          26,
          9,
          19,
          30,
          5,
          22,
          10,
          36,
          33,
          25,
          11,
          36,
          21,
          15,
          53,
          38,
          26,
          39,
          20,
          24,
          15,
          26,
          34,
          23,
          38,
          21,
          38,
          33,
          4,
          45,
          31,
          21,
          32,
          3,
          20,
          12,
          39,
          11,
          38,
          28,
          25,
          17,
          26,
          24,
          23,
          24,
          35,
          9,
          8,
          10,
          27,
          4,
          16,
          25,
          11,
          24,
          42,
          13,
          15,
          21,
          34,
          11,
          25,
          4,
          30,
          22,
          6,
          13,
          38,
          26,
          14,
          19,
          25,
          30,
          11,
          21,
          27,
          12,
          12,
          7,
          30,
          26,
          35,
          54,
          34,
          24,
          16,
          27,
          4,
          15,
          50,
          21,
          27,
          24,
          22,
          26,
          28,
          25,
          21,
          12,
          33,
          4,
          26,
          24,
          33,
          21,
          47,
          35,
          19,
          12,
          25,
          24,
          8,
          9,
          8,
          35,
          14,
          12,
          11,
          11,
          21,
          31,
          31,
          17,
          40,
          31,
          30,
          22,
          31,
          25,
          5,
          38,
          41,
          18,
          11,
          2,
          21,
          28,
          36,
          4,
          28,
          23,
          27,
          8,
          29,
          26,
          18,
          42,
          19,
          36,
          3,
          29,
          23,
          17,
          22,
          23,
          11,
          46,
          13,
          24,
          38,
          27,
          21,
          7,
          33,
          16,
          29,
          35,
          16,
          20,
          30,
          38,
          11,
          20,
          23,
          41,
          6,
          14,
          42,
          36,
          7,
          16,
          33,
          30,
          34,
          38,
          29,
          44,
          38,
          10,
          30,
          36,
          48,
          27,
          5,
          6,
          9,
          51,
          9,
          26,
          32,
          22,
          11,
          55,
          31,
          27,
          25,
          36,
          42,
          31,
          27,
          34,
          33,
          42,
          19,
          24,
          22,
          9,
          31,
          2,
          31,
          15,
          4,
          33,
          34,
          42,
          10,
          20,
          61,
          37,
          33,
          55,
          6,
          35,
          61,
          41,
          22,
          58,
          25,
          37,
          39,
          50,
          51,
          56,
          36,
          35,
          43,
          26,
          42,
          41,
          40,
          61,
          31,
          20,
          18,
          49,
          37,
          24,
          49,
          42,
          34,
          36,
          23,
          36,
          23,
          54,
          38,
          44,
          57,
          31,
          56,
          46,
          51,
          59,
          35,
          47,
          41,
          11,
          34,
          35,
          56,
          43,
          19,
          49,
          32,
          30,
          56,
          16,
          20,
          36,
          36,
          34,
          21,
          31,
          24,
          22,
          22,
          33,
          53,
          11,
          41,
          40,
          36,
          15,
          48,
          35,
          37,
          40,
          36,
          22,
          53,
          24,
          44,
          53,
          51,
          62,
          40,
          31,
          47,
          32,
          24,
          33,
          47,
          44,
          47,
          50,
          59,
          64,
          55,
          24,
          46,
          47,
          38,
          44,
          12,
          56,
          44,
          48,
          46,
          39,
          33,
          22,
          19,
          47,
          20,
          23,
          12,
          58,
          15,
          22,
          59,
          30,
          37,
          54,
          31,
          26,
          39,
          58,
          49,
          28,
          18,
          29,
          43,
          33,
          24,
          33,
          30,
          32,
          37,
          18,
          36,
          24,
          21,
          31,
          9,
          24,
          36,
          41,
          34,
          35,
          21,
          47,
          55,
          30,
          54,
          55,
          30,
          47,
          33,
          33,
          20,
          28,
          37,
          32,
          48,
          44,
          39,
          35,
          54,
          64,
          45,
          29,
          42,
          16,
          36,
          45,
          52,
          33,
          44,
          39,
          34,
          35,
          31,
          48,
          24,
          34,
          45,
          43,
          9,
          11,
          36,
          12,
          40,
          27,
          48,
          33,
          44,
          20,
          21,
          37,
          37,
          17,
          27,
          12,
          32,
          26,
          25,
          35,
          42,
          32,
          20,
          29,
          27,
          37,
          19,
          26,
          59,
          20,
          22,
          46,
          37,
          27,
          54,
          57,
          46,
          40,
          42,
          31,
          13,
          24,
          51,
          25,
          41,
          50,
          34,
          39,
          30,
          40,
          33,
          14,
          35,
          51,
          30,
          33,
          63,
          38,
          50,
          41,
          27,
          37,
          26,
          27,
          41,
          10,
          19,
          41,
          17,
          20,
          38,
          26,
          42,
          38,
          34,
          28,
          43,
          33,
          35,
          43,
          34,
          43,
          32,
          65,
          43,
          19,
          27,
          27,
          62,
          34,
          43,
          45,
          59,
          45,
          33,
          40,
          42,
          29,
          27,
          50,
          28,
          49,
          7,
          54,
          44,
          20,
          27,
          25,
          19,
          57,
          33,
          40,
          41,
          44,
          23,
          12,
          40,
          41,
          44,
          41,
          33,
          22,
          53,
          47,
          19,
          23,
          24,
          43,
          39,
          29,
          45,
          37,
          48,
          18,
          35,
          39,
          56,
          52,
          35,
          45,
          52,
          33,
          31,
          48,
          53,
          44,
          15,
          36,
          36,
          54,
          32,
          33,
          35,
          31,
          12,
          59,
          39,
          32,
          31,
          56,
          59,
          37,
          30,
          37,
          40,
          44,
          35,
          33,
          57,
          23,
          43,
          15,
          33,
          21,
          23,
          47,
          35,
          46,
          21,
          39,
          62,
          44,
          39,
          63,
          28,
          52,
          63,
          45,
          36,
          64,
          52,
          39,
          42,
          61,
          68,
          57,
          52,
          44,
          62,
          53,
          44,
          42,
          45,
          63,
          48,
          27,
          30,
          58,
          59,
          31,
          62,
          46,
          37,
          47,
          32,
          50,
          49,
          59,
          39,
          55,
          58,
          36,
          57,
          56,
          57,
          61,
          43,
          50,
          50,
          16,
          55,
          37,
          60,
          61,
          24,
          65,
          55,
          33,
          68,
          34,
          22,
          51,
          46,
          45,
          24,
          33,
          33,
          65,
          55,
          37,
          60,
          17,
          42,
          58,
          46,
          27,
          55,
          45,
          46,
          46,
          39,
          35,
          56,
          30,
          57,
          54,
          53,
          63,
          51,
          39,
          50,
          48,
          47,
          36,
          54,
          59,
          49,
          55,
          66,
          66,
          65,
          34,
          54,
          60,
          45,
          50,
          31,
          67,
          45,
          60,
          47,
          47,
          39,
          42,
          46,
          58,
          38,
          27,
          36,
          59,
          19,
          23,
          64,
          54,
          61,
          60,
          32,
          38,
          44,
          66,
          51,
          36,
          40,
          58,
          61,
          43,
          46,
          37,
          54,
          47,
          50,
          47,
          43,
          46,
          29,
          54,
          42,
          51,
          46,
          44,
          56,
          63,
          38,
          63,
          66,
          35,
          57,
          61,
          45,
          51,
          36,
          55,
          23,
          55,
          45,
          38,
          52,
          50,
          48,
          62,
          61,
          67,
          46,
          53,
          46,
          23,
          42,
          61,
          57,
          35,
          50,
          43,
          57,
          49,
          38,
          62,
          32,
          53,
          66,
          55,
          17,
          13,
          37,
          28,
          48,
          34,
          58,
          51,
          62,
          35,
          67,
          50,
          39,
          19,
          38,
          22,
          33,
          28,
          55,
          61,
          66,
          46,
          23,
          63,
          53,
          44,
          24,
          40,
          62,
          33,
          36,
          47,
          44,
          43,
          63,
          60,
          55,
          52,
          48,
          44,
          35,
          67,
          61,
          46,
          53,
          59,
          66,
          47,
          34,
          59,
          39,
          24,
          37,
          53,
          39,
          39,
          66,
          61,
          61,
          47,
          28,
          56,
          40,
          31,
          56,
          20,
          34,
          56,
          18,
          24,
          51,
          27,
          44,
          48,
          38,
          40,
          48,
          51,
          49,
          61,
          47,
          52,
          50,
          66,
          49,
          41,
          59,
          30,
          67,
          37,
          53,
          47,
          62,
          50,
          41,
          53,
          51,
          38,
          36,
          52,
          44,
          52,
          16,
          59,
          57,
          39,
          54,
          34,
          53,
          60,
          50,
          42,
          62,
          52,
          39,
          24,
          43,
          56,
          47,
          44,
          39,
          26,
          55,
          67,
          21,
          53,
          56,
          44,
          49,
          38,
          55,
          42,
          64,
          26,
          36,
          49,
          60,
          54,
          36,
          51,
          54,
          58,
          61,
          54,
          58,
          50,
          32,
          53,
          47,
          61,
          39,
          55,
          39,
          33,
          27,
          66,
          40,
          47,
          40,
          58,
          63,
          40,
          33,
          50,
          60,
          51,
          47,
          64,
          67,
          29,
          45,
          23,
          38,
          24,
          68,
          50,
          38,
          48,
          33,
          61,
          68,
          63,
          44,
          69,
          67,
          56,
          69,
          52,
          64,
          65,
          58,
          42,
          57,
          66,
          69,
          63,
          60,
          46,
          64,
          69,
          51,
          51,
          58,
          69,
          56,
          32,
          37,
          63,
          62,
          56,
          69,
          52,
          52,
          63,
          57,
          58,
          65,
          62,
          65,
          57,
          68,
          65,
          66,
          68,
          58,
          68,
          62,
          63,
          55,
          66,
          67,
          44,
          65,
          69,
          28,
          69,
          64,
          36,
          69,
          66,
          52,
          61,
          67,
          54,
          29,
          59,
          67,
          69,
          63,
          62,
          68,
          22,
          59,
          62,
          60,
          42,
          60,
          54,
          56,
          57,
          59,
          60,
          69,
          56,
          58,
          67,
          56,
          64,
          67,
          66,
          51,
          50,
          66,
          37,
          55,
          61,
          68,
          61,
          68,
          68,
          67,
          59,
          67,
          61,
          56,
          64,
          62,
          68,
          67,
          69,
          48,
          57,
          61,
          47,
          64,
          60,
          40,
          47,
          49,
          66,
          58,
          69,
          66,
          65,
          65,
          63,
          37,
          54,
          65,
          67,
          55,
          53,
          66,
          69,
          69,
          58,
          63,
          50,
          69,
          67,
          57,
          57,
          58,
          66,
          52,
          68,
          52,
          60,
          52,
          59,
          59,
          64,
          64,
          68,
          68,
          49,
          65,
          66,
          47,
          53,
          43,
          69,
          46,
          58,
          51,
          63,
          68,
          58,
          56,
          64,
          62,
          68,
          49,
          66,
          50,
          68,
          64,
          64,
          69,
          63,
          62,
          54,
          68,
          61,
          61,
          68,
          43,
          58,
          67,
          57,
          41,
          24,
          63,
          49,
          60,
          38,
          65,
          64,
          65,
          54,
          69,
          65,
          47,
          55,
          62,
          28,
          55,
          63,
          68,
          69,
          67,
          51,
          63,
          68,
          66,
          45,
          46,
          42,
          63,
          66,
          50,
          63,
          46,
          47,
          64,
          65,
          67,
          64,
          64,
          64,
          58,
          68,
          67,
          64,
          68,
          64,
          69,
          63,
          52,
          61,
          62,
          57,
          42,
          60,
          63,
          42,
          68,
          66,
          68,
          60,
          45,
          65,
          60,
          62,
          64,
          62,
          39,
          60,
          53,
          29,
          68,
          34,
          49,
          68,
          61,
          45,
          50,
          58,
          59,
          65,
          65,
          63,
          64,
          68,
          64,
          43,
          66,
          67,
          69,
          44,
          67,
          67,
          69,
          53,
          42,
          58,
          54,
          50,
          53,
          67,
          60,
          63,
          66,
          62,
          61,
          44,
          66,
          51,
          68,
          66,
          52,
          56,
          65,
          69,
          54,
          36,
          69,
          61,
          54,
          58,
          52,
          47,
          62,
          69,
          68,
          69,
          60,
          51,
          67,
          66,
          69,
          59,
          68,
          67,
          64,
          59,
          61,
          68,
          45,
          69,
          64,
          59,
          62,
          56,
          66,
          64,
          62,
          69,
          56,
          69,
          55,
          57,
          49,
          45,
          46,
          69,
          45,
          66,
          57,
          69,
          68,
          64,
          44,
          58,
          61,
          54,
          57,
          69,
          68,
          62,
          46,
          28,
          67,
          43,
          69,
          64,
          69,
          53,
          59
         ]
        }
       ],
       "layout": {
        "shapes": [
         {
          "line": {
           "color": "black",
           "dash": "dash",
           "width": 1
          },
          "type": "line",
          "x0": 10,
          "x1": 10,
          "xref": "x",
          "y0": 0,
          "y1": 1,
          "yref": "y domain"
         },
         {
          "line": {
           "color": "black",
           "dash": "dash",
           "width": 1
          },
          "type": "line",
          "x0": 20,
          "x1": 20,
          "xref": "x",
          "y0": 0,
          "y1": 1,
          "yref": "y domain"
         },
         {
          "line": {
           "color": "black",
           "dash": "dash",
           "width": 1
          },
          "type": "line",
          "x0": 30,
          "x1": 30,
          "xref": "x",
          "y0": 0,
          "y1": 1,
          "yref": "y domain"
         },
         {
          "line": {
           "color": "black",
           "dash": "dash",
           "width": 1
          },
          "type": "line",
          "x0": 40,
          "x1": 40,
          "xref": "x",
          "y0": 0,
          "y1": 1,
          "yref": "y domain"
         },
         {
          "line": {
           "color": "black",
           "dash": "dash",
           "width": 1
          },
          "type": "line",
          "x0": 50,
          "x1": 50,
          "xref": "x",
          "y0": 0,
          "y1": 1,
          "yref": "y domain"
         },
         {
          "line": {
           "color": "black",
           "dash": "dash",
           "width": 1
          },
          "type": "line",
          "x0": 60,
          "x1": 60,
          "xref": "x",
          "y0": 0,
          "y1": 1,
          "yref": "y domain"
         }
        ],
        "template": {
         "data": {
          "bar": [
           {
            "error_x": {
             "color": "#2a3f5f"
            },
            "error_y": {
             "color": "#2a3f5f"
            },
            "marker": {
             "line": {
              "color": "#E5ECF6",
              "width": 0.5
             },
             "pattern": {
              "fillmode": "overlay",
              "size": 10,
              "solidity": 0.2
             }
            },
            "type": "bar"
           }
          ],
          "barpolar": [
           {
            "marker": {
             "line": {
              "color": "#E5ECF6",
              "width": 0.5
             },
             "pattern": {
              "fillmode": "overlay",
              "size": 10,
              "solidity": 0.2
             }
            },
            "type": "barpolar"
           }
          ],
          "carpet": [
           {
            "aaxis": {
             "endlinecolor": "#2a3f5f",
             "gridcolor": "white",
             "linecolor": "white",
             "minorgridcolor": "white",
             "startlinecolor": "#2a3f5f"
            },
            "baxis": {
             "endlinecolor": "#2a3f5f",
             "gridcolor": "white",
             "linecolor": "white",
             "minorgridcolor": "white",
             "startlinecolor": "#2a3f5f"
            },
            "type": "carpet"
           }
          ],
          "choropleth": [
           {
            "colorbar": {
             "outlinewidth": 0,
             "ticks": ""
            },
            "type": "choropleth"
           }
          ],
          "contour": [
           {
            "colorbar": {
             "outlinewidth": 0,
             "ticks": ""
            },
            "colorscale": [
             [
              0,
              "#0d0887"
             ],
             [
              0.1111111111111111,
              "#46039f"
             ],
             [
              0.2222222222222222,
              "#7201a8"
             ],
             [
              0.3333333333333333,
              "#9c179e"
             ],
             [
              0.4444444444444444,
              "#bd3786"
             ],
             [
              0.5555555555555556,
              "#d8576b"
             ],
             [
              0.6666666666666666,
              "#ed7953"
             ],
             [
              0.7777777777777778,
              "#fb9f3a"
             ],
             [
              0.8888888888888888,
              "#fdca26"
             ],
             [
              1,
              "#f0f921"
             ]
            ],
            "type": "contour"
           }
          ],
          "contourcarpet": [
           {
            "colorbar": {
             "outlinewidth": 0,
             "ticks": ""
            },
            "type": "contourcarpet"
           }
          ],
          "heatmap": [
           {
            "colorbar": {
             "outlinewidth": 0,
             "ticks": ""
            },
            "colorscale": [
             [
              0,
              "#0d0887"
             ],
             [
              0.1111111111111111,
              "#46039f"
             ],
             [
              0.2222222222222222,
              "#7201a8"
             ],
             [
              0.3333333333333333,
              "#9c179e"
             ],
             [
              0.4444444444444444,
              "#bd3786"
             ],
             [
              0.5555555555555556,
              "#d8576b"
             ],
             [
              0.6666666666666666,
              "#ed7953"
             ],
             [
              0.7777777777777778,
              "#fb9f3a"
             ],
             [
              0.8888888888888888,
              "#fdca26"
             ],
             [
              1,
              "#f0f921"
             ]
            ],
            "type": "heatmap"
           }
          ],
          "heatmapgl": [
           {
            "colorbar": {
             "outlinewidth": 0,
             "ticks": ""
            },
            "colorscale": [
             [
              0,
              "#0d0887"
             ],
             [
              0.1111111111111111,
              "#46039f"
             ],
             [
              0.2222222222222222,
              "#7201a8"
             ],
             [
              0.3333333333333333,
              "#9c179e"
             ],
             [
              0.4444444444444444,
              "#bd3786"
             ],
             [
              0.5555555555555556,
              "#d8576b"
             ],
             [
              0.6666666666666666,
              "#ed7953"
             ],
             [
              0.7777777777777778,
              "#fb9f3a"
             ],
             [
              0.8888888888888888,
              "#fdca26"
             ],
             [
              1,
              "#f0f921"
             ]
            ],
            "type": "heatmapgl"
           }
          ],
          "histogram": [
           {
            "marker": {
             "pattern": {
              "fillmode": "overlay",
              "size": 10,
              "solidity": 0.2
             }
            },
            "type": "histogram"
           }
          ],
          "histogram2d": [
           {
            "colorbar": {
             "outlinewidth": 0,
             "ticks": ""
            },
            "colorscale": [
             [
              0,
              "#0d0887"
             ],
             [
              0.1111111111111111,
              "#46039f"
             ],
             [
              0.2222222222222222,
              "#7201a8"
             ],
             [
              0.3333333333333333,
              "#9c179e"
             ],
             [
              0.4444444444444444,
              "#bd3786"
             ],
             [
              0.5555555555555556,
              "#d8576b"
             ],
             [
              0.6666666666666666,
              "#ed7953"
             ],
             [
              0.7777777777777778,
              "#fb9f3a"
             ],
             [
              0.8888888888888888,
              "#fdca26"
             ],
             [
              1,
              "#f0f921"
             ]
            ],
            "type": "histogram2d"
           }
          ],
          "histogram2dcontour": [
           {
            "colorbar": {
             "outlinewidth": 0,
             "ticks": ""
            },
            "colorscale": [
             [
              0,
              "#0d0887"
             ],
             [
              0.1111111111111111,
              "#46039f"
             ],
             [
              0.2222222222222222,
              "#7201a8"
             ],
             [
              0.3333333333333333,
              "#9c179e"
             ],
             [
              0.4444444444444444,
              "#bd3786"
             ],
             [
              0.5555555555555556,
              "#d8576b"
             ],
             [
              0.6666666666666666,
              "#ed7953"
             ],
             [
              0.7777777777777778,
              "#fb9f3a"
             ],
             [
              0.8888888888888888,
              "#fdca26"
             ],
             [
              1,
              "#f0f921"
             ]
            ],
            "type": "histogram2dcontour"
           }
          ],
          "mesh3d": [
           {
            "colorbar": {
             "outlinewidth": 0,
             "ticks": ""
            },
            "type": "mesh3d"
           }
          ],
          "parcoords": [
           {
            "line": {
             "colorbar": {
              "outlinewidth": 0,
              "ticks": ""
             }
            },
            "type": "parcoords"
           }
          ],
          "pie": [
           {
            "automargin": true,
            "type": "pie"
           }
          ],
          "scatter": [
           {
            "fillpattern": {
             "fillmode": "overlay",
             "size": 10,
             "solidity": 0.2
            },
            "type": "scatter"
           }
          ],
          "scatter3d": [
           {
            "line": {
             "colorbar": {
              "outlinewidth": 0,
              "ticks": ""
             }
            },
            "marker": {
             "colorbar": {
              "outlinewidth": 0,
              "ticks": ""
             }
            },
            "type": "scatter3d"
           }
          ],
          "scattercarpet": [
           {
            "marker": {
             "colorbar": {
              "outlinewidth": 0,
              "ticks": ""
             }
            },
            "type": "scattercarpet"
           }
          ],
          "scattergeo": [
           {
            "marker": {
             "colorbar": {
              "outlinewidth": 0,
              "ticks": ""
             }
            },
            "type": "scattergeo"
           }
          ],
          "scattergl": [
           {
            "marker": {
             "colorbar": {
              "outlinewidth": 0,
              "ticks": ""
             }
            },
            "type": "scattergl"
           }
          ],
          "scattermapbox": [
           {
            "marker": {
             "colorbar": {
              "outlinewidth": 0,
              "ticks": ""
             }
            },
            "type": "scattermapbox"
           }
          ],
          "scatterpolar": [
           {
            "marker": {
             "colorbar": {
              "outlinewidth": 0,
              "ticks": ""
             }
            },
            "type": "scatterpolar"
           }
          ],
          "scatterpolargl": [
           {
            "marker": {
             "colorbar": {
              "outlinewidth": 0,
              "ticks": ""
             }
            },
            "type": "scatterpolargl"
           }
          ],
          "scatterternary": [
           {
            "marker": {
             "colorbar": {
              "outlinewidth": 0,
              "ticks": ""
             }
            },
            "type": "scatterternary"
           }
          ],
          "surface": [
           {
            "colorbar": {
             "outlinewidth": 0,
             "ticks": ""
            },
            "colorscale": [
             [
              0,
              "#0d0887"
             ],
             [
              0.1111111111111111,
              "#46039f"
             ],
             [
              0.2222222222222222,
              "#7201a8"
             ],
             [
              0.3333333333333333,
              "#9c179e"
             ],
             [
              0.4444444444444444,
              "#bd3786"
             ],
             [
              0.5555555555555556,
              "#d8576b"
             ],
             [
              0.6666666666666666,
              "#ed7953"
             ],
             [
              0.7777777777777778,
              "#fb9f3a"
             ],
             [
              0.8888888888888888,
              "#fdca26"
             ],
             [
              1,
              "#f0f921"
             ]
            ],
            "type": "surface"
           }
          ],
          "table": [
           {
            "cells": {
             "fill": {
              "color": "#EBF0F8"
             },
             "line": {
              "color": "white"
             }
            },
            "header": {
             "fill": {
              "color": "#C8D4E3"
             },
             "line": {
              "color": "white"
             }
            },
            "type": "table"
           }
          ]
         },
         "layout": {
          "annotationdefaults": {
           "arrowcolor": "#2a3f5f",
           "arrowhead": 0,
           "arrowwidth": 1
          },
          "autotypenumbers": "strict",
          "coloraxis": {
           "colorbar": {
            "outlinewidth": 0,
            "ticks": ""
           }
          },
          "colorscale": {
           "diverging": [
            [
             0,
             "#8e0152"
            ],
            [
             0.1,
             "#c51b7d"
            ],
            [
             0.2,
             "#de77ae"
            ],
            [
             0.3,
             "#f1b6da"
            ],
            [
             0.4,
             "#fde0ef"
            ],
            [
             0.5,
             "#f7f7f7"
            ],
            [
             0.6,
             "#e6f5d0"
            ],
            [
             0.7,
             "#b8e186"
            ],
            [
             0.8,
             "#7fbc41"
            ],
            [
             0.9,
             "#4d9221"
            ],
            [
             1,
             "#276419"
            ]
           ],
           "sequential": [
            [
             0,
             "#0d0887"
            ],
            [
             0.1111111111111111,
             "#46039f"
            ],
            [
             0.2222222222222222,
             "#7201a8"
            ],
            [
             0.3333333333333333,
             "#9c179e"
            ],
            [
             0.4444444444444444,
             "#bd3786"
            ],
            [
             0.5555555555555556,
             "#d8576b"
            ],
            [
             0.6666666666666666,
             "#ed7953"
            ],
            [
             0.7777777777777778,
             "#fb9f3a"
            ],
            [
             0.8888888888888888,
             "#fdca26"
            ],
            [
             1,
             "#f0f921"
            ]
           ],
           "sequentialminus": [
            [
             0,
             "#0d0887"
            ],
            [
             0.1111111111111111,
             "#46039f"
            ],
            [
             0.2222222222222222,
             "#7201a8"
            ],
            [
             0.3333333333333333,
             "#9c179e"
            ],
            [
             0.4444444444444444,
             "#bd3786"
            ],
            [
             0.5555555555555556,
             "#d8576b"
            ],
            [
             0.6666666666666666,
             "#ed7953"
            ],
            [
             0.7777777777777778,
             "#fb9f3a"
            ],
            [
             0.8888888888888888,
             "#fdca26"
            ],
            [
             1,
             "#f0f921"
            ]
           ]
          },
          "colorway": [
           "#636efa",
           "#EF553B",
           "#00cc96",
           "#ab63fa",
           "#FFA15A",
           "#19d3f3",
           "#FF6692",
           "#B6E880",
           "#FF97FF",
           "#FECB52"
          ],
          "font": {
           "color": "#2a3f5f"
          },
          "geo": {
           "bgcolor": "white",
           "lakecolor": "white",
           "landcolor": "#E5ECF6",
           "showlakes": true,
           "showland": true,
           "subunitcolor": "white"
          },
          "hoverlabel": {
           "align": "left"
          },
          "hovermode": "closest",
          "mapbox": {
           "style": "light"
          },
          "paper_bgcolor": "white",
          "plot_bgcolor": "#E5ECF6",
          "polar": {
           "angularaxis": {
            "gridcolor": "white",
            "linecolor": "white",
            "ticks": ""
           },
           "bgcolor": "#E5ECF6",
           "radialaxis": {
            "gridcolor": "white",
            "linecolor": "white",
            "ticks": ""
           }
          },
          "scene": {
           "xaxis": {
            "backgroundcolor": "#E5ECF6",
            "gridcolor": "white",
            "gridwidth": 2,
            "linecolor": "white",
            "showbackground": true,
            "ticks": "",
            "zerolinecolor": "white"
           },
           "yaxis": {
            "backgroundcolor": "#E5ECF6",
            "gridcolor": "white",
            "gridwidth": 2,
            "linecolor": "white",
            "showbackground": true,
            "ticks": "",
            "zerolinecolor": "white"
           },
           "zaxis": {
            "backgroundcolor": "#E5ECF6",
            "gridcolor": "white",
            "gridwidth": 2,
            "linecolor": "white",
            "showbackground": true,
            "ticks": "",
            "zerolinecolor": "white"
           }
          },
          "shapedefaults": {
           "line": {
            "color": "#2a3f5f"
           }
          },
          "ternary": {
           "aaxis": {
            "gridcolor": "white",
            "linecolor": "white",
            "ticks": ""
           },
           "baxis": {
            "gridcolor": "white",
            "linecolor": "white",
            "ticks": ""
           },
           "bgcolor": "#E5ECF6",
           "caxis": {
            "gridcolor": "white",
            "linecolor": "white",
            "ticks": ""
           }
          },
          "title": {
           "x": 0.05
          },
          "xaxis": {
           "automargin": true,
           "gridcolor": "white",
           "linecolor": "white",
           "ticks": "",
           "title": {
            "standoff": 15
           },
           "zerolinecolor": "white",
           "zerolinewidth": 2
          },
          "yaxis": {
           "automargin": true,
           "gridcolor": "white",
           "linecolor": "white",
           "ticks": "",
           "title": {
            "standoff": 15
           },
           "zerolinecolor": "white",
           "zerolinewidth": 2
          }
         }
        }
       }
      }
     },
     "metadata": {},
     "output_type": "display_data"
    }
   ],
   "source": [
    "import plotly.graph_objects as go\n",
    "fig = go.Figure()\n",
    "\n",
    "# Histogram\n",
    "fig.add_trace(go.Histogram(\n",
    "    x=all_nums['#'].astype(int),\n",
    "    nbinsx=100,\n",
    "    # marker=dict(color=\"lightblue\", line=dict(width=1, color='black'))\n",
    "))\n",
    "\n",
    "for x in range(10, 70, 10): fig.add_vline(x=x, line_width=1, line_dash=\"dash\", line_color=\"black\")\n",
    "\n",
    "fig\n"
   ]
  },
  {
   "cell_type": "code",
   "execution_count": 77,
   "id": "73f95a74",
   "metadata": {},
   "outputs": [
    {
     "data": {
      "text/plain": [
       "(29, 19)"
      ]
     },
     "execution_count": 77,
     "metadata": {},
     "output_type": "execute_result"
    }
   ],
   "source": [
    "balls = [2,21,33,56,59]\n",
    "\n",
    "200-sum(balls), 190-sum(balls)"
   ]
  },
  {
   "cell_type": "code",
   "execution_count": 80,
   "id": "0d1fd8a2",
   "metadata": {},
   "outputs": [
    {
     "data": {
      "text/plain": [
       "53"
      ]
     },
     "execution_count": 80,
     "metadata": {},
     "output_type": "execute_result"
    }
   ],
   "source": [
    "197 - sum([7,19,27,67,24])"
   ]
  },
  {
   "cell_type": "code",
   "execution_count": null,
   "id": "e634c697",
   "metadata": {},
   "outputs": [],
   "source": []
  }
 ],
 "metadata": {
  "kernelspec": {
   "display_name": "Python 3",
   "language": "python",
   "name": "python3"
  },
  "language_info": {
   "codemirror_mode": {
    "name": "ipython",
    "version": 3
   },
   "file_extension": ".py",
   "mimetype": "text/x-python",
   "name": "python",
   "nbconvert_exporter": "python",
   "pygments_lexer": "ipython3",
   "version": "3.12.3"
  }
 },
 "nbformat": 4,
 "nbformat_minor": 5
}
